{
  "nbformat": 4,
  "nbformat_minor": 0,
  "metadata": {
    "colab": {
      "provenance": []
    },
    "kernelspec": {
      "name": "python3",
      "display_name": "Python 3"
    },
    "language_info": {
      "name": "python"
    }
  },
  "cells": [
    {
      "cell_type": "markdown",
      "source": [
        "# Seção 07 - Sistema de Recomendação\n",
        "### Aluno: Vinícius Trainotti"
      ],
      "metadata": {
        "id": "ZojAo6IWRSwn"
      }
    },
    {
      "cell_type": "markdown",
      "source": [
        "# Filmes - Sistema de recomendação "
      ],
      "metadata": {
        "id": "YQq50WKRRWew"
      }
    },
    {
      "cell_type": "code",
      "execution_count": 1,
      "metadata": {
        "id": "BnyV5hBcQXsK"
      },
      "outputs": [],
      "source": [
        "import tensorflow as tf\n",
        "from tensorflow.keras.layers import Input, Dense, Embedding, Flatten, Concatenate\n",
        "from tensorflow.keras.models import Model\n",
        "from tensorflow.keras.optimizers import SGD, Adam\n",
        "\n",
        "from sklearn.utils import shuffle\n",
        "\n",
        "import numpy as np\n",
        "import pandas as pd\n",
        "import matplotlib.pyplot as plt\n"
      ]
    },
    {
      "cell_type": "code",
      "source": [
        "!wget -nc http://www.razer.net.br/datasets/ml-20m.zip\n",
        "\n",
        "!unzip -n ml-20m.zip\n",
        "\n",
        "df = pd.read_csv(\"ml-20m/ratings.csv\")\n",
        "df.head()\n"
      ],
      "metadata": {
        "colab": {
          "base_uri": "https://localhost:8080/",
          "height": 553
        },
        "id": "gyhT6jhghcA6",
        "outputId": "bf9741ef-011e-4f7b-fa7a-a8e43fdd96d8"
      },
      "execution_count": 2,
      "outputs": [
        {
          "output_type": "stream",
          "name": "stdout",
          "text": [
            "--2023-04-01 15:54:04--  http://www.razer.net.br/datasets/ml-20m.zip\n",
            "Resolving www.razer.net.br (www.razer.net.br)... 178.128.150.229\n",
            "Connecting to www.razer.net.br (www.razer.net.br)|178.128.150.229|:80... connected.\n",
            "HTTP request sent, awaiting response... 200 OK\n",
            "Length: 198702078 (189M) [application/zip]\n",
            "Saving to: ‘ml-20m.zip’\n",
            "\n",
            "ml-20m.zip          100%[===================>] 189.50M   127MB/s    in 1.5s    \n",
            "\n",
            "2023-04-01 15:54:06 (127 MB/s) - ‘ml-20m.zip’ saved [198702078/198702078]\n",
            "\n",
            "Archive:  ml-20m.zip\n",
            "   creating: ml-20m/\n",
            "  inflating: ml-20m/genome-scores.csv  \n",
            "  inflating: ml-20m/genome-tags.csv  \n",
            "  inflating: ml-20m/links.csv        \n",
            "  inflating: ml-20m/movies.csv       \n",
            "  inflating: ml-20m/ratings.csv      \n",
            "  inflating: ml-20m/README.txt       \n",
            "  inflating: ml-20m/tags.csv         \n"
          ]
        },
        {
          "output_type": "execute_result",
          "data": {
            "text/plain": [
              "   userId  movieId  rating   timestamp\n",
              "0       1        2     3.5  1112486027\n",
              "1       1       29     3.5  1112484676\n",
              "2       1       32     3.5  1112484819\n",
              "3       1       47     3.5  1112484727\n",
              "4       1       50     3.5  1112484580"
            ],
            "text/html": [
              "\n",
              "  <div id=\"df-332f2fa1-eb26-4967-bf0b-d56e983d8832\">\n",
              "    <div class=\"colab-df-container\">\n",
              "      <div>\n",
              "<style scoped>\n",
              "    .dataframe tbody tr th:only-of-type {\n",
              "        vertical-align: middle;\n",
              "    }\n",
              "\n",
              "    .dataframe tbody tr th {\n",
              "        vertical-align: top;\n",
              "    }\n",
              "\n",
              "    .dataframe thead th {\n",
              "        text-align: right;\n",
              "    }\n",
              "</style>\n",
              "<table border=\"1\" class=\"dataframe\">\n",
              "  <thead>\n",
              "    <tr style=\"text-align: right;\">\n",
              "      <th></th>\n",
              "      <th>userId</th>\n",
              "      <th>movieId</th>\n",
              "      <th>rating</th>\n",
              "      <th>timestamp</th>\n",
              "    </tr>\n",
              "  </thead>\n",
              "  <tbody>\n",
              "    <tr>\n",
              "      <th>0</th>\n",
              "      <td>1</td>\n",
              "      <td>2</td>\n",
              "      <td>3.5</td>\n",
              "      <td>1112486027</td>\n",
              "    </tr>\n",
              "    <tr>\n",
              "      <th>1</th>\n",
              "      <td>1</td>\n",
              "      <td>29</td>\n",
              "      <td>3.5</td>\n",
              "      <td>1112484676</td>\n",
              "    </tr>\n",
              "    <tr>\n",
              "      <th>2</th>\n",
              "      <td>1</td>\n",
              "      <td>32</td>\n",
              "      <td>3.5</td>\n",
              "      <td>1112484819</td>\n",
              "    </tr>\n",
              "    <tr>\n",
              "      <th>3</th>\n",
              "      <td>1</td>\n",
              "      <td>47</td>\n",
              "      <td>3.5</td>\n",
              "      <td>1112484727</td>\n",
              "    </tr>\n",
              "    <tr>\n",
              "      <th>4</th>\n",
              "      <td>1</td>\n",
              "      <td>50</td>\n",
              "      <td>3.5</td>\n",
              "      <td>1112484580</td>\n",
              "    </tr>\n",
              "  </tbody>\n",
              "</table>\n",
              "</div>\n",
              "      <button class=\"colab-df-convert\" onclick=\"convertToInteractive('df-332f2fa1-eb26-4967-bf0b-d56e983d8832')\"\n",
              "              title=\"Convert this dataframe to an interactive table.\"\n",
              "              style=\"display:none;\">\n",
              "        \n",
              "  <svg xmlns=\"http://www.w3.org/2000/svg\" height=\"24px\"viewBox=\"0 0 24 24\"\n",
              "       width=\"24px\">\n",
              "    <path d=\"M0 0h24v24H0V0z\" fill=\"none\"/>\n",
              "    <path d=\"M18.56 5.44l.94 2.06.94-2.06 2.06-.94-2.06-.94-.94-2.06-.94 2.06-2.06.94zm-11 1L8.5 8.5l.94-2.06 2.06-.94-2.06-.94L8.5 2.5l-.94 2.06-2.06.94zm10 10l.94 2.06.94-2.06 2.06-.94-2.06-.94-.94-2.06-.94 2.06-2.06.94z\"/><path d=\"M17.41 7.96l-1.37-1.37c-.4-.4-.92-.59-1.43-.59-.52 0-1.04.2-1.43.59L10.3 9.45l-7.72 7.72c-.78.78-.78 2.05 0 2.83L4 21.41c.39.39.9.59 1.41.59.51 0 1.02-.2 1.41-.59l7.78-7.78 2.81-2.81c.8-.78.8-2.07 0-2.86zM5.41 20L4 18.59l7.72-7.72 1.47 1.35L5.41 20z\"/>\n",
              "  </svg>\n",
              "      </button>\n",
              "      \n",
              "  <style>\n",
              "    .colab-df-container {\n",
              "      display:flex;\n",
              "      flex-wrap:wrap;\n",
              "      gap: 12px;\n",
              "    }\n",
              "\n",
              "    .colab-df-convert {\n",
              "      background-color: #E8F0FE;\n",
              "      border: none;\n",
              "      border-radius: 50%;\n",
              "      cursor: pointer;\n",
              "      display: none;\n",
              "      fill: #1967D2;\n",
              "      height: 32px;\n",
              "      padding: 0 0 0 0;\n",
              "      width: 32px;\n",
              "    }\n",
              "\n",
              "    .colab-df-convert:hover {\n",
              "      background-color: #E2EBFA;\n",
              "      box-shadow: 0px 1px 2px rgba(60, 64, 67, 0.3), 0px 1px 3px 1px rgba(60, 64, 67, 0.15);\n",
              "      fill: #174EA6;\n",
              "    }\n",
              "\n",
              "    [theme=dark] .colab-df-convert {\n",
              "      background-color: #3B4455;\n",
              "      fill: #D2E3FC;\n",
              "    }\n",
              "\n",
              "    [theme=dark] .colab-df-convert:hover {\n",
              "      background-color: #434B5C;\n",
              "      box-shadow: 0px 1px 3px 1px rgba(0, 0, 0, 0.15);\n",
              "      filter: drop-shadow(0px 1px 2px rgba(0, 0, 0, 0.3));\n",
              "      fill: #FFFFFF;\n",
              "    }\n",
              "  </style>\n",
              "\n",
              "      <script>\n",
              "        const buttonEl =\n",
              "          document.querySelector('#df-332f2fa1-eb26-4967-bf0b-d56e983d8832 button.colab-df-convert');\n",
              "        buttonEl.style.display =\n",
              "          google.colab.kernel.accessAllowed ? 'block' : 'none';\n",
              "\n",
              "        async function convertToInteractive(key) {\n",
              "          const element = document.querySelector('#df-332f2fa1-eb26-4967-bf0b-d56e983d8832');\n",
              "          const dataTable =\n",
              "            await google.colab.kernel.invokeFunction('convertToInteractive',\n",
              "                                                     [key], {});\n",
              "          if (!dataTable) return;\n",
              "\n",
              "          const docLinkHtml = 'Like what you see? Visit the ' +\n",
              "            '<a target=\"_blank\" href=https://colab.research.google.com/notebooks/data_table.ipynb>data table notebook</a>'\n",
              "            + ' to learn more about interactive tables.';\n",
              "          element.innerHTML = '';\n",
              "          dataTable['output_type'] = 'display_data';\n",
              "          await google.colab.output.renderOutput(dataTable, element);\n",
              "          const docLink = document.createElement('div');\n",
              "          docLink.innerHTML = docLinkHtml;\n",
              "          element.appendChild(docLink);\n",
              "        }\n",
              "      </script>\n",
              "    </div>\n",
              "  </div>\n",
              "  "
            ]
          },
          "metadata": {},
          "execution_count": 2
        }
      ]
    },
    {
      "cell_type": "code",
      "source": [
        "# userId e movieId não estão no formato certo para usar \n",
        "# Embeddings, devem ser categóricos\n",
        "\n",
        "df.userId = pd.Categorical(df.userId)\n",
        "df['new_user_id'] = df.userId.cat.codes\n",
        "\n",
        "df.movieId = pd.Categorical(df.movieId)\n",
        "df['new_movie_id'] = df.movieId.cat.codes\n"
      ],
      "metadata": {
        "id": "8W9TDNF4hehi"
      },
      "execution_count": 3,
      "outputs": []
    },
    {
      "cell_type": "code",
      "source": [
        "user_ids = df['new_user_id'].values\n",
        "movie_ids = df['new_movie_id'].values\n",
        "ratings = df['rating'].values\n"
      ],
      "metadata": {
        "id": "HAeST9muhf0V"
      },
      "execution_count": 4,
      "outputs": []
    },
    {
      "cell_type": "code",
      "source": [
        "N = len(set(user_ids))\n",
        "M = len(set(movie_ids))\n",
        "\n",
        "# dimensão do embedding (tentar outros)\n",
        "K = 10\n"
      ],
      "metadata": {
        "id": "OPP-yDCOhg6p"
      },
      "execution_count": 5,
      "outputs": []
    },
    {
      "cell_type": "code",
      "source": [
        "# usuário\n",
        "u = Input(shape=(1,))\n",
        "u_emb = Embedding(N, K)(u) # saída : num_samples, 1, K\n",
        "u_emb = Flatten()(u_emb)   # saída : num_samples, K\n",
        "\n",
        "# filme\n",
        "m = Input(shape=(1,))\n",
        "m_emb = Embedding(M, K)(m)  # saída : num_samples, 1, K\n",
        "m_emb = Flatten()(m_emb)    # saída : num_samples, K\n",
        "\n",
        "x = Concatenate()([u_emb, m_emb])\n",
        "\n",
        "x = Dense(1024, activation=\"relu\")(x)\n",
        "x = Dense(1)(x)\n",
        "\n",
        "model = Model(inputs=[u, m], outputs=x)\n"
      ],
      "metadata": {
        "id": "JqTJcEinhiFV"
      },
      "execution_count": 6,
      "outputs": []
    },
    {
      "cell_type": "code",
      "source": [
        "model.compile(\n",
        "    loss=\"mse\",\n",
        "    optimizer=SGD(learning_rate=0.08, momentum=0.9)\n",
        ")\n"
      ],
      "metadata": {
        "id": "SFKU7L5shjW2"
      },
      "execution_count": 7,
      "outputs": []
    },
    {
      "cell_type": "code",
      "source": [
        "user_ids, movie_ids, ratings = shuffle(user_ids, movie_ids, ratings)\n",
        "\n",
        "Ntrain = int(0.8 * len(ratings)) # separar os dados 80% x 20%\n",
        "\n",
        "train_user = user_ids[:Ntrain]\n",
        "train_movie = movie_ids[:Ntrain]\n",
        "train_ratings = ratings[:Ntrain]\n",
        "test_user = user_ids[Ntrain:]\n",
        "test_movie = movie_ids[Ntrain:]\n",
        "test_ratings = ratings[Ntrain:]\n",
        "\n",
        "# centralizar as notas\n",
        "avg_rating = train_ratings.mean()\n",
        "train_ratings = train_ratings - avg_rating\n",
        "test_ratings = test_ratings - avg_rating\n"
      ],
      "metadata": {
        "id": "oONrJHEnhkeP"
      },
      "execution_count": 8,
      "outputs": []
    },
    {
      "cell_type": "code",
      "source": [
        "epochs = 25\n",
        "r = model.fit(\n",
        "    x=[train_user, train_movie],\n",
        "    y=train_ratings,\n",
        "    epochs=epochs,\n",
        "    batch_size=1024,\n",
        "    verbose=2, # não imprime o progresso\n",
        "    validation_data=([test_user, test_movie], test_ratings)\n",
        ")\n"
      ],
      "metadata": {
        "colab": {
          "base_uri": "https://localhost:8080/"
        },
        "id": "dfYavnXIhlw3",
        "outputId": "4bec43eb-ec65-4268-a40d-60ad2d2fa07f"
      },
      "execution_count": 9,
      "outputs": [
        {
          "output_type": "stream",
          "name": "stdout",
          "text": [
            "Epoch 1/25\n",
            "15626/15626 - 360s - loss: 0.7651 - val_loss: 0.7192 - 360s/epoch - 23ms/step\n",
            "Epoch 2/25\n",
            "15626/15626 - 349s - loss: 0.6990 - val_loss: 0.6977 - 349s/epoch - 22ms/step\n",
            "Epoch 3/25\n",
            "15626/15626 - 348s - loss: 0.6783 - val_loss: 0.6819 - 348s/epoch - 22ms/step\n",
            "Epoch 4/25\n",
            "15626/15626 - 337s - loss: 0.6635 - val_loss: 0.6744 - 337s/epoch - 22ms/step\n",
            "Epoch 5/25\n",
            "15626/15626 - 339s - loss: 0.6520 - val_loss: 0.6659 - 339s/epoch - 22ms/step\n",
            "Epoch 6/25\n",
            "15626/15626 - 347s - loss: 0.6348 - val_loss: 0.6522 - 347s/epoch - 22ms/step\n",
            "Epoch 7/25\n",
            "15626/15626 - 351s - loss: 0.6181 - val_loss: 0.6479 - 351s/epoch - 22ms/step\n",
            "Epoch 8/25\n",
            "15626/15626 - 346s - loss: 0.6070 - val_loss: 0.6410 - 346s/epoch - 22ms/step\n",
            "Epoch 9/25\n",
            "15626/15626 - 353s - loss: 0.5976 - val_loss: 0.6376 - 353s/epoch - 23ms/step\n",
            "Epoch 10/25\n",
            "15626/15626 - 351s - loss: 0.5889 - val_loss: 0.6369 - 351s/epoch - 22ms/step\n",
            "Epoch 11/25\n",
            "15626/15626 - 353s - loss: 0.5809 - val_loss: 0.6324 - 353s/epoch - 23ms/step\n",
            "Epoch 12/25\n",
            "15626/15626 - 351s - loss: 0.5739 - val_loss: 0.6338 - 351s/epoch - 22ms/step\n",
            "Epoch 13/25\n",
            "15626/15626 - 348s - loss: 0.5680 - val_loss: 0.6300 - 348s/epoch - 22ms/step\n",
            "Epoch 14/25\n",
            "15626/15626 - 348s - loss: 0.5627 - val_loss: 0.6304 - 348s/epoch - 22ms/step\n",
            "Epoch 15/25\n",
            "15626/15626 - 349s - loss: 0.5580 - val_loss: 0.6283 - 349s/epoch - 22ms/step\n",
            "Epoch 16/25\n",
            "15626/15626 - 350s - loss: 0.5538 - val_loss: 0.6271 - 350s/epoch - 22ms/step\n",
            "Epoch 17/25\n",
            "15626/15626 - 344s - loss: 0.5502 - val_loss: 0.6269 - 344s/epoch - 22ms/step\n",
            "Epoch 18/25\n",
            "15626/15626 - 345s - loss: 0.5470 - val_loss: 0.6274 - 345s/epoch - 22ms/step\n",
            "Epoch 19/25\n",
            "15626/15626 - 348s - loss: 0.5444 - val_loss: 0.6303 - 348s/epoch - 22ms/step\n",
            "Epoch 20/25\n",
            "15626/15626 - 344s - loss: 0.5418 - val_loss: 0.6276 - 344s/epoch - 22ms/step\n",
            "Epoch 21/25\n",
            "15626/15626 - 347s - loss: 0.5396 - val_loss: 0.6253 - 347s/epoch - 22ms/step\n",
            "Epoch 22/25\n",
            "15626/15626 - 350s - loss: 0.5375 - val_loss: 0.6261 - 350s/epoch - 22ms/step\n",
            "Epoch 23/25\n",
            "15626/15626 - 344s - loss: 0.5358 - val_loss: 0.6270 - 344s/epoch - 22ms/step\n",
            "Epoch 24/25\n",
            "15626/15626 - 347s - loss: 0.5340 - val_loss: 0.6277 - 347s/epoch - 22ms/step\n",
            "Epoch 25/25\n",
            "15626/15626 - 351s - loss: 0.5326 - val_loss: 0.6258 - 351s/epoch - 22ms/step\n"
          ]
        }
      ]
    },
    {
      "cell_type": "code",
      "source": [
        "plt.plot(r.history[\"loss\"], label=\"loss\")\n",
        "plt.plot(r.history[\"val_loss\"], label=\"val_loss\")\n",
        "plt.legend()\n",
        "plt.show()\n"
      ],
      "metadata": {
        "colab": {
          "base_uri": "https://localhost:8080/",
          "height": 430
        },
        "id": "sw9zZnmthnGR",
        "outputId": "d3ab568a-c84d-40a8-abb4-481e041ea3fe"
      },
      "execution_count": 10,
      "outputs": [
        {
          "output_type": "display_data",
          "data": {
            "text/plain": [
              "<Figure size 640x480 with 1 Axes>"
            ],
            "image/png": "[encoded data removed]"
          },
          "metadata": {}
        }
      ]
    },
    {
      "cell_type": "code",
      "source": [
        "# Recomendações para o usuário 73023\n",
        "\n",
        "# Gerar o array com o usuário único\n",
        "# repete a quantidade de filmes\n",
        "input_usuario = np.repeat(a=73023, repeats=M) \n",
        "film = np.array(list(set(movie_ids)))\n",
        "\n",
        "preds = model.predict( [input_usuario, film] )\n",
        "\n",
        "# descentraliza as predições\n",
        "rat = preds.flatten() + avg_rating\n",
        "\n",
        "# índice da maior nota\n",
        "idx = np.argmax(rat)\n",
        "\n",
        "print(\"Recomendação: Filme - \", film[idx], \" / \", rat[idx] , \"*\")\n"
      ],
      "metadata": {
        "colab": {
          "base_uri": "https://localhost:8080/"
        },
        "id": "Ycj4Ufckhown",
        "outputId": "f47212d4-1736-44dc-c9e8-f50592804d9d"
      },
      "execution_count": 11,
      "outputs": [
        {
          "output_type": "stream",
          "name": "stdout",
          "text": [
            "836/836 [==============================] - 4s 4ms/step\n",
            "Recomendação: Filme -  293  /  4.039221 *\n"
          ]
        }
      ]
    }
  ]
}