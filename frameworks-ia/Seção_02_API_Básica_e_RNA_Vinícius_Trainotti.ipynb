{
  "nbformat": 4,
  "nbformat_minor": 0,
  "metadata": {
    "colab": {
      "provenance": []
    },
    "kernelspec": {
      "name": "python3",
      "display_name": "Python 3"
    },
    "language_info": {
      "name": "python"
    }
  },
  "cells": [
    {
      "cell_type": "markdown",
      "source": [
        "# Seção 02 - API Básica e RNA\n",
        "### Aluno: Vinícius Trainotti"
      ],
      "metadata": {
        "id": "RNLC5khTOer0"
      }
    },
    {
      "cell_type": "markdown",
      "source": [
        "# Câncer de Mama - Rede Neurais Básico"
      ],
      "metadata": {
        "id": "kiwrQmm6OmAr"
      }
    },
    {
      "cell_type": "code",
      "source": [
        "import tensorflow as tf"
      ],
      "metadata": {
        "id": "szY0CX2GPSRP"
      },
      "execution_count": null,
      "outputs": []
    },
    {
      "cell_type": "code",
      "execution_count": null,
      "metadata": {
        "colab": {
          "base_uri": "https://localhost:8080/"
        },
        "id": "ku-T_DtROUo9",
        "outputId": "74f24ca9-a94a-4c97-d07b-29f74a836781"
      },
      "outputs": [
        {
          "output_type": "execute_result",
          "data": {
            "text/plain": [
              "dict_keys(['data', 'target', 'frame', 'target_names', 'DESCR', 'feature_names', 'filename', 'data_module'])"
            ]
          },
          "metadata": {},
          "execution_count": 1
        }
      ],
      "source": [
        "from sklearn.datasets import load_breast_cancer\n",
        "data = load_breast_cancer()\n",
        "type(data)\n",
        "data.keys()"
      ]
    },
    {
      "cell_type": "code",
      "source": [
        "data.data.shape\n",
        "data.target\n",
        "data.target_names\n",
        "data.feature_names\n",
        "data.target.shape"
      ],
      "metadata": {
        "colab": {
          "base_uri": "https://localhost:8080/"
        },
        "id": "yDlElmwXOz9b",
        "outputId": "a97bb28b-7dc3-4a81-ec18-bfd09614a137"
      },
      "execution_count": null,
      "outputs": [
        {
          "output_type": "execute_result",
          "data": {
            "text/plain": [
              "(569,)"
            ]
          },
          "metadata": {},
          "execution_count": 2
        }
      ]
    },
    {
      "cell_type": "code",
      "source": [
        "from sklearn.model_selection import train_test_split\n",
        "X_train, X_test, Y_train, Y_test = train_test_split(data.data, data.target, test_size=0.33)\n",
        "N, D = X_train.shape"
      ],
      "metadata": {
        "id": "ZzvS3JCuO3dF"
      },
      "execution_count": null,
      "outputs": []
    },
    {
      "cell_type": "code",
      "source": [
        "from sklearn.preprocessing import StandardScaler\n",
        "scaler = StandardScaler()\n",
        "X_train = scaler.fit_transform(X_train)\n",
        "X_test = scaler.transform(X_test)"
      ],
      "metadata": {
        "id": "p9oKIH7VPBzR"
      },
      "execution_count": null,
      "outputs": []
    },
    {
      "cell_type": "code",
      "source": [
        "model = tf.keras.models.Sequential( [ tf.keras.layers.Input(shape=(D,)), tf.keras.layers.Dense(1, activation='sigmoid') ] )\n",
        "#or\n",
        "#model = tf.keras.models.Sequential()\n",
        "#model.add(tf.keras.layers.Dense(1, input_shape=(D,),\n",
        "#activation='sigmoid'))\n",
        "#or\n",
        "#i = tf.keras.layers.Input(shape=(D,))\n",
        "#x = tf.keras.layers.Dense(1, activation=\"sigmoid\")(i)\n",
        "#model = tf.keras.models.Model(i, x)\n"
      ],
      "metadata": {
        "id": "oP6-VWc-PFfB"
      },
      "execution_count": null,
      "outputs": []
    },
    {
      "cell_type": "code",
      "source": [
        "model.compile(optimizer='adam',\n",
        "loss='binary_crossentropy',\n",
        "metrics=['accuracy'])"
      ],
      "metadata": {
        "id": "oIWQ7JLRPZXe"
      },
      "execution_count": null,
      "outputs": []
    },
    {
      "cell_type": "code",
      "source": [
        "r = model.fit(X_train, Y_train, validation_data=(X_test, Y_test),epochs=100)"
      ],
      "metadata": {
        "colab": {
          "base_uri": "https://localhost:8080/"
        },
        "id": "JkC_KID3Prk_",
        "outputId": "74e4b9c2-28d2-4f38-e128-412e9a3bc4d2"
      },
      "execution_count": null,
      "outputs": [
        {
          "output_type": "stream",
          "name": "stdout",
          "text": [
            "Epoch 1/100\n",
            "12/12 [==============================] - 1s 23ms/step - loss: 0.7301 - accuracy: 0.5276 - val_loss: 0.7054 - val_accuracy: 0.5532\n",
            "Epoch 2/100\n",
            "12/12 [==============================] - 0s 6ms/step - loss: 0.6534 - accuracy: 0.5906 - val_loss: 0.6326 - val_accuracy: 0.6223\n",
            "Epoch 3/100\n",
            "12/12 [==============================] - 0s 5ms/step - loss: 0.5861 - accuracy: 0.6850 - val_loss: 0.5715 - val_accuracy: 0.6968\n",
            "Epoch 4/100\n",
            "12/12 [==============================] - 0s 5ms/step - loss: 0.5299 - accuracy: 0.7638 - val_loss: 0.5206 - val_accuracy: 0.7766\n",
            "Epoch 5/100\n",
            "12/12 [==============================] - 0s 5ms/step - loss: 0.4828 - accuracy: 0.8189 - val_loss: 0.4786 - val_accuracy: 0.7979\n",
            "Epoch 6/100\n",
            "12/12 [==============================] - 0s 6ms/step - loss: 0.4448 - accuracy: 0.8478 - val_loss: 0.4434 - val_accuracy: 0.8564\n",
            "Epoch 7/100\n",
            "12/12 [==============================] - 0s 6ms/step - loss: 0.4128 - accuracy: 0.8635 - val_loss: 0.4140 - val_accuracy: 0.8670\n",
            "Epoch 8/100\n",
            "12/12 [==============================] - 0s 5ms/step - loss: 0.3860 - accuracy: 0.8766 - val_loss: 0.3892 - val_accuracy: 0.8777\n",
            "Epoch 9/100\n",
            "12/12 [==============================] - 0s 6ms/step - loss: 0.3634 - accuracy: 0.8950 - val_loss: 0.3681 - val_accuracy: 0.8989\n",
            "Epoch 10/100\n",
            "12/12 [==============================] - 0s 5ms/step - loss: 0.3442 - accuracy: 0.9029 - val_loss: 0.3496 - val_accuracy: 0.8989\n",
            "Epoch 11/100\n",
            "12/12 [==============================] - 0s 6ms/step - loss: 0.3272 - accuracy: 0.9029 - val_loss: 0.3335 - val_accuracy: 0.8989\n",
            "Epoch 12/100\n",
            "12/12 [==============================] - 0s 6ms/step - loss: 0.3124 - accuracy: 0.9108 - val_loss: 0.3193 - val_accuracy: 0.9043\n",
            "Epoch 13/100\n",
            "12/12 [==============================] - 0s 6ms/step - loss: 0.2993 - accuracy: 0.9108 - val_loss: 0.3067 - val_accuracy: 0.9043\n",
            "Epoch 14/100\n",
            "12/12 [==============================] - 0s 6ms/step - loss: 0.2878 - accuracy: 0.9186 - val_loss: 0.2952 - val_accuracy: 0.8936\n",
            "Epoch 15/100\n",
            "12/12 [==============================] - 0s 5ms/step - loss: 0.2771 - accuracy: 0.9213 - val_loss: 0.2850 - val_accuracy: 0.8936\n",
            "Epoch 16/100\n",
            "12/12 [==============================] - 0s 5ms/step - loss: 0.2676 - accuracy: 0.9239 - val_loss: 0.2757 - val_accuracy: 0.9043\n",
            "Epoch 17/100\n",
            "12/12 [==============================] - 0s 5ms/step - loss: 0.2589 - accuracy: 0.9318 - val_loss: 0.2670 - val_accuracy: 0.9096\n",
            "Epoch 18/100\n",
            "12/12 [==============================] - 0s 5ms/step - loss: 0.2510 - accuracy: 0.9370 - val_loss: 0.2591 - val_accuracy: 0.9096\n",
            "Epoch 19/100\n",
            "12/12 [==============================] - 0s 5ms/step - loss: 0.2436 - accuracy: 0.9370 - val_loss: 0.2518 - val_accuracy: 0.9202\n",
            "Epoch 20/100\n",
            "12/12 [==============================] - 0s 5ms/step - loss: 0.2369 - accuracy: 0.9370 - val_loss: 0.2448 - val_accuracy: 0.9202\n",
            "Epoch 21/100\n",
            "12/12 [==============================] - 0s 5ms/step - loss: 0.2307 - accuracy: 0.9423 - val_loss: 0.2383 - val_accuracy: 0.9149\n",
            "Epoch 22/100\n",
            "12/12 [==============================] - 0s 5ms/step - loss: 0.2246 - accuracy: 0.9449 - val_loss: 0.2324 - val_accuracy: 0.9202\n",
            "Epoch 23/100\n",
            "12/12 [==============================] - 0s 5ms/step - loss: 0.2192 - accuracy: 0.9475 - val_loss: 0.2267 - val_accuracy: 0.9202\n",
            "Epoch 24/100\n",
            "12/12 [==============================] - 0s 5ms/step - loss: 0.2141 - accuracy: 0.9475 - val_loss: 0.2214 - val_accuracy: 0.9202\n",
            "Epoch 25/100\n",
            "12/12 [==============================] - 0s 6ms/step - loss: 0.2092 - accuracy: 0.9475 - val_loss: 0.2164 - val_accuracy: 0.9202\n",
            "Epoch 26/100\n",
            "12/12 [==============================] - 0s 5ms/step - loss: 0.2047 - accuracy: 0.9449 - val_loss: 0.2117 - val_accuracy: 0.9255\n",
            "Epoch 27/100\n",
            "12/12 [==============================] - 0s 5ms/step - loss: 0.2005 - accuracy: 0.9475 - val_loss: 0.2074 - val_accuracy: 0.9309\n",
            "Epoch 28/100\n",
            "12/12 [==============================] - 0s 5ms/step - loss: 0.1964 - accuracy: 0.9475 - val_loss: 0.2031 - val_accuracy: 0.9362\n",
            "Epoch 29/100\n",
            "12/12 [==============================] - 0s 8ms/step - loss: 0.1926 - accuracy: 0.9475 - val_loss: 0.1991 - val_accuracy: 0.9362\n",
            "Epoch 30/100\n",
            "12/12 [==============================] - 0s 8ms/step - loss: 0.1891 - accuracy: 0.9501 - val_loss: 0.1953 - val_accuracy: 0.9362\n",
            "Epoch 31/100\n",
            "12/12 [==============================] - 0s 8ms/step - loss: 0.1856 - accuracy: 0.9501 - val_loss: 0.1916 - val_accuracy: 0.9362\n",
            "Epoch 32/100\n",
            "12/12 [==============================] - 0s 8ms/step - loss: 0.1824 - accuracy: 0.9501 - val_loss: 0.1881 - val_accuracy: 0.9362\n",
            "Epoch 33/100\n",
            "12/12 [==============================] - 0s 7ms/step - loss: 0.1792 - accuracy: 0.9501 - val_loss: 0.1848 - val_accuracy: 0.9362\n",
            "Epoch 34/100\n",
            "12/12 [==============================] - 0s 8ms/step - loss: 0.1763 - accuracy: 0.9501 - val_loss: 0.1816 - val_accuracy: 0.9362\n",
            "Epoch 35/100\n",
            "12/12 [==============================] - 0s 6ms/step - loss: 0.1734 - accuracy: 0.9528 - val_loss: 0.1787 - val_accuracy: 0.9362\n",
            "Epoch 36/100\n",
            "12/12 [==============================] - 0s 7ms/step - loss: 0.1708 - accuracy: 0.9528 - val_loss: 0.1757 - val_accuracy: 0.9415\n",
            "Epoch 37/100\n",
            "12/12 [==============================] - 0s 7ms/step - loss: 0.1683 - accuracy: 0.9528 - val_loss: 0.1728 - val_accuracy: 0.9415\n",
            "Epoch 38/100\n",
            "12/12 [==============================] - 0s 7ms/step - loss: 0.1657 - accuracy: 0.9528 - val_loss: 0.1703 - val_accuracy: 0.9415\n",
            "Epoch 39/100\n",
            "12/12 [==============================] - 0s 7ms/step - loss: 0.1634 - accuracy: 0.9554 - val_loss: 0.1677 - val_accuracy: 0.9468\n",
            "Epoch 40/100\n",
            "12/12 [==============================] - 0s 7ms/step - loss: 0.1612 - accuracy: 0.9554 - val_loss: 0.1652 - val_accuracy: 0.9468\n",
            "Epoch 41/100\n",
            "12/12 [==============================] - 0s 7ms/step - loss: 0.1589 - accuracy: 0.9580 - val_loss: 0.1630 - val_accuracy: 0.9468\n",
            "Epoch 42/100\n",
            "12/12 [==============================] - 0s 7ms/step - loss: 0.1569 - accuracy: 0.9580 - val_loss: 0.1607 - val_accuracy: 0.9468\n",
            "Epoch 43/100\n",
            "12/12 [==============================] - 0s 8ms/step - loss: 0.1550 - accuracy: 0.9580 - val_loss: 0.1586 - val_accuracy: 0.9468\n",
            "Epoch 44/100\n",
            "12/12 [==============================] - 0s 8ms/step - loss: 0.1531 - accuracy: 0.9580 - val_loss: 0.1562 - val_accuracy: 0.9468\n",
            "Epoch 45/100\n",
            "12/12 [==============================] - 0s 7ms/step - loss: 0.1511 - accuracy: 0.9580 - val_loss: 0.1543 - val_accuracy: 0.9521\n",
            "Epoch 46/100\n",
            "12/12 [==============================] - 0s 9ms/step - loss: 0.1494 - accuracy: 0.9580 - val_loss: 0.1522 - val_accuracy: 0.9521\n",
            "Epoch 47/100\n",
            "12/12 [==============================] - 0s 7ms/step - loss: 0.1476 - accuracy: 0.9580 - val_loss: 0.1504 - val_accuracy: 0.9521\n",
            "Epoch 48/100\n",
            "12/12 [==============================] - 0s 7ms/step - loss: 0.1460 - accuracy: 0.9580 - val_loss: 0.1487 - val_accuracy: 0.9521\n",
            "Epoch 49/100\n",
            "12/12 [==============================] - 0s 7ms/step - loss: 0.1444 - accuracy: 0.9580 - val_loss: 0.1468 - val_accuracy: 0.9521\n",
            "Epoch 50/100\n",
            "12/12 [==============================] - 0s 7ms/step - loss: 0.1428 - accuracy: 0.9580 - val_loss: 0.1451 - val_accuracy: 0.9521\n",
            "Epoch 51/100\n",
            "12/12 [==============================] - 0s 8ms/step - loss: 0.1414 - accuracy: 0.9580 - val_loss: 0.1435 - val_accuracy: 0.9521\n",
            "Epoch 52/100\n",
            "12/12 [==============================] - 0s 7ms/step - loss: 0.1399 - accuracy: 0.9580 - val_loss: 0.1419 - val_accuracy: 0.9521\n",
            "Epoch 53/100\n",
            "12/12 [==============================] - 0s 8ms/step - loss: 0.1385 - accuracy: 0.9580 - val_loss: 0.1402 - val_accuracy: 0.9521\n",
            "Epoch 54/100\n",
            "12/12 [==============================] - 0s 8ms/step - loss: 0.1371 - accuracy: 0.9633 - val_loss: 0.1388 - val_accuracy: 0.9521\n",
            "Epoch 55/100\n",
            "12/12 [==============================] - 0s 8ms/step - loss: 0.1358 - accuracy: 0.9633 - val_loss: 0.1373 - val_accuracy: 0.9521\n",
            "Epoch 56/100\n",
            "12/12 [==============================] - 0s 7ms/step - loss: 0.1345 - accuracy: 0.9633 - val_loss: 0.1359 - val_accuracy: 0.9521\n",
            "Epoch 57/100\n",
            "12/12 [==============================] - 0s 9ms/step - loss: 0.1333 - accuracy: 0.9633 - val_loss: 0.1346 - val_accuracy: 0.9521\n",
            "Epoch 58/100\n",
            "12/12 [==============================] - 0s 6ms/step - loss: 0.1321 - accuracy: 0.9633 - val_loss: 0.1332 - val_accuracy: 0.9521\n",
            "Epoch 59/100\n",
            "12/12 [==============================] - 0s 6ms/step - loss: 0.1309 - accuracy: 0.9633 - val_loss: 0.1319 - val_accuracy: 0.9574\n",
            "Epoch 60/100\n",
            "12/12 [==============================] - 0s 6ms/step - loss: 0.1298 - accuracy: 0.9633 - val_loss: 0.1307 - val_accuracy: 0.9574\n",
            "Epoch 61/100\n",
            "12/12 [==============================] - 0s 5ms/step - loss: 0.1287 - accuracy: 0.9633 - val_loss: 0.1294 - val_accuracy: 0.9574\n",
            "Epoch 62/100\n",
            "12/12 [==============================] - 0s 5ms/step - loss: 0.1276 - accuracy: 0.9633 - val_loss: 0.1281 - val_accuracy: 0.9574\n",
            "Epoch 63/100\n",
            "12/12 [==============================] - 0s 6ms/step - loss: 0.1266 - accuracy: 0.9633 - val_loss: 0.1270 - val_accuracy: 0.9574\n",
            "Epoch 64/100\n",
            "12/12 [==============================] - 0s 5ms/step - loss: 0.1255 - accuracy: 0.9633 - val_loss: 0.1259 - val_accuracy: 0.9574\n",
            "Epoch 65/100\n",
            "12/12 [==============================] - 0s 5ms/step - loss: 0.1246 - accuracy: 0.9633 - val_loss: 0.1248 - val_accuracy: 0.9574\n",
            "Epoch 66/100\n",
            "12/12 [==============================] - 0s 6ms/step - loss: 0.1236 - accuracy: 0.9633 - val_loss: 0.1237 - val_accuracy: 0.9574\n",
            "Epoch 67/100\n",
            "12/12 [==============================] - 0s 5ms/step - loss: 0.1227 - accuracy: 0.9633 - val_loss: 0.1226 - val_accuracy: 0.9574\n",
            "Epoch 68/100\n",
            "12/12 [==============================] - 0s 5ms/step - loss: 0.1217 - accuracy: 0.9633 - val_loss: 0.1217 - val_accuracy: 0.9574\n",
            "Epoch 69/100\n",
            "12/12 [==============================] - 0s 6ms/step - loss: 0.1209 - accuracy: 0.9659 - val_loss: 0.1207 - val_accuracy: 0.9574\n",
            "Epoch 70/100\n",
            "12/12 [==============================] - 0s 5ms/step - loss: 0.1200 - accuracy: 0.9659 - val_loss: 0.1197 - val_accuracy: 0.9574\n",
            "Epoch 71/100\n",
            "12/12 [==============================] - 0s 6ms/step - loss: 0.1191 - accuracy: 0.9659 - val_loss: 0.1188 - val_accuracy: 0.9574\n",
            "Epoch 72/100\n",
            "12/12 [==============================] - 0s 5ms/step - loss: 0.1183 - accuracy: 0.9659 - val_loss: 0.1178 - val_accuracy: 0.9574\n",
            "Epoch 73/100\n",
            "12/12 [==============================] - 0s 6ms/step - loss: 0.1175 - accuracy: 0.9659 - val_loss: 0.1169 - val_accuracy: 0.9628\n",
            "Epoch 74/100\n",
            "12/12 [==============================] - 0s 5ms/step - loss: 0.1167 - accuracy: 0.9659 - val_loss: 0.1160 - val_accuracy: 0.9628\n",
            "Epoch 75/100\n",
            "12/12 [==============================] - 0s 5ms/step - loss: 0.1159 - accuracy: 0.9659 - val_loss: 0.1152 - val_accuracy: 0.9628\n",
            "Epoch 76/100\n",
            "12/12 [==============================] - 0s 6ms/step - loss: 0.1152 - accuracy: 0.9659 - val_loss: 0.1143 - val_accuracy: 0.9628\n",
            "Epoch 77/100\n",
            "12/12 [==============================] - 0s 5ms/step - loss: 0.1145 - accuracy: 0.9659 - val_loss: 0.1134 - val_accuracy: 0.9681\n",
            "Epoch 78/100\n",
            "12/12 [==============================] - 0s 6ms/step - loss: 0.1138 - accuracy: 0.9659 - val_loss: 0.1126 - val_accuracy: 0.9681\n",
            "Epoch 79/100\n",
            "12/12 [==============================] - 0s 6ms/step - loss: 0.1131 - accuracy: 0.9659 - val_loss: 0.1119 - val_accuracy: 0.9681\n",
            "Epoch 80/100\n",
            "12/12 [==============================] - 0s 6ms/step - loss: 0.1124 - accuracy: 0.9659 - val_loss: 0.1112 - val_accuracy: 0.9681\n",
            "Epoch 81/100\n",
            "12/12 [==============================] - 0s 5ms/step - loss: 0.1117 - accuracy: 0.9659 - val_loss: 0.1104 - val_accuracy: 0.9681\n",
            "Epoch 82/100\n",
            "12/12 [==============================] - 0s 5ms/step - loss: 0.1111 - accuracy: 0.9659 - val_loss: 0.1095 - val_accuracy: 0.9681\n",
            "Epoch 83/100\n",
            "12/12 [==============================] - 0s 6ms/step - loss: 0.1104 - accuracy: 0.9659 - val_loss: 0.1089 - val_accuracy: 0.9681\n",
            "Epoch 84/100\n",
            "12/12 [==============================] - 0s 5ms/step - loss: 0.1098 - accuracy: 0.9685 - val_loss: 0.1083 - val_accuracy: 0.9681\n",
            "Epoch 85/100\n",
            "12/12 [==============================] - 0s 6ms/step - loss: 0.1092 - accuracy: 0.9685 - val_loss: 0.1075 - val_accuracy: 0.9681\n",
            "Epoch 86/100\n",
            "12/12 [==============================] - 0s 5ms/step - loss: 0.1086 - accuracy: 0.9711 - val_loss: 0.1069 - val_accuracy: 0.9681\n",
            "Epoch 87/100\n",
            "12/12 [==============================] - 0s 6ms/step - loss: 0.1080 - accuracy: 0.9738 - val_loss: 0.1062 - val_accuracy: 0.9681\n",
            "Epoch 88/100\n",
            "12/12 [==============================] - 0s 6ms/step - loss: 0.1074 - accuracy: 0.9738 - val_loss: 0.1056 - val_accuracy: 0.9681\n",
            "Epoch 89/100\n",
            "12/12 [==============================] - 0s 6ms/step - loss: 0.1069 - accuracy: 0.9738 - val_loss: 0.1049 - val_accuracy: 0.9734\n",
            "Epoch 90/100\n",
            "12/12 [==============================] - 0s 5ms/step - loss: 0.1063 - accuracy: 0.9738 - val_loss: 0.1042 - val_accuracy: 0.9734\n",
            "Epoch 91/100\n",
            "12/12 [==============================] - 0s 5ms/step - loss: 0.1057 - accuracy: 0.9738 - val_loss: 0.1036 - val_accuracy: 0.9734\n",
            "Epoch 92/100\n",
            "12/12 [==============================] - 0s 5ms/step - loss: 0.1052 - accuracy: 0.9738 - val_loss: 0.1031 - val_accuracy: 0.9734\n",
            "Epoch 93/100\n",
            "12/12 [==============================] - 0s 5ms/step - loss: 0.1047 - accuracy: 0.9738 - val_loss: 0.1024 - val_accuracy: 0.9734\n",
            "Epoch 94/100\n",
            "12/12 [==============================] - 0s 6ms/step - loss: 0.1042 - accuracy: 0.9738 - val_loss: 0.1019 - val_accuracy: 0.9734\n",
            "Epoch 95/100\n",
            "12/12 [==============================] - 0s 6ms/step - loss: 0.1037 - accuracy: 0.9738 - val_loss: 0.1013 - val_accuracy: 0.9734\n",
            "Epoch 96/100\n",
            "12/12 [==============================] - 0s 6ms/step - loss: 0.1032 - accuracy: 0.9738 - val_loss: 0.1008 - val_accuracy: 0.9734\n",
            "Epoch 97/100\n",
            "12/12 [==============================] - 0s 5ms/step - loss: 0.1027 - accuracy: 0.9738 - val_loss: 0.1002 - val_accuracy: 0.9734\n",
            "Epoch 98/100\n",
            "12/12 [==============================] - 0s 5ms/step - loss: 0.1022 - accuracy: 0.9738 - val_loss: 0.0997 - val_accuracy: 0.9787\n",
            "Epoch 99/100\n",
            "12/12 [==============================] - 0s 5ms/step - loss: 0.1017 - accuracy: 0.9764 - val_loss: 0.0991 - val_accuracy: 0.9787\n",
            "Epoch 100/100\n",
            "12/12 [==============================] - 0s 6ms/step - loss: 0.1013 - accuracy: 0.9764 - val_loss: 0.0986 - val_accuracy: 0.9787\n"
          ]
        }
      ]
    },
    {
      "cell_type": "code",
      "source": [
        "print(\"Train score: \", model.evaluate(X_train, Y_train))\n",
        "print(\"Test score: \", model.evaluate(X_test, Y_test))"
      ],
      "metadata": {
        "colab": {
          "base_uri": "https://localhost:8080/"
        },
        "id": "7BxGkxgjP0zZ",
        "outputId": "a9da1817-68bd-4af8-9057-e20899258518"
      },
      "execution_count": null,
      "outputs": [
        {
          "output_type": "stream",
          "name": "stdout",
          "text": [
            "12/12 [==============================] - 0s 2ms/step - loss: 0.1010 - accuracy: 0.9764\n",
            "Train score:  [0.10103047639131546, 0.9763779640197754]\n",
            "6/6 [==============================] - 0s 2ms/step - loss: 0.0986 - accuracy: 0.9787\n",
            "Test score:  [0.09860039502382278, 0.978723406791687]\n"
          ]
        }
      ]
    },
    {
      "cell_type": "code",
      "source": [
        "import matplotlib.pyplot as plt\n",
        "plt.plot(r.history['loss'], label='loss')\n",
        "plt.plot(r.history['val_loss'], label='val_loss')\n",
        "plt.legend()"
      ],
      "metadata": {
        "colab": {
          "base_uri": "https://localhost:8080/",
          "height": 282
        },
        "id": "omVkszrFP4Da",
        "outputId": "7572fe93-c228-4d8e-a0eb-e2035df42c32"
      },
      "execution_count": null,
      "outputs": [
        {
          "output_type": "execute_result",
          "data": {
            "text/plain": [
              "<matplotlib.legend.Legend at 0x7fd6dc16ec40>"
            ]
          },
          "metadata": {},
          "execution_count": 14
        },
        {
          "output_type": "display_data",
          "data": {
            "text/plain": [
              "<Figure size 432x288 with 1 Axes>"
            ],
            "image/png": "[encoded data removed]"
          },
          "metadata": {
            "needs_background": "light"
          }
        }
      ]
    },
    {
      "cell_type": "code",
      "source": [
        "plt.plot(r.history['accuracy'], label=\"acc\")\n",
        "plt.plot(r.history['val_accuracy'], label='val_acc')\n",
        "plt.legend()"
      ],
      "metadata": {
        "colab": {
          "base_uri": "https://localhost:8080/",
          "height": 286
        },
        "id": "puLc2EzaP7tK",
        "outputId": "35f11417-292d-4339-8030-6d0efbc99e51"
      },
      "execution_count": null,
      "outputs": [
        {
          "output_type": "execute_result",
          "data": {
            "text/plain": [
              "<matplotlib.legend.Legend at 0x7fd6de715730>"
            ]
          },
          "metadata": {},
          "execution_count": 15
        },
        {
          "output_type": "display_data",
          "data": {
            "text/plain": [
              "<Figure size 432x288 with 1 Axes>"
            ],
            "image/png": "[encoded data removed]"
          },
          "metadata": {
            "needs_background": "light"
          }
        }
      ]
    },
    {
      "cell_type": "code",
      "source": [
        "pred = model.predict(X_test)\n",
        "print(pred)"
      ],
      "metadata": {
        "colab": {
          "base_uri": "https://localhost:8080/"
        },
        "id": "5P2XhtX_QA9X",
        "outputId": "703813f3-89a8-4520-f329-5eb114f93c55"
      },
      "execution_count": null,
      "outputs": [
        {
          "output_type": "stream",
          "name": "stdout",
          "text": [
            "6/6 [==============================] - 0s 2ms/step\n",
            "[[1.48561805e-01]\n",
            " [4.93474662e-01]\n",
            " [9.37464368e-03]\n",
            " [1.71106134e-03]\n",
            " [9.67676818e-01]\n",
            " [1.33461681e-05]\n",
            " [4.36438859e-01]\n",
            " [4.63386551e-02]\n",
            " [6.51765168e-01]\n",
            " [7.63454616e-01]\n",
            " [9.86868739e-01]\n",
            " [9.42439556e-01]\n",
            " [9.02763307e-01]\n",
            " [9.98710215e-01]\n",
            " [3.53934348e-01]\n",
            " [1.46368198e-04]\n",
            " [9.93362784e-01]\n",
            " [1.11833364e-01]\n",
            " [9.89362299e-01]\n",
            " [9.90475655e-01]\n",
            " [1.48455834e-03]\n",
            " [9.91526961e-01]\n",
            " [9.90715206e-01]\n",
            " [9.70857441e-01]\n",
            " [1.09878182e-02]\n",
            " [9.89853978e-01]\n",
            " [9.86125112e-01]\n",
            " [7.15753675e-01]\n",
            " [1.50183826e-06]\n",
            " [6.38559520e-01]\n",
            " [1.03334367e-01]\n",
            " [1.77419352e-04]\n",
            " [4.29225806e-03]\n",
            " [1.42136450e-05]\n",
            " [6.22768164e-01]\n",
            " [1.43666042e-03]\n",
            " [3.49996611e-02]\n",
            " [9.64291930e-01]\n",
            " [1.78384711e-04]\n",
            " [9.97822523e-01]\n",
            " [3.06931301e-03]\n",
            " [9.06960011e-01]\n",
            " [9.77432609e-01]\n",
            " [9.97914851e-01]\n",
            " [8.96000326e-01]\n",
            " [4.54635965e-03]\n",
            " [5.40969551e-01]\n",
            " [7.02824182e-05]\n",
            " [9.85351652e-02]\n",
            " [9.83191967e-01]\n",
            " [9.93912995e-01]\n",
            " [9.91129935e-01]\n",
            " [1.05864217e-03]\n",
            " [9.81298745e-01]\n",
            " [9.98862326e-01]\n",
            " [9.99692142e-01]\n",
            " [7.38545880e-03]\n",
            " [8.03277433e-01]\n",
            " [4.86607241e-05]\n",
            " [8.63003969e-01]\n",
            " [5.41163562e-03]\n",
            " [5.69083512e-01]\n",
            " [8.67986023e-01]\n",
            " [9.67311144e-01]\n",
            " [9.97603476e-01]\n",
            " [9.83628154e-01]\n",
            " [6.03023567e-04]\n",
            " [7.87192225e-01]\n",
            " [2.22308881e-04]\n",
            " [9.46618326e-04]\n",
            " [1.19158742e-03]\n",
            " [9.97590303e-01]\n",
            " [2.52956171e-02]\n",
            " [9.79110003e-01]\n",
            " [9.88099754e-01]\n",
            " [9.92328525e-01]\n",
            " [1.90184005e-02]\n",
            " [9.70458150e-01]\n",
            " [9.99105990e-01]\n",
            " [6.56861445e-08]\n",
            " [4.48087230e-04]\n",
            " [9.91667390e-01]\n",
            " [9.82483506e-01]\n",
            " [6.32128775e-01]\n",
            " [9.63115513e-01]\n",
            " [9.99160469e-01]\n",
            " [9.82014775e-01]\n",
            " [7.40245031e-03]\n",
            " [9.99196053e-01]\n",
            " [8.93830001e-01]\n",
            " [9.91096675e-01]\n",
            " [6.25833645e-02]\n",
            " [8.68730068e-01]\n",
            " [9.96627629e-01]\n",
            " [6.22308612e-01]\n",
            " [9.98141289e-01]\n",
            " [6.15609348e-01]\n",
            " [9.98001397e-01]\n",
            " [9.89526868e-01]\n",
            " [9.12542582e-01]\n",
            " [9.98311460e-01]\n",
            " [9.98493135e-01]\n",
            " [6.40225597e-03]\n",
            " [9.93561447e-01]\n",
            " [9.45745230e-01]\n",
            " [9.11755741e-01]\n",
            " [9.87175643e-01]\n",
            " [9.89890337e-01]\n",
            " [9.42435622e-01]\n",
            " [4.80584458e-05]\n",
            " [9.05793604e-06]\n",
            " [4.52739623e-05]\n",
            " [1.72647268e-01]\n",
            " [8.67297828e-01]\n",
            " [9.91764545e-01]\n",
            " [9.67688620e-01]\n",
            " [9.98252571e-01]\n",
            " [9.87637579e-01]\n",
            " [2.61647452e-04]\n",
            " [9.99269366e-01]\n",
            " [8.82159889e-01]\n",
            " [4.47007478e-04]\n",
            " [9.94566441e-01]\n",
            " [4.21287818e-03]\n",
            " [9.85538721e-01]\n",
            " [9.42621827e-01]\n",
            " [2.52616227e-01]\n",
            " [9.33466613e-01]\n",
            " [9.90244031e-01]\n",
            " [9.95083809e-01]\n",
            " [9.76427495e-01]\n",
            " [8.71336124e-06]\n",
            " [6.36459445e-05]\n",
            " [9.08891141e-01]\n",
            " [9.97593224e-01]\n",
            " [9.49876368e-01]\n",
            " [9.25384581e-01]\n",
            " [3.77398938e-01]\n",
            " [8.79896879e-01]\n",
            " [9.93994832e-01]\n",
            " [3.98470424e-02]\n",
            " [9.47249681e-03]\n",
            " [8.78549337e-01]\n",
            " [9.69325900e-02]\n",
            " [5.04600048e-01]\n",
            " [9.06061828e-01]\n",
            " [9.39812303e-01]\n",
            " [9.54568803e-01]\n",
            " [9.98660505e-01]\n",
            " [9.29188728e-01]\n",
            " [9.48135138e-01]\n",
            " [9.88885403e-01]\n",
            " [1.14317241e-04]\n",
            " [1.40043034e-04]\n",
            " [9.99561608e-01]\n",
            " [9.75164592e-01]\n",
            " [2.84886897e-01]\n",
            " [9.09029154e-07]\n",
            " [9.97005701e-01]\n",
            " [9.25599635e-01]\n",
            " [5.48811338e-04]\n",
            " [6.77016377e-01]\n",
            " [9.67603087e-01]\n",
            " [9.99308765e-01]\n",
            " [4.63725299e-01]\n",
            " [9.99827266e-01]\n",
            " [9.81670439e-01]\n",
            " [9.78535593e-01]\n",
            " [2.03524768e-01]\n",
            " [5.26831821e-02]\n",
            " [9.91297841e-01]\n",
            " [8.83425653e-01]\n",
            " [1.20201241e-02]\n",
            " [1.83156022e-04]\n",
            " [9.98365521e-01]\n",
            " [7.04421103e-01]\n",
            " [9.98322666e-01]\n",
            " [9.84003544e-01]\n",
            " [9.91500616e-01]\n",
            " [8.04173946e-01]\n",
            " [9.88641679e-01]\n",
            " [9.09257159e-02]\n",
            " [2.52923846e-01]\n",
            " [9.99050617e-01]\n",
            " [3.57833147e-01]\n",
            " [1.66698601e-02]\n",
            " [1.15485187e-03]\n",
            " [9.67050374e-01]]\n"
          ]
        }
      ]
    },
    {
      "cell_type": "code",
      "source": [
        "import numpy as np\n",
        "# flatten: transformar em vetor, pois está em matriz (N,1)\n",
        "pred = np.round(pred).flatten()\n",
        "print(pred)"
      ],
      "metadata": {
        "colab": {
          "base_uri": "https://localhost:8080/"
        },
        "id": "mDRcbEndQFM5",
        "outputId": "ea6b0c3e-d0b7-4d82-ba50-562d12c84505"
      },
      "execution_count": null,
      "outputs": [
        {
          "output_type": "stream",
          "name": "stdout",
          "text": [
            "[0. 0. 0. 0. 1. 0. 0. 0. 1. 1. 1. 1. 1. 1. 0. 0. 1. 0. 1. 1. 0. 1. 1. 1.\n",
            " 0. 1. 1. 1. 0. 1. 0. 0. 0. 0. 1. 0. 0. 1. 0. 1. 0. 1. 1. 1. 1. 0. 1. 0.\n",
            " 0. 1. 1. 1. 0. 1. 1. 1. 0. 1. 0. 1. 0. 1. 1. 1. 1. 1. 0. 1. 0. 0. 0. 1.\n",
            " 0. 1. 1. 1. 0. 1. 1. 0. 0. 1. 1. 1. 1. 1. 1. 0. 1. 1. 1. 0. 1. 1. 1. 1.\n",
            " 1. 1. 1. 1. 1. 1. 0. 1. 1. 1. 1. 1. 1. 0. 0. 0. 0. 1. 1. 1. 1. 1. 0. 1.\n",
            " 1. 0. 1. 0. 1. 1. 0. 1. 1. 1. 1. 0. 0. 1. 1. 1. 1. 0. 1. 1. 0. 0. 1. 0.\n",
            " 1. 1. 1. 1. 1. 1. 1. 1. 0. 0. 1. 1. 0. 0. 1. 1. 0. 1. 1. 1. 0. 1. 1. 1.\n",
            " 0. 0. 1. 1. 0. 0. 1. 1. 1. 1. 1. 1. 1. 0. 0. 1. 0. 0. 0. 1.]\n"
          ]
        }
      ]
    },
    {
      "cell_type": "code",
      "source": [
        "print(\"Acurácia na mão: \", np.mean(pred == Y_test))\n",
        "print(\"Evaluate: \", model.evaluate(X_test, Y_test))\n",
        "print(\"\")\n",
        "print(\"Acurácia: \", model.evaluate(X_test, Y_test)[1])"
      ],
      "metadata": {
        "colab": {
          "base_uri": "https://localhost:8080/"
        },
        "id": "HicS5TuXQIvx",
        "outputId": "f886d609-5bd2-402b-f31e-f49bd0c511eb"
      },
      "execution_count": null,
      "outputs": [
        {
          "output_type": "stream",
          "name": "stdout",
          "text": [
            "Acurácia na mão:  0.9787234042553191\n",
            "6/6 [==============================] - 0s 3ms/step - loss: 0.0986 - accuracy: 0.9787\n",
            "Evaluate:  [0.09860039502382278, 0.978723406791687]\n",
            "\n",
            "6/6 [==============================] - 0s 3ms/step - loss: 0.0986 - accuracy: 0.9787\n",
            "Acurácia:  0.978723406791687\n"
          ]
        }
      ]
    },
    {
      "cell_type": "code",
      "source": [
        "# Mostrar a matriz de confusão\n",
        "from mlxtend.plotting import plot_confusion_matrix\n",
        "from sklearn.metrics import confusion_matrix\n",
        "cm = confusion_matrix(Y_test, pred)\n",
        "plot_confusion_matrix(conf_mat=cm, figsize=(7, 7), show_normed=True)"
      ],
      "metadata": {
        "colab": {
          "base_uri": "https://localhost:8080/",
          "height": 477
        },
        "id": "UaeiovIwQLaa",
        "outputId": "10ae38d5-8438-43b7-adc1-73f55053f7da"
      },
      "execution_count": null,
      "outputs": [
        {
          "output_type": "execute_result",
          "data": {
            "text/plain": [
              "(<Figure size 504x504 with 1 Axes>,\n",
              " <Axes: xlabel='predicted label', ylabel='true label'>)"
            ]
          },
          "metadata": {},
          "execution_count": 19
        },
        {
          "output_type": "display_data",
          "data": {
            "text/plain": [
              "<Figure size 504x504 with 1 Axes>"
            ],
            "image/png": "[encoded data removed]"
          },
          "metadata": {
            "needs_background": "light"
          }
        }
      ]
    },
    {
      "cell_type": "markdown",
      "source": [
        "# MNIST - Reconhecimento de dígitos"
      ],
      "metadata": {
        "id": "mO3yUh7iQRSq"
      }
    },
    {
      "cell_type": "code",
      "source": [
        "from mlxtend.plotting import plot_confusion_matrix\n",
        "from sklearn.metrics import confusion_matrix\n",
        "(x_train, y_train), (x_test, y_test) = tf.keras.datasets.mnist.load_data()\n",
        "print(\"x_train.shape: \", x_train.shape)\n",
        "print(\"y_train.shape: \", y_train.shape)\n",
        "print(\"x_test.shape: \", y_test.shape)\n",
        "print(\"y_test.shape: \", y_test.shape)"
      ],
      "metadata": {
        "colab": {
          "base_uri": "https://localhost:8080/"
        },
        "id": "nKAXmINPQSoC",
        "outputId": "9e0630fc-5a32-4554-99f7-27ac50486140"
      },
      "execution_count": null,
      "outputs": [
        {
          "output_type": "stream",
          "name": "stdout",
          "text": [
            "Downloading data from https://storage.googleapis.com/tensorflow/tf-keras-datasets/mnist.npz\n",
            "11490434/11490434 [==============================] - 0s 0us/step\n",
            "x_train.shape:  (60000, 28, 28)\n",
            "y_train.shape:  (60000,)\n",
            "x_test.shape:  (10000,)\n",
            "y_test.shape:  (10000,)\n"
          ]
        }
      ]
    },
    {
      "cell_type": "code",
      "source": [
        "x_train, x_test = x_train/255.0, x_test/255.0"
      ],
      "metadata": {
        "id": "N9u0sFCSQxlF"
      },
      "execution_count": null,
      "outputs": []
    },
    {
      "cell_type": "code",
      "source": [
        "i = tf.keras.layers.Input(shape=(28, 28))\n",
        "x = tf.keras.layers.Flatten()(i)\n",
        "x = tf.keras.layers.Dense(128, activation=\"relu\")(x)\n",
        "x = tf.keras.layers.Dropout(0.2)(x)\n",
        "x = tf.keras.layers.Dense(10, activation=\"softmax\")(x)\n",
        "model = tf.keras.models.Model(i, x)"
      ],
      "metadata": {
        "id": "WwZXRGHEQ1N_"
      },
      "execution_count": null,
      "outputs": []
    },
    {
      "cell_type": "code",
      "source": [
        "model.compile(optimizer='adam',\n",
        "loss='sparse_categorical_crossentropy',\n",
        "metrics=['accuracy'])\n",
        "r = model.fit(x_train,\n",
        "y_train,\n",
        "validation_data=(x_test, y_test),\n",
        "epochs=10)"
      ],
      "metadata": {
        "colab": {
          "base_uri": "https://localhost:8080/"
        },
        "id": "c756sAvlQ4xo",
        "outputId": "42bfd9be-2eb2-44e7-e3d9-05c8c2913a48"
      },
      "execution_count": null,
      "outputs": [
        {
          "output_type": "stream",
          "name": "stdout",
          "text": [
            "Epoch 1/10\n",
            "1875/1875 [==============================] - 10s 5ms/step - loss: 0.3018 - accuracy: 0.9127 - val_loss: 0.1441 - val_accuracy: 0.9583\n",
            "Epoch 2/10\n",
            "1875/1875 [==============================] - 9s 5ms/step - loss: 0.1460 - accuracy: 0.9574 - val_loss: 0.1019 - val_accuracy: 0.9703\n",
            "Epoch 3/10\n",
            "1875/1875 [==============================] - 9s 5ms/step - loss: 0.1130 - accuracy: 0.9657 - val_loss: 0.0871 - val_accuracy: 0.9749\n",
            "Epoch 4/10\n",
            "1875/1875 [==============================] - 10s 6ms/step - loss: 0.0897 - accuracy: 0.9726 - val_loss: 0.0823 - val_accuracy: 0.9766\n",
            "Epoch 5/10\n",
            "1875/1875 [==============================] - 9s 5ms/step - loss: 0.0788 - accuracy: 0.9761 - val_loss: 0.0790 - val_accuracy: 0.9763\n",
            "Epoch 6/10\n",
            "1875/1875 [==============================] - 9s 5ms/step - loss: 0.0689 - accuracy: 0.9784 - val_loss: 0.0772 - val_accuracy: 0.9766\n",
            "Epoch 7/10\n",
            "1875/1875 [==============================] - 7s 4ms/step - loss: 0.0613 - accuracy: 0.9802 - val_loss: 0.0744 - val_accuracy: 0.9764\n",
            "Epoch 8/10\n",
            "1875/1875 [==============================] - 8s 5ms/step - loss: 0.0533 - accuracy: 0.9831 - val_loss: 0.0754 - val_accuracy: 0.9773\n",
            "Epoch 9/10\n",
            "1875/1875 [==============================] - 7s 4ms/step - loss: 0.0498 - accuracy: 0.9836 - val_loss: 0.0749 - val_accuracy: 0.9774\n",
            "Epoch 10/10\n",
            "1875/1875 [==============================] - 8s 4ms/step - loss: 0.0465 - accuracy: 0.9849 - val_loss: 0.0765 - val_accuracy: 0.9784\n"
          ]
        }
      ]
    },
    {
      "cell_type": "code",
      "source": [
        "# Plotar a função de perda\n",
        "plt.plot(r.history[\"loss\"], label=\"loss\")\n",
        "plt.plot(r.history[\"val_loss\"], label=\"val_loss\")\n",
        "plt.legend()\n",
        "# Plotar a acurácia\n",
        "plt.plot(r.history[\"accuracy\"], label=\"acc\")\n",
        "plt.plot(r.history[\"val_accuracy\"], label=\"val_acc\")\n",
        "plt.legend()\n",
        "# Avaliar o modelo com a base de teste\n",
        "print( model.evaluate(x_test, y_test) )"
      ],
      "metadata": {
        "colab": {
          "base_uri": "https://localhost:8080/",
          "height": 300
        },
        "id": "dm-pbtHdQ9fi",
        "outputId": "4ae1ea3c-68a9-4d77-ff1b-63b4ad61b05c"
      },
      "execution_count": null,
      "outputs": [
        {
          "output_type": "stream",
          "name": "stdout",
          "text": [
            "313/313 [==============================] - 1s 3ms/step - loss: 0.0765 - accuracy: 0.9784\n",
            "[0.07645390182733536, 0.9783999919891357]\n"
          ]
        },
        {
          "output_type": "display_data",
          "data": {
            "text/plain": [
              "<Figure size 432x288 with 1 Axes>"
            ],
            "image/png": "[encoded data removed]"
          },
          "metadata": {
            "needs_background": "light"
          }
        }
      ]
    },
    {
      "cell_type": "code",
      "source": [
        "# Efetuar predições\n",
        "y_pred = model.predict(x_test).argmax(axis=1)\n",
        "# Mostrar a matriz de confusão\n",
        "cm = confusion_matrix(y_test, y_pred)\n",
        "plot_confusion_matrix(conf_mat=cm, figsize=(7, 7),\n",
        "show_normed=True)"
      ],
      "metadata": {
        "colab": {
          "base_uri": "https://localhost:8080/",
          "height": 494
        },
        "id": "rWpIDNZeQ_wX",
        "outputId": "65462b29-abe8-404c-b000-93915f8d5539"
      },
      "execution_count": null,
      "outputs": [
        {
          "output_type": "stream",
          "name": "stdout",
          "text": [
            "313/313 [==============================] - 1s 2ms/step\n"
          ]
        },
        {
          "output_type": "execute_result",
          "data": {
            "text/plain": [
              "(<Figure size 504x504 with 1 Axes>,\n",
              " <Axes: xlabel='predicted label', ylabel='true label'>)"
            ]
          },
          "metadata": {},
          "execution_count": 27
        },
        {
          "output_type": "display_data",
          "data": {
            "text/plain": [
              "<Figure size 504x504 with 1 Axes>"
            ],
            "image/png": "[encoded data removed]"
          },
          "metadata": {
            "needs_background": "light"
          }
        }
      ]
    },
    {
      "cell_type": "code",
      "source": [
        "# mostrar algumas classificações erradas\n",
        "misclassified = np.where(y_pred != y_test)[0]\n",
        "i = np.random.choice(misclassified)\n",
        "plt.imshow(x_test[i].reshape(28, 28), cmap=\"gray\")\n",
        "plt.title(\"True label: %s Predicted: %s\" % (y_test[i], y_pred[i]))"
      ],
      "metadata": {
        "colab": {
          "base_uri": "https://localhost:8080/",
          "height": 298
        },
        "id": "mBLT39ErRCYM",
        "outputId": "805710e9-b635-4a7d-b07e-e0e982273cc6"
      },
      "execution_count": null,
      "outputs": [
        {
          "output_type": "execute_result",
          "data": {
            "text/plain": [
              "Text(0.5, 1.0, 'True label: 7 Predicted: 0')"
            ]
          },
          "metadata": {},
          "execution_count": 29
        },
        {
          "output_type": "display_data",
          "data": {
            "text/plain": [
              "<Figure size 432x288 with 1 Axes>"
            ],
            "image/png": "[encoded data removed]"
          },
          "metadata": {
            "needs_background": "light"
          }
        }
      ]
    },
    {
      "cell_type": "markdown",
      "source": [
        "# Biomassa: Predição de Biomassa"
      ],
      "metadata": {
        "id": "lFboI3lFmMSh"
      }
    },
    {
      "cell_type": "code",
      "source": [
        "import tensorflow as tf\n",
        "import pandas as pd\n",
        "import numpy as np\n",
        "import matplotlib.pyplot as plt\n",
        "from tensorflow.python.keras import backend\n",
        "from sklearn.model_selection import train_test_split\n",
        "from sklearn.metrics import r2_score, mean_squared_error\n",
        "from math import sqrt\n",
        "tf.__version__"
      ],
      "metadata": {
        "colab": {
          "base_uri": "https://localhost:8080/",
          "height": 35
        },
        "id": "xcmMN3rHmNrG",
        "outputId": "4e168566-ee14-489c-c3b6-78ec6b84da54"
      },
      "execution_count": null,
      "outputs": [
        {
          "output_type": "execute_result",
          "data": {
            "text/plain": [
              "'2.11.0'"
            ],
            "application/vnd.google.colaboratory.intrinsic+json": {
              "type": "string"
            }
          },
          "metadata": {},
          "execution_count": 1
        }
      ]
    },
    {
      "cell_type": "code",
      "source": [
        "!wget http://www.razer.net.br/datasets/Biomassa_REG.csv\n",
        "data = pd.read_csv(\"Biomassa_REG.csv\", sep=\";\", decimal=\n",
        "\",\").values\n",
        "X = data[:,0:3].astype(float)\n",
        "Y = data[:,3].astype(float)"
      ],
      "metadata": {
        "colab": {
          "base_uri": "https://localhost:8080/"
        },
        "id": "fGUKvE6tmlo6",
        "outputId": "e306f4c4-1590-4117-add9-21d7995d6c43"
      },
      "execution_count": null,
      "outputs": [
        {
          "output_type": "stream",
          "name": "stdout",
          "text": [
            "--2023-03-25 16:29:24--  http://www.razer.net.br/datasets/Biomassa_REG.csv\n",
            "Resolving www.razer.net.br (www.razer.net.br)... 178.128.150.229\n",
            "Connecting to www.razer.net.br (www.razer.net.br)|178.128.150.229|:80... connected.\n",
            "HTTP request sent, awaiting response... 200 OK\n",
            "Length: 82988 (81K) [text/csv]\n",
            "Saving to: ‘Biomassa_REG.csv’\n",
            "\n",
            "Biomassa_REG.csv    100%[===================>]  81.04K  --.-KB/s    in 0.1s    \n",
            "\n",
            "2023-03-25 16:29:25 (678 KB/s) - ‘Biomassa_REG.csv’ saved [82988/82988]\n",
            "\n"
          ]
        }
      ]
    },
    {
      "cell_type": "code",
      "source": [
        "x_train, x_test, y_train, y_test = train_test_split(X, Y, test_size=0.33)\n",
        "dap_train = x_train[:,0]\n",
        "h_train = x_train[:,1]\n",
        "dap_test = x_test[:,0]\n",
        "h_test = x_test[:,1]"
      ],
      "metadata": {
        "id": "73FmZg2AmqgR"
      },
      "execution_count": null,
      "outputs": []
    },
    {
      "cell_type": "code",
      "source": [
        "i = tf.keras.layers.Input(shape=(3,))\n",
        "x = tf.keras.layers.Dense(50, activation=\"relu\")(i)\n",
        "x = tf.keras.layers.Dense(1)(x)\n",
        "model = tf.keras.models.Model(i, x)"
      ],
      "metadata": {
        "id": "yLPFq5MqmvOr"
      },
      "execution_count": null,
      "outputs": []
    },
    {
      "cell_type": "code",
      "source": [
        "def rmse(y_true, y_pred):\n",
        "  return backend.sqrt(backend.mean( backend.square(y_pred - y_true), axis=-1) )\n",
        "def r2(y_true, y_pred):\n",
        "  media = backend.mean(y_true)\n",
        "  num = backend.sum (backend.square(y_true - y_pred))\n",
        "  den = backend.sum (backend.square(y_true - media))\n",
        "  return (1.0 - num/den)"
      ],
      "metadata": {
        "id": "InktbyDBm2bB"
      },
      "execution_count": null,
      "outputs": []
    },
    {
      "cell_type": "code",
      "source": [
        "optimizer=tf.keras.optimizers.Adam(learning_rate=0.05)\n",
        "# optimizer=tf.keras.optimizers.SGD(learning_rate=0.2, momentum=0.5)\n",
        "# optimizer=tf.keras.optimizers.RMSprop(0.01)\n",
        "model.compile(optimizer=optimizer,\n",
        "loss=\"mse\",\n",
        "metrics=[rmse, r2])"
      ],
      "metadata": {
        "id": "eQUGKNFXm7q1"
      },
      "execution_count": null,
      "outputs": []
    },
    {
      "cell_type": "code",
      "source": [
        "early_stop = tf.keras.callbacks.EarlyStopping(monitor='val_loss',patience=20,restore_best_weights=True)\n",
        "r = model.fit(x_train, y_train,\n",
        "epochs=1500,\n",
        "validation_data=(x_test, y_test),\n",
        "callbacks=[early_stop])"
      ],
      "metadata": {
        "colab": {
          "base_uri": "https://localhost:8080/"
        },
        "id": "uE-c-UbIm-yZ",
        "outputId": "540acf81-963e-445d-837a-d0e99ca52de7"
      },
      "execution_count": null,
      "outputs": [
        {
          "output_type": "stream",
          "name": "stdout",
          "text": [
            "Epoch 1/1500\n",
            "84/84 [==============================] - 2s 6ms/step - loss: 12715449.0000 - rmse: 1311.9037 - r2: -0.1628 - val_loss: 6278316.5000 - val_rmse: 1348.0071 - val_r2: -0.1562\n",
            "Epoch 2/1500\n",
            "84/84 [==============================] - 0s 3ms/step - loss: 9215533.0000 - rmse: 1480.8468 - r2: -0.2839 - val_loss: 5247612.5000 - val_rmse: 995.0413 - val_r2: 0.2841\n",
            "Epoch 3/1500\n",
            "84/84 [==============================] - 0s 3ms/step - loss: 8006705.0000 - rmse: 1122.2935 - r2: -0.6900 - val_loss: 4101123.7500 - val_rmse: 1079.2715 - val_r2: -0.1131\n",
            "Epoch 4/1500\n",
            "84/84 [==============================] - 0s 4ms/step - loss: 7377144.0000 - rmse: 1038.5579 - r2: 0.0529 - val_loss: 3973066.2500 - val_rmse: 682.5215 - val_r2: 0.4792\n",
            "Epoch 5/1500\n",
            "84/84 [==============================] - 0s 3ms/step - loss: 6815592.0000 - rmse: 881.0782 - r2: -0.0866 - val_loss: 3587942.2500 - val_rmse: 684.8145 - val_r2: 0.4185\n",
            "Epoch 6/1500\n",
            "84/84 [==============================] - 0s 3ms/step - loss: 6502953.0000 - rmse: 812.2195 - r2: 0.1882 - val_loss: 3338501.7500 - val_rmse: 741.6801 - val_r2: 0.2180\n",
            "Epoch 7/1500\n",
            "84/84 [==============================] - 0s 3ms/step - loss: 6339107.0000 - rmse: 809.3553 - r2: -0.2110 - val_loss: 3388502.2500 - val_rmse: 765.7582 - val_r2: 0.1042\n",
            "Epoch 8/1500\n",
            "84/84 [==============================] - 0s 3ms/step - loss: 6301398.0000 - rmse: 812.3231 - r2: 0.1622 - val_loss: 3249596.5000 - val_rmse: 703.7995 - val_r2: 0.2500\n",
            "Epoch 9/1500\n",
            "84/84 [==============================] - 0s 3ms/step - loss: 6107085.0000 - rmse: 740.9893 - r2: 0.4160 - val_loss: 3581940.7500 - val_rmse: 771.1392 - val_r2: -0.0016\n",
            "Epoch 10/1500\n",
            "84/84 [==============================] - 0s 3ms/step - loss: 5917772.5000 - rmse: 728.2705 - r2: 0.2620 - val_loss: 3241735.2500 - val_rmse: 692.7119 - val_r2: 0.2152\n",
            "Epoch 11/1500\n",
            "84/84 [==============================] - 0s 3ms/step - loss: 5917967.5000 - rmse: 712.5087 - r2: 0.3263 - val_loss: 3247998.7500 - val_rmse: 684.3885 - val_r2: 0.2137\n",
            "Epoch 12/1500\n",
            "84/84 [==============================] - 0s 3ms/step - loss: 5836553.0000 - rmse: 688.3086 - r2: 0.3552 - val_loss: 3395148.2500 - val_rmse: 701.3439 - val_r2: 0.1373\n",
            "Epoch 13/1500\n",
            "84/84 [==============================] - 0s 3ms/step - loss: 5721841.0000 - rmse: 689.3866 - r2: 0.3942 - val_loss: 3037614.2500 - val_rmse: 603.6429 - val_r2: 0.4738\n",
            "Epoch 14/1500\n",
            "84/84 [==============================] - 0s 3ms/step - loss: 5665588.0000 - rmse: 656.7316 - r2: 0.1874 - val_loss: 3612874.5000 - val_rmse: 714.2547 - val_r2: 0.0653\n",
            "Epoch 15/1500\n",
            "84/84 [==============================] - 0s 3ms/step - loss: 5733769.5000 - rmse: 676.7769 - r2: 0.1528 - val_loss: 3017336.0000 - val_rmse: 608.8966 - val_r2: 0.3605\n",
            "Epoch 16/1500\n",
            "84/84 [==============================] - 0s 3ms/step - loss: 5604504.5000 - rmse: 645.8495 - r2: 0.4466 - val_loss: 3488908.2500 - val_rmse: 678.0210 - val_r2: 0.1370\n",
            "Epoch 17/1500\n",
            "84/84 [==============================] - 0s 3ms/step - loss: 5499763.0000 - rmse: 640.4359 - r2: 0.2795 - val_loss: 2962752.0000 - val_rmse: 589.2551 - val_r2: 0.3823\n",
            "Epoch 18/1500\n",
            "84/84 [==============================] - 0s 3ms/step - loss: 5465588.0000 - rmse: 602.8300 - r2: 0.2901 - val_loss: 2892255.0000 - val_rmse: 577.7848 - val_r2: 0.4057\n",
            "Epoch 19/1500\n",
            "84/84 [==============================] - 0s 3ms/step - loss: 5370964.0000 - rmse: 636.6456 - r2: 0.2383 - val_loss: 3035576.2500 - val_rmse: 599.7115 - val_r2: 0.3271\n",
            "Epoch 20/1500\n",
            "84/84 [==============================] - 0s 3ms/step - loss: 5429228.5000 - rmse: 623.7698 - r2: 0.3254 - val_loss: 2774176.5000 - val_rmse: 544.6638 - val_r2: 0.5062\n",
            "Epoch 21/1500\n",
            "84/84 [==============================] - 0s 3ms/step - loss: 5293864.5000 - rmse: 592.1718 - r2: 0.4278 - val_loss: 3062885.7500 - val_rmse: 594.5472 - val_r2: 0.3166\n",
            "Epoch 22/1500\n",
            "84/84 [==============================] - 0s 3ms/step - loss: 5250932.0000 - rmse: 577.7519 - r2: 0.4585 - val_loss: 3084142.5000 - val_rmse: 597.9232 - val_r2: 0.3051\n",
            "Epoch 23/1500\n",
            "84/84 [==============================] - 0s 3ms/step - loss: 5143141.5000 - rmse: 580.6186 - r2: 0.4967 - val_loss: 2823404.0000 - val_rmse: 557.5869 - val_r2: 0.4136\n",
            "Epoch 24/1500\n",
            "84/84 [==============================] - 0s 4ms/step - loss: 5210080.5000 - rmse: 589.0479 - r2: 0.5069 - val_loss: 2832852.5000 - val_rmse: 555.6295 - val_r2: 0.4093\n",
            "Epoch 25/1500\n",
            "84/84 [==============================] - 0s 4ms/step - loss: 5112978.0000 - rmse: 571.2714 - r2: 0.3545 - val_loss: 2778325.5000 - val_rmse: 543.6727 - val_r2: 0.4357\n",
            "Epoch 26/1500\n",
            "84/84 [==============================] - 0s 4ms/step - loss: 5067063.0000 - rmse: 552.6993 - r2: 0.4299 - val_loss: 3029044.7500 - val_rmse: 579.1678 - val_r2: 0.3293\n",
            "Epoch 27/1500\n",
            "84/84 [==============================] - 0s 5ms/step - loss: 5234181.5000 - rmse: 590.8381 - r2: 0.4031 - val_loss: 2717188.5000 - val_rmse: 511.6954 - val_r2: 0.6167\n",
            "Epoch 28/1500\n",
            "84/84 [==============================] - 0s 5ms/step - loss: 4977136.0000 - rmse: 542.9079 - r2: 0.5851 - val_loss: 2753351.7500 - val_rmse: 538.7669 - val_r2: 0.4365\n",
            "Epoch 29/1500\n",
            "84/84 [==============================] - 0s 5ms/step - loss: 4964194.5000 - rmse: 540.1384 - r2: 0.5646 - val_loss: 3219992.5000 - val_rmse: 599.6699 - val_r2: 0.2691\n",
            "Epoch 30/1500\n",
            "84/84 [==============================] - 0s 5ms/step - loss: 4993247.0000 - rmse: 570.3108 - r2: 0.5453 - val_loss: 2953657.2500 - val_rmse: 560.5273 - val_r2: 0.3620\n",
            "Epoch 31/1500\n",
            "84/84 [==============================] - 0s 3ms/step - loss: 4971238.0000 - rmse: 542.1254 - r2: 0.5061 - val_loss: 2563697.0000 - val_rmse: 507.8480 - val_r2: 0.5228\n",
            "Epoch 32/1500\n",
            "84/84 [==============================] - 0s 3ms/step - loss: 4882561.0000 - rmse: 546.1533 - r2: 0.5132 - val_loss: 2939893.0000 - val_rmse: 556.3924 - val_r2: 0.3689\n",
            "Epoch 33/1500\n",
            "84/84 [==============================] - 0s 3ms/step - loss: 4913212.0000 - rmse: 535.1547 - r2: 0.5518 - val_loss: 3141233.5000 - val_rmse: 577.6559 - val_r2: 0.3082\n",
            "Epoch 34/1500\n",
            "84/84 [==============================] - 0s 3ms/step - loss: 5044346.0000 - rmse: 561.7230 - r2: 0.3780 - val_loss: 2536807.2500 - val_rmse: 507.2514 - val_r2: 0.5211\n",
            "Epoch 35/1500\n",
            "84/84 [==============================] - 0s 3ms/step - loss: 4796768.0000 - rmse: 534.7994 - r2: 0.4835 - val_loss: 2440833.7500 - val_rmse: 484.5249 - val_r2: 0.6151\n",
            "Epoch 36/1500\n",
            "84/84 [==============================] - 0s 3ms/step - loss: 4836468.0000 - rmse: 544.2604 - r2: 0.5006 - val_loss: 2959633.0000 - val_rmse: 553.7103 - val_r2: 0.3698\n",
            "Epoch 37/1500\n",
            "84/84 [==============================] - 0s 3ms/step - loss: 4730892.0000 - rmse: 532.3733 - r2: 0.4112 - val_loss: 2445875.0000 - val_rmse: 480.3969 - val_r2: 0.6458\n",
            "Epoch 38/1500\n",
            "84/84 [==============================] - 0s 3ms/step - loss: 4775413.5000 - rmse: 535.7818 - r2: 0.5108 - val_loss: 2400013.0000 - val_rmse: 474.9543 - val_r2: 0.6315\n",
            "Epoch 39/1500\n",
            "84/84 [==============================] - 0s 3ms/step - loss: 4659178.5000 - rmse: 511.2006 - r2: 0.5880 - val_loss: 3333297.7500 - val_rmse: 589.9066 - val_r2: 0.2717\n",
            "Epoch 40/1500\n",
            "84/84 [==============================] - 0s 3ms/step - loss: 4648282.5000 - rmse: 530.4975 - r2: 0.2020 - val_loss: 2999576.0000 - val_rmse: 547.2204 - val_r2: 0.3720\n",
            "Epoch 41/1500\n",
            "84/84 [==============================] - 0s 3ms/step - loss: 5124590.0000 - rmse: 529.6257 - r2: 0.4871 - val_loss: 3033353.2500 - val_rmse: 551.5292 - val_r2: 0.3625\n",
            "Epoch 42/1500\n",
            "84/84 [==============================] - 0s 3ms/step - loss: 4552372.5000 - rmse: 504.4126 - r2: 0.3098 - val_loss: 2638132.0000 - val_rmse: 507.3768 - val_r2: 0.4861\n",
            "Epoch 43/1500\n",
            "84/84 [==============================] - 0s 3ms/step - loss: 4674393.5000 - rmse: 515.5660 - r2: 0.2443 - val_loss: 2390098.7500 - val_rmse: 472.5316 - val_r2: 0.6157\n",
            "Epoch 44/1500\n",
            "84/84 [==============================] - 0s 3ms/step - loss: 4751989.0000 - rmse: 510.7528 - r2: 0.1871 - val_loss: 2681933.5000 - val_rmse: 517.4902 - val_r2: 0.4666\n",
            "Epoch 45/1500\n",
            "84/84 [==============================] - 0s 3ms/step - loss: 4730109.0000 - rmse: 546.0244 - r2: 0.3949 - val_loss: 2393095.7500 - val_rmse: 457.1026 - val_r2: 0.7063\n",
            "Epoch 46/1500\n",
            "84/84 [==============================] - 0s 3ms/step - loss: 4915229.5000 - rmse: 540.3154 - r2: 0.5041 - val_loss: 2315760.0000 - val_rmse: 460.4480 - val_r2: 0.6502\n",
            "Epoch 47/1500\n",
            "84/84 [==============================] - 0s 3ms/step - loss: 4732396.0000 - rmse: 524.5290 - r2: 0.3744 - val_loss: 2587986.5000 - val_rmse: 468.6930 - val_r2: 0.7283\n",
            "Epoch 48/1500\n",
            "84/84 [==============================] - 0s 3ms/step - loss: 4614708.0000 - rmse: 519.2917 - r2: 0.5130 - val_loss: 2422847.5000 - val_rmse: 464.0523 - val_r2: 0.7092\n",
            "Epoch 49/1500\n",
            "84/84 [==============================] - 0s 3ms/step - loss: 4593379.5000 - rmse: 509.8316 - r2: 0.4517 - val_loss: 3193087.0000 - val_rmse: 558.0241 - val_r2: 0.3410\n",
            "Epoch 50/1500\n",
            "84/84 [==============================] - 0s 3ms/step - loss: 4390405.5000 - rmse: 499.4227 - r2: 0.5876 - val_loss: 4914401.5000 - val_rmse: 722.6037 - val_r2: -0.0616\n",
            "Epoch 51/1500\n",
            "84/84 [==============================] - 0s 3ms/step - loss: 4900302.5000 - rmse: 528.4955 - r2: 0.4272 - val_loss: 2471787.7500 - val_rmse: 481.3246 - val_r2: 0.5528\n",
            "Epoch 52/1500\n",
            "84/84 [==============================] - 0s 3ms/step - loss: 4448328.5000 - rmse: 502.5792 - r2: 0.6247 - val_loss: 3306468.5000 - val_rmse: 570.6078 - val_r2: 0.3172\n",
            "Epoch 53/1500\n",
            "84/84 [==============================] - 0s 3ms/step - loss: 4672248.5000 - rmse: 509.3289 - r2: 0.4949 - val_loss: 2833321.7500 - val_rmse: 516.6945 - val_r2: 0.4467\n",
            "Epoch 54/1500\n",
            "84/84 [==============================] - 0s 3ms/step - loss: 4505201.5000 - rmse: 515.1885 - r2: 0.5821 - val_loss: 2292605.7500 - val_rmse: 449.3691 - val_r2: 0.6969\n",
            "Epoch 55/1500\n",
            "84/84 [==============================] - 0s 3ms/step - loss: 4580396.5000 - rmse: 495.9698 - r2: 0.6180 - val_loss: 2262047.7500 - val_rmse: 447.7539 - val_r2: 0.6509\n",
            "Epoch 56/1500\n",
            "84/84 [==============================] - 0s 3ms/step - loss: 4484218.0000 - rmse: 495.7266 - r2: 0.2737 - val_loss: 2280818.7500 - val_rmse: 450.6098 - val_r2: 0.7004\n",
            "Epoch 57/1500\n",
            "84/84 [==============================] - 0s 3ms/step - loss: 4735168.5000 - rmse: 506.6200 - r2: 0.6754 - val_loss: 3673031.0000 - val_rmse: 597.3876 - val_r2: 0.2477\n",
            "Epoch 58/1500\n",
            "84/84 [==============================] - 0s 3ms/step - loss: 4430159.0000 - rmse: 501.4497 - r2: 0.5928 - val_loss: 2467882.2500 - val_rmse: 472.1982 - val_r2: 0.5697\n",
            "Epoch 59/1500\n",
            "84/84 [==============================] - 0s 3ms/step - loss: 4346271.0000 - rmse: 493.6831 - r2: 0.6052 - val_loss: 2881181.0000 - val_rmse: 521.0170 - val_r2: 0.4462\n",
            "Epoch 60/1500\n",
            "84/84 [==============================] - 0s 3ms/step - loss: 4671617.0000 - rmse: 493.8972 - r2: 0.6751 - val_loss: 2949509.0000 - val_rmse: 524.7099 - val_r2: 0.4356\n",
            "Epoch 61/1500\n",
            "84/84 [==============================] - 0s 3ms/step - loss: 4757119.0000 - rmse: 516.2233 - r2: 0.5362 - val_loss: 2300669.7500 - val_rmse: 446.3980 - val_r2: 0.7255\n",
            "Epoch 62/1500\n",
            "84/84 [==============================] - 0s 3ms/step - loss: 4420574.5000 - rmse: 486.6157 - r2: 0.6001 - val_loss: 2970045.7500 - val_rmse: 525.8484 - val_r2: 0.4332\n",
            "Epoch 63/1500\n",
            "84/84 [==============================] - 0s 3ms/step - loss: 4578172.5000 - rmse: 515.4180 - r2: 0.3874 - val_loss: 2255096.5000 - val_rmse: 437.4481 - val_r2: 0.7155\n",
            "Epoch 64/1500\n",
            "84/84 [==============================] - 0s 4ms/step - loss: 4962883.0000 - rmse: 511.8091 - r2: 0.5862 - val_loss: 2287764.2500 - val_rmse: 447.8794 - val_r2: 0.6497\n",
            "Epoch 65/1500\n",
            "84/84 [==============================] - 0s 3ms/step - loss: 4627445.0000 - rmse: 503.3671 - r2: 0.5251 - val_loss: 2239861.5000 - val_rmse: 438.3623 - val_r2: 0.6802\n",
            "Epoch 66/1500\n",
            "84/84 [==============================] - 0s 3ms/step - loss: 4333764.0000 - rmse: 485.5275 - r2: 0.6204 - val_loss: 3446770.7500 - val_rmse: 566.4220 - val_r2: 0.3310\n",
            "Epoch 67/1500\n",
            "84/84 [==============================] - 0s 3ms/step - loss: 4655856.0000 - rmse: 517.9825 - r2: 0.4446 - val_loss: 2261589.5000 - val_rmse: 440.8867 - val_r2: 0.6743\n",
            "Epoch 68/1500\n",
            "84/84 [==============================] - 0s 3ms/step - loss: 4532618.5000 - rmse: 486.0807 - r2: 0.6232 - val_loss: 2200219.0000 - val_rmse: 427.7099 - val_r2: 0.7317\n",
            "Epoch 69/1500\n",
            "84/84 [==============================] - 0s 3ms/step - loss: 4364388.5000 - rmse: 482.4871 - r2: 0.6789 - val_loss: 2394456.7500 - val_rmse: 457.0027 - val_r2: 0.6076\n",
            "Epoch 70/1500\n",
            "84/84 [==============================] - 0s 5ms/step - loss: 4317258.5000 - rmse: 477.1882 - r2: 0.6421 - val_loss: 2650775.2500 - val_rmse: 483.9120 - val_r2: 0.5330\n",
            "Epoch 71/1500\n",
            "84/84 [==============================] - 0s 4ms/step - loss: 4324275.5000 - rmse: 505.4276 - r2: 0.5841 - val_loss: 2208012.7500 - val_rmse: 429.8318 - val_r2: 0.7398\n",
            "Epoch 72/1500\n",
            "84/84 [==============================] - 0s 4ms/step - loss: 4235354.5000 - rmse: 479.7548 - r2: 0.6258 - val_loss: 2233969.7500 - val_rmse: 433.0627 - val_r2: 0.7502\n",
            "Epoch 73/1500\n",
            "84/84 [==============================] - 0s 5ms/step - loss: 4334415.0000 - rmse: 476.7199 - r2: 0.6446 - val_loss: 3393994.2500 - val_rmse: 562.7062 - val_r2: 0.3548\n",
            "Epoch 74/1500\n",
            "84/84 [==============================] - 0s 5ms/step - loss: 4496746.0000 - rmse: 492.8307 - r2: 0.3421 - val_loss: 2878864.5000 - val_rmse: 511.4260 - val_r2: 0.4779\n",
            "Epoch 75/1500\n",
            "84/84 [==============================] - 0s 5ms/step - loss: 4317776.5000 - rmse: 470.1375 - r2: 0.5883 - val_loss: 2799074.7500 - val_rmse: 496.4891 - val_r2: 0.5072\n",
            "Epoch 76/1500\n",
            "84/84 [==============================] - 0s 4ms/step - loss: 4114713.5000 - rmse: 480.3063 - r2: 0.5313 - val_loss: 2183935.7500 - val_rmse: 429.2898 - val_r2: 0.7473\n",
            "Epoch 77/1500\n",
            "84/84 [==============================] - 0s 3ms/step - loss: 4363486.5000 - rmse: 482.0445 - r2: 0.5952 - val_loss: 2186939.2500 - val_rmse: 431.5708 - val_r2: 0.6867\n",
            "Epoch 78/1500\n",
            "84/84 [==============================] - 0s 3ms/step - loss: 4184024.0000 - rmse: 473.8267 - r2: 0.6162 - val_loss: 2174897.5000 - val_rmse: 427.4841 - val_r2: 0.7540\n",
            "Epoch 79/1500\n",
            "84/84 [==============================] - 0s 3ms/step - loss: 4307662.5000 - rmse: 498.8118 - r2: 0.5202 - val_loss: 2161042.2500 - val_rmse: 425.9923 - val_r2: 0.7409\n",
            "Epoch 80/1500\n",
            "84/84 [==============================] - 0s 3ms/step - loss: 4317603.0000 - rmse: 468.2007 - r2: 0.6247 - val_loss: 5838579.0000 - val_rmse: 761.5301 - val_r2: -0.1184\n",
            "Epoch 81/1500\n",
            "84/84 [==============================] - 0s 3ms/step - loss: 4082235.5000 - rmse: 493.2018 - r2: 0.5535 - val_loss: 2344137.7500 - val_rmse: 448.4313 - val_r2: 0.6271\n",
            "Epoch 82/1500\n",
            "84/84 [==============================] - 0s 3ms/step - loss: 4297290.0000 - rmse: 468.8958 - r2: 0.6574 - val_loss: 2775984.2500 - val_rmse: 496.0835 - val_r2: 0.5160\n",
            "Epoch 83/1500\n",
            "84/84 [==============================] - 0s 3ms/step - loss: 4085170.5000 - rmse: 475.3870 - r2: 0.6194 - val_loss: 2094348.3750 - val_rmse: 416.4148 - val_r2: 0.7275\n",
            "Epoch 84/1500\n",
            "84/84 [==============================] - 0s 3ms/step - loss: 4478988.0000 - rmse: 475.7645 - r2: 0.6727 - val_loss: 2120162.0000 - val_rmse: 422.0501 - val_r2: 0.7033\n",
            "Epoch 85/1500\n",
            "84/84 [==============================] - 0s 3ms/step - loss: 4097932.2500 - rmse: 478.7221 - r2: 0.5790 - val_loss: 2407490.2500 - val_rmse: 444.2114 - val_r2: 0.7800\n",
            "Epoch 86/1500\n",
            "84/84 [==============================] - 0s 3ms/step - loss: 4060494.5000 - rmse: 456.7836 - r2: 0.6976 - val_loss: 4080664.0000 - val_rmse: 601.5649 - val_r2: 0.2598\n",
            "Epoch 87/1500\n",
            "84/84 [==============================] - 0s 3ms/step - loss: 4090787.5000 - rmse: 469.0278 - r2: 0.5041 - val_loss: 2198771.5000 - val_rmse: 428.1984 - val_r2: 0.6814\n",
            "Epoch 88/1500\n",
            "84/84 [==============================] - 0s 3ms/step - loss: 3996476.5000 - rmse: 464.2207 - r2: 0.5559 - val_loss: 2122559.2500 - val_rmse: 418.0847 - val_r2: 0.7736\n",
            "Epoch 89/1500\n",
            "84/84 [==============================] - 0s 3ms/step - loss: 4148371.5000 - rmse: 456.9926 - r2: 0.7202 - val_loss: 2443911.5000 - val_rmse: 451.3069 - val_r2: 0.6135\n",
            "Epoch 90/1500\n",
            "84/84 [==============================] - 0s 3ms/step - loss: 4086039.7500 - rmse: 458.3699 - r2: 0.6479 - val_loss: 3026053.5000 - val_rmse: 507.5252 - val_r2: 0.4808\n",
            "Epoch 91/1500\n",
            "84/84 [==============================] - 0s 3ms/step - loss: 4013517.5000 - rmse: 470.8907 - r2: 0.4901 - val_loss: 3775033.7500 - val_rmse: 569.5947 - val_r2: 0.3359\n",
            "Epoch 92/1500\n",
            "84/84 [==============================] - 0s 3ms/step - loss: 4183969.2500 - rmse: 475.4448 - r2: 0.5072 - val_loss: 2336330.7500 - val_rmse: 433.6416 - val_r2: 0.7921\n",
            "Epoch 93/1500\n",
            "84/84 [==============================] - 0s 3ms/step - loss: 4508109.5000 - rmse: 493.1994 - r2: 0.5861 - val_loss: 2337080.2500 - val_rmse: 428.5919 - val_r2: 0.8024\n",
            "Epoch 94/1500\n",
            "84/84 [==============================] - 0s 3ms/step - loss: 4153791.0000 - rmse: 481.7142 - r2: 0.4659 - val_loss: 2239347.5000 - val_rmse: 443.9650 - val_r2: 0.6599\n",
            "Epoch 95/1500\n",
            "84/84 [==============================] - 0s 3ms/step - loss: 3954901.7500 - rmse: 463.7849 - r2: 0.6414 - val_loss: 2064244.2500 - val_rmse: 413.1086 - val_r2: 0.7433\n",
            "Epoch 96/1500\n",
            "84/84 [==============================] - 0s 3ms/step - loss: 4124941.2500 - rmse: 470.5338 - r2: 0.6422 - val_loss: 2197966.0000 - val_rmse: 424.7451 - val_r2: 0.7905\n",
            "Epoch 97/1500\n",
            "84/84 [==============================] - 0s 4ms/step - loss: 4111847.2500 - rmse: 453.5497 - r2: 0.7289 - val_loss: 2828918.7500 - val_rmse: 488.3522 - val_r2: 0.5321\n",
            "Epoch 98/1500\n",
            "84/84 [==============================] - 0s 3ms/step - loss: 4017942.7500 - rmse: 458.8013 - r2: 0.6491 - val_loss: 2320632.7500 - val_rmse: 436.9720 - val_r2: 0.6506\n",
            "Epoch 99/1500\n",
            "84/84 [==============================] - 0s 3ms/step - loss: 3843516.5000 - rmse: 450.7533 - r2: 0.5690 - val_loss: 2145228.5000 - val_rmse: 420.1223 - val_r2: 0.7897\n",
            "Epoch 100/1500\n",
            "84/84 [==============================] - 0s 4ms/step - loss: 4219516.0000 - rmse: 493.5467 - r2: 0.4959 - val_loss: 2176671.2500 - val_rmse: 426.8134 - val_r2: 0.6892\n",
            "Epoch 101/1500\n",
            "84/84 [==============================] - 0s 3ms/step - loss: 3939679.7500 - rmse: 474.7267 - r2: 0.5530 - val_loss: 2042753.0000 - val_rmse: 406.0395 - val_r2: 0.7745\n",
            "Epoch 102/1500\n",
            "84/84 [==============================] - 0s 3ms/step - loss: 4191664.2500 - rmse: 464.7917 - r2: 0.6663 - val_loss: 3389639.5000 - val_rmse: 535.8666 - val_r2: 0.4315\n",
            "Epoch 103/1500\n",
            "84/84 [==============================] - 0s 3ms/step - loss: 4357362.5000 - rmse: 476.1200 - r2: 0.6233 - val_loss: 3645320.2500 - val_rmse: 565.4366 - val_r2: 0.3779\n",
            "Epoch 104/1500\n",
            "84/84 [==============================] - 0s 3ms/step - loss: 4167332.2500 - rmse: 466.6265 - r2: 0.6278 - val_loss: 2675559.5000 - val_rmse: 462.6038 - val_r2: 0.5858\n",
            "Epoch 105/1500\n",
            "84/84 [==============================] - 0s 3ms/step - loss: 3841410.5000 - rmse: 436.3380 - r2: 0.7654 - val_loss: 3079506.0000 - val_rmse: 504.0073 - val_r2: 0.4990\n",
            "Epoch 106/1500\n",
            "84/84 [==============================] - 0s 3ms/step - loss: 3782040.5000 - rmse: 463.6155 - r2: 0.6334 - val_loss: 2169468.7500 - val_rmse: 418.5269 - val_r2: 0.8004\n",
            "Epoch 107/1500\n",
            "84/84 [==============================] - 0s 3ms/step - loss: 3975551.7500 - rmse: 448.5509 - r2: 0.6553 - val_loss: 2064201.6250 - val_rmse: 402.7195 - val_r2: 0.8014\n",
            "Epoch 108/1500\n",
            "84/84 [==============================] - 0s 3ms/step - loss: 4114866.0000 - rmse: 465.8207 - r2: 0.5490 - val_loss: 2409265.0000 - val_rmse: 437.9249 - val_r2: 0.6495\n",
            "Epoch 109/1500\n",
            "84/84 [==============================] - 0s 4ms/step - loss: 3840459.0000 - rmse: 451.3600 - r2: 0.6614 - val_loss: 2811575.5000 - val_rmse: 503.2325 - val_r2: 0.5426\n",
            "Epoch 110/1500\n",
            "84/84 [==============================] - 0s 3ms/step - loss: 3863218.7500 - rmse: 451.8890 - r2: 0.3713 - val_loss: 2180985.5000 - val_rmse: 417.0173 - val_r2: 0.7071\n",
            "Epoch 111/1500\n",
            "84/84 [==============================] - 0s 3ms/step - loss: 4235526.5000 - rmse: 451.3731 - r2: 0.6518 - val_loss: 3177499.2500 - val_rmse: 509.6898 - val_r2: 0.4902\n",
            "Epoch 112/1500\n",
            "84/84 [==============================] - 0s 3ms/step - loss: 3870568.5000 - rmse: 475.5069 - r2: 0.6202 - val_loss: 2087804.5000 - val_rmse: 409.6321 - val_r2: 0.8021\n",
            "Epoch 113/1500\n",
            "84/84 [==============================] - 0s 3ms/step - loss: 3721696.7500 - rmse: 437.9586 - r2: 0.6827 - val_loss: 5138149.5000 - val_rmse: 666.8978 - val_r2: 0.1494\n",
            "Epoch 114/1500\n",
            "84/84 [==============================] - 0s 3ms/step - loss: 4024935.0000 - rmse: 464.0349 - r2: 0.3372 - val_loss: 1972246.8750 - val_rmse: 398.4932 - val_r2: 0.7921\n",
            "Epoch 115/1500\n",
            "84/84 [==============================] - 0s 5ms/step - loss: 3729840.5000 - rmse: 438.1380 - r2: 0.7244 - val_loss: 3171628.0000 - val_rmse: 527.7122 - val_r2: 0.4808\n",
            "Epoch 116/1500\n",
            "84/84 [==============================] - 0s 5ms/step - loss: 4209840.5000 - rmse: 496.8220 - r2: 0.5052 - val_loss: 2011021.0000 - val_rmse: 404.7704 - val_r2: 0.7677\n",
            "Epoch 117/1500\n",
            "84/84 [==============================] - 0s 4ms/step - loss: 4152115.2500 - rmse: 466.3105 - r2: 0.7171 - val_loss: 2313374.2500 - val_rmse: 429.1366 - val_r2: 0.6771\n",
            "Epoch 118/1500\n",
            "84/84 [==============================] - 0s 4ms/step - loss: 4080857.7500 - rmse: 457.9355 - r2: 0.6546 - val_loss: 3129657.2500 - val_rmse: 500.8606 - val_r2: 0.5136\n",
            "Epoch 119/1500\n",
            "84/84 [==============================] - 0s 5ms/step - loss: 3757706.5000 - rmse: 426.7769 - r2: 0.7437 - val_loss: 2115814.0000 - val_rmse: 412.3044 - val_r2: 0.7205\n",
            "Epoch 120/1500\n",
            "84/84 [==============================] - 0s 5ms/step - loss: 4244033.5000 - rmse: 466.3189 - r2: 0.5849 - val_loss: 2226424.7500 - val_rmse: 417.7167 - val_r2: 0.7011\n",
            "Epoch 121/1500\n",
            "84/84 [==============================] - 0s 5ms/step - loss: 3524173.5000 - rmse: 422.9194 - r2: 0.7565 - val_loss: 5084401.5000 - val_rmse: 659.8881 - val_r2: 0.1755\n",
            "Epoch 122/1500\n",
            "84/84 [==============================] - 0s 3ms/step - loss: 4508069.0000 - rmse: 469.5698 - r2: 0.3987 - val_loss: 5831079.5000 - val_rmse: 725.5249 - val_r2: 0.0363\n",
            "Epoch 123/1500\n",
            "84/84 [==============================] - 0s 3ms/step - loss: 3931876.0000 - rmse: 481.6518 - r2: 0.6203 - val_loss: 1962155.6250 - val_rmse: 400.8850 - val_r2: 0.7795\n",
            "Epoch 124/1500\n",
            "84/84 [==============================] - 0s 3ms/step - loss: 3487401.5000 - rmse: 426.9874 - r2: 0.7826 - val_loss: 3175490.7500 - val_rmse: 499.2394 - val_r2: 0.5121\n",
            "Epoch 125/1500\n",
            "84/84 [==============================] - 0s 3ms/step - loss: 3659457.2500 - rmse: 449.8263 - r2: 0.6497 - val_loss: 2112155.0000 - val_rmse: 410.4776 - val_r2: 0.8108\n",
            "Epoch 126/1500\n",
            "84/84 [==============================] - 0s 3ms/step - loss: 3621260.2500 - rmse: 435.1844 - r2: 0.5867 - val_loss: 2102160.7500 - val_rmse: 406.6595 - val_r2: 0.7300\n",
            "Epoch 127/1500\n",
            "84/84 [==============================] - 0s 3ms/step - loss: 3534401.0000 - rmse: 436.1882 - r2: 0.6716 - val_loss: 2025792.1250 - val_rmse: 406.4669 - val_r2: 0.8038\n",
            "Epoch 128/1500\n",
            "84/84 [==============================] - 0s 3ms/step - loss: 4228884.5000 - rmse: 456.2765 - r2: 0.6949 - val_loss: 2904714.7500 - val_rmse: 472.1158 - val_r2: 0.5678\n",
            "Epoch 129/1500\n",
            "84/84 [==============================] - 0s 3ms/step - loss: 3649258.0000 - rmse: 443.1410 - r2: 0.7036 - val_loss: 1943398.5000 - val_rmse: 391.8790 - val_r2: 0.8099\n",
            "Epoch 130/1500\n",
            "84/84 [==============================] - 0s 3ms/step - loss: 3855959.7500 - rmse: 443.4931 - r2: 0.6461 - val_loss: 1985737.0000 - val_rmse: 398.3748 - val_r2: 0.7540\n",
            "Epoch 131/1500\n",
            "84/84 [==============================] - 0s 3ms/step - loss: 3757745.2500 - rmse: 428.0623 - r2: 0.7372 - val_loss: 3142246.5000 - val_rmse: 507.8695 - val_r2: 0.5168\n",
            "Epoch 132/1500\n",
            "84/84 [==============================] - 0s 3ms/step - loss: 3839054.7500 - rmse: 464.9770 - r2: 0.6680 - val_loss: 1937242.6250 - val_rmse: 393.4977 - val_r2: 0.8127\n",
            "Epoch 133/1500\n",
            "84/84 [==============================] - 0s 3ms/step - loss: 3813203.0000 - rmse: 445.1847 - r2: 0.6566 - val_loss: 1927636.2500 - val_rmse: 391.8003 - val_r2: 0.8138\n",
            "Epoch 134/1500\n",
            "84/84 [==============================] - 0s 3ms/step - loss: 3499476.5000 - rmse: 420.3842 - r2: 0.6827 - val_loss: 2679312.2500 - val_rmse: 448.0312 - val_r2: 0.6210\n",
            "Epoch 135/1500\n",
            "84/84 [==============================] - 0s 3ms/step - loss: 3504272.7500 - rmse: 429.4316 - r2: 0.4341 - val_loss: 1954834.3750 - val_rmse: 395.4273 - val_r2: 0.8141\n",
            "Epoch 136/1500\n",
            "84/84 [==============================] - 0s 3ms/step - loss: 3511751.7500 - rmse: 417.8326 - r2: 0.7424 - val_loss: 1936357.1250 - val_rmse: 388.3886 - val_r2: 0.8178\n",
            "Epoch 137/1500\n",
            "84/84 [==============================] - 0s 3ms/step - loss: 3834609.2500 - rmse: 447.6378 - r2: 0.6996 - val_loss: 1896973.3750 - val_rmse: 391.1459 - val_r2: 0.8061\n",
            "Epoch 138/1500\n",
            "84/84 [==============================] - 0s 3ms/step - loss: 3467956.5000 - rmse: 430.2944 - r2: 0.5591 - val_loss: 3290942.7500 - val_rmse: 492.8972 - val_r2: 0.5268\n",
            "Epoch 139/1500\n",
            "84/84 [==============================] - 0s 3ms/step - loss: 3697779.0000 - rmse: 453.0821 - r2: 0.6516 - val_loss: 1865237.1250 - val_rmse: 382.7591 - val_r2: 0.8088\n",
            "Epoch 140/1500\n",
            "84/84 [==============================] - 0s 3ms/step - loss: 3883657.7500 - rmse: 476.1594 - r2: 0.6377 - val_loss: 2114648.0000 - val_rmse: 411.7076 - val_r2: 0.7163\n",
            "Epoch 141/1500\n",
            "84/84 [==============================] - 0s 3ms/step - loss: 3535020.5000 - rmse: 424.8609 - r2: 0.6739 - val_loss: 1914166.2500 - val_rmse: 392.1330 - val_r2: 0.7832\n",
            "Epoch 142/1500\n",
            "84/84 [==============================] - 0s 3ms/step - loss: 3444415.2500 - rmse: 421.5527 - r2: 0.7706 - val_loss: 3729762.2500 - val_rmse: 533.8088 - val_r2: 0.4567\n",
            "Epoch 143/1500\n",
            "84/84 [==============================] - 0s 3ms/step - loss: 3569410.5000 - rmse: 430.1863 - r2: 0.7248 - val_loss: 1989346.7500 - val_rmse: 399.7946 - val_r2: 0.7519\n",
            "Epoch 144/1500\n",
            "84/84 [==============================] - 0s 3ms/step - loss: 3411621.0000 - rmse: 413.8586 - r2: 0.6218 - val_loss: 1925949.6250 - val_rmse: 392.0491 - val_r2: 0.7825\n",
            "Epoch 145/1500\n",
            "84/84 [==============================] - 0s 3ms/step - loss: 3492361.2500 - rmse: 408.0341 - r2: 0.6600 - val_loss: 1860295.5000 - val_rmse: 384.9232 - val_r2: 0.7940\n",
            "Epoch 146/1500\n",
            "84/84 [==============================] - 0s 3ms/step - loss: 3428149.7500 - rmse: 429.0133 - r2: 0.7353 - val_loss: 2086632.6250 - val_rmse: 392.7589 - val_r2: 0.8360\n",
            "Epoch 147/1500\n",
            "84/84 [==============================] - 0s 3ms/step - loss: 3333332.0000 - rmse: 429.9424 - r2: 0.7404 - val_loss: 2317228.2500 - val_rmse: 425.6567 - val_r2: 0.8135\n",
            "Epoch 148/1500\n",
            "84/84 [==============================] - 0s 3ms/step - loss: 3726720.7500 - rmse: 451.9420 - r2: 0.5547 - val_loss: 4665818.0000 - val_rmse: 595.4523 - val_r2: 0.3337\n",
            "Epoch 149/1500\n",
            "84/84 [==============================] - 0s 3ms/step - loss: 3209276.0000 - rmse: 412.3645 - r2: 0.7748 - val_loss: 2710540.7500 - val_rmse: 476.3959 - val_r2: 0.6030\n",
            "Epoch 150/1500\n",
            "84/84 [==============================] - 0s 3ms/step - loss: 3599255.0000 - rmse: 449.5364 - r2: 0.5948 - val_loss: 6378618.5000 - val_rmse: 686.8901 - val_r2: 0.1046\n",
            "Epoch 151/1500\n",
            "84/84 [==============================] - 0s 3ms/step - loss: 3148935.0000 - rmse: 396.8793 - r2: 0.7821 - val_loss: 5628557.0000 - val_rmse: 690.3022 - val_r2: 0.1690\n",
            "Epoch 152/1500\n",
            "84/84 [==============================] - 0s 3ms/step - loss: 3341175.2500 - rmse: 434.5861 - r2: 0.6643 - val_loss: 2050348.5000 - val_rmse: 393.6796 - val_r2: 0.7650\n",
            "Epoch 153/1500\n",
            "84/84 [==============================] - 0s 3ms/step - loss: 3479053.2500 - rmse: 424.1390 - r2: 0.7423 - val_loss: 2095213.2500 - val_rmse: 399.6162 - val_r2: 0.7430\n",
            "Epoch 154/1500\n",
            "84/84 [==============================] - 0s 3ms/step - loss: 3359565.0000 - rmse: 423.9215 - r2: 0.6934 - val_loss: 1972457.5000 - val_rmse: 389.5378 - val_r2: 0.7692\n",
            "Epoch 155/1500\n",
            "84/84 [==============================] - 0s 3ms/step - loss: 3459840.5000 - rmse: 412.6186 - r2: 0.7495 - val_loss: 2874847.0000 - val_rmse: 452.4629 - val_r2: 0.6205\n",
            "Epoch 156/1500\n",
            "84/84 [==============================] - 0s 3ms/step - loss: 3194881.0000 - rmse: 406.4829 - r2: 0.7825 - val_loss: 1872318.8750 - val_rmse: 380.7505 - val_r2: 0.7916\n",
            "Epoch 157/1500\n",
            "84/84 [==============================] - 0s 3ms/step - loss: 3553108.5000 - rmse: 424.4402 - r2: 0.7380 - val_loss: 2483110.5000 - val_rmse: 441.4085 - val_r2: 0.6590\n",
            "Epoch 158/1500\n",
            "84/84 [==============================] - 0s 3ms/step - loss: 3316298.7500 - rmse: 409.0225 - r2: 0.6641 - val_loss: 2641979.7500 - val_rmse: 440.6013 - val_r2: 0.6504\n",
            "Epoch 159/1500\n",
            "84/84 [==============================] - 0s 4ms/step - loss: 3248015.7500 - rmse: 412.4932 - r2: 0.6960 - val_loss: 1821490.1250 - val_rmse: 384.0906 - val_r2: 0.7968\n",
            "Epoch 160/1500\n",
            "84/84 [==============================] - 0s 4ms/step - loss: 3454015.7500 - rmse: 422.7755 - r2: 0.7198 - val_loss: 1986907.7500 - val_rmse: 388.7080 - val_r2: 0.7602\n",
            "Epoch 161/1500\n",
            "84/84 [==============================] - 0s 5ms/step - loss: 3853852.7500 - rmse: 460.6885 - r2: 0.4995 - val_loss: 1873631.5000 - val_rmse: 383.2260 - val_r2: 0.8173\n",
            "Epoch 162/1500\n",
            "84/84 [==============================] - 0s 4ms/step - loss: 3165047.2500 - rmse: 412.4175 - r2: 0.7719 - val_loss: 2115546.7500 - val_rmse: 390.5252 - val_r2: 0.8400\n",
            "Epoch 163/1500\n",
            "84/84 [==============================] - 0s 4ms/step - loss: 3458140.5000 - rmse: 401.7440 - r2: 0.7101 - val_loss: 2162610.2500 - val_rmse: 399.2853 - val_r2: 0.7349\n",
            "Epoch 164/1500\n",
            "84/84 [==============================] - 0s 4ms/step - loss: 3180388.5000 - rmse: 398.8820 - r2: 0.7372 - val_loss: 2594164.0000 - val_rmse: 434.2279 - val_r2: 0.6599\n",
            "Epoch 165/1500\n",
            "84/84 [==============================] - 0s 5ms/step - loss: 3296783.0000 - rmse: 401.4149 - r2: 0.7212 - val_loss: 2205346.0000 - val_rmse: 402.0366 - val_r2: 0.7290\n",
            "Epoch 166/1500\n",
            "84/84 [==============================] - 0s 4ms/step - loss: 3506319.5000 - rmse: 429.3153 - r2: 0.5010 - val_loss: 2120910.5000 - val_rmse: 400.9887 - val_r2: 0.7305\n",
            "Epoch 167/1500\n",
            "84/84 [==============================] - 0s 3ms/step - loss: 3063241.7500 - rmse: 383.7724 - r2: 0.7920 - val_loss: 4997810.0000 - val_rmse: 620.5502 - val_r2: 0.3133\n",
            "Epoch 168/1500\n",
            "84/84 [==============================] - 0s 3ms/step - loss: 3317143.5000 - rmse: 420.7361 - r2: 0.6268 - val_loss: 1777137.8750 - val_rmse: 369.4478 - val_r2: 0.8193\n",
            "Epoch 169/1500\n",
            "84/84 [==============================] - 0s 3ms/step - loss: 3274191.2500 - rmse: 387.0239 - r2: 0.7700 - val_loss: 1769119.1250 - val_rmse: 371.3160 - val_r2: 0.8274\n",
            "Epoch 170/1500\n",
            "84/84 [==============================] - 0s 3ms/step - loss: 3127534.7500 - rmse: 418.5934 - r2: 0.6699 - val_loss: 1804928.7500 - val_rmse: 373.1093 - val_r2: 0.8180\n",
            "Epoch 171/1500\n",
            "84/84 [==============================] - 0s 3ms/step - loss: 3221866.0000 - rmse: 414.1833 - r2: 0.7300 - val_loss: 1815484.7500 - val_rmse: 372.7546 - val_r2: 0.8235\n",
            "Epoch 172/1500\n",
            "84/84 [==============================] - 0s 3ms/step - loss: 3307882.7500 - rmse: 397.0886 - r2: 0.7439 - val_loss: 2327120.5000 - val_rmse: 414.8713 - val_r2: 0.6996\n",
            "Epoch 173/1500\n",
            "84/84 [==============================] - 0s 3ms/step - loss: 3066949.5000 - rmse: 409.7030 - r2: 0.7276 - val_loss: 1820499.2500 - val_rmse: 376.7110 - val_r2: 0.8222\n",
            "Epoch 174/1500\n",
            "84/84 [==============================] - 0s 3ms/step - loss: 3228469.7500 - rmse: 401.1319 - r2: 0.6861 - val_loss: 1950644.2500 - val_rmse: 378.7466 - val_r2: 0.7789\n",
            "Epoch 175/1500\n",
            "84/84 [==============================] - 0s 3ms/step - loss: 2939809.2500 - rmse: 377.4648 - r2: 0.8014 - val_loss: 3187230.5000 - val_rmse: 468.6055 - val_r2: 0.5923\n",
            "Epoch 176/1500\n",
            "84/84 [==============================] - 0s 3ms/step - loss: 3038691.2500 - rmse: 397.2900 - r2: 0.6906 - val_loss: 4274335.0000 - val_rmse: 551.0016 - val_r2: 0.4411\n",
            "Epoch 177/1500\n",
            "84/84 [==============================] - 0s 3ms/step - loss: 3324991.5000 - rmse: 402.9448 - r2: 0.7083 - val_loss: 3683052.7500 - val_rmse: 498.8276 - val_r2: 0.5330\n",
            "Epoch 178/1500\n",
            "84/84 [==============================] - 0s 3ms/step - loss: 3224377.5000 - rmse: 410.5516 - r2: 0.7476 - val_loss: 1819318.7500 - val_rmse: 369.9562 - val_r2: 0.8075\n",
            "Epoch 179/1500\n",
            "84/84 [==============================] - 0s 3ms/step - loss: 3329642.2500 - rmse: 402.2780 - r2: 0.7629 - val_loss: 2220935.5000 - val_rmse: 398.8755 - val_r2: 0.7242\n",
            "Epoch 180/1500\n",
            "84/84 [==============================] - 0s 3ms/step - loss: 2977454.2500 - rmse: 391.5260 - r2: 0.7658 - val_loss: 1818292.1250 - val_rmse: 372.4073 - val_r2: 0.8230\n",
            "Epoch 181/1500\n",
            "84/84 [==============================] - 0s 3ms/step - loss: 3679788.0000 - rmse: 430.2253 - r2: 0.6556 - val_loss: 3383376.5000 - val_rmse: 488.0109 - val_r2: 0.5625\n",
            "Epoch 182/1500\n",
            "84/84 [==============================] - 0s 3ms/step - loss: 2759871.5000 - rmse: 396.3752 - r2: 0.7795 - val_loss: 5458832.0000 - val_rmse: 603.3286 - val_r2: 0.3166\n",
            "Epoch 183/1500\n",
            "84/84 [==============================] - 0s 3ms/step - loss: 3205939.0000 - rmse: 408.7656 - r2: 0.6904 - val_loss: 2349151.0000 - val_rmse: 401.4001 - val_r2: 0.7214\n",
            "Epoch 184/1500\n",
            "84/84 [==============================] - 0s 3ms/step - loss: 3238791.7500 - rmse: 393.8741 - r2: 0.7584 - val_loss: 3059740.0000 - val_rmse: 469.6199 - val_r2: 0.5992\n",
            "Epoch 185/1500\n",
            "84/84 [==============================] - 0s 3ms/step - loss: 3319061.2500 - rmse: 423.8057 - r2: 0.7182 - val_loss: 1832553.1250 - val_rmse: 368.0588 - val_r2: 0.7986\n",
            "Epoch 186/1500\n",
            "84/84 [==============================] - 0s 3ms/step - loss: 2932046.0000 - rmse: 384.1532 - r2: 0.7685 - val_loss: 4929520.5000 - val_rmse: 595.8047 - val_r2: 0.3647\n",
            "Epoch 187/1500\n",
            "84/84 [==============================] - 0s 3ms/step - loss: 3467970.2500 - rmse: 421.2079 - r2: 0.6825 - val_loss: 1730881.5000 - val_rmse: 361.8767 - val_r2: 0.8250\n",
            "Epoch 188/1500\n",
            "84/84 [==============================] - 0s 3ms/step - loss: 2677950.5000 - rmse: 387.8437 - r2: 0.7261 - val_loss: 11481243.0000 - val_rmse: 940.5818 - val_r2: -0.4699\n",
            "Epoch 189/1500\n",
            "84/84 [==============================] - 0s 3ms/step - loss: 3581975.7500 - rmse: 437.2791 - r2: 0.7227 - val_loss: 2962179.5000 - val_rmse: 439.7201 - val_r2: 0.6480\n",
            "Epoch 190/1500\n",
            "84/84 [==============================] - 0s 3ms/step - loss: 3000267.0000 - rmse: 405.9518 - r2: 0.7726 - val_loss: 1965397.6250 - val_rmse: 371.6137 - val_r2: 0.8515\n",
            "Epoch 191/1500\n",
            "84/84 [==============================] - 0s 3ms/step - loss: 2905456.5000 - rmse: 386.4171 - r2: 0.7422 - val_loss: 1822275.2500 - val_rmse: 365.3465 - val_r2: 0.8074\n",
            "Epoch 192/1500\n",
            "84/84 [==============================] - 0s 3ms/step - loss: 3489081.0000 - rmse: 407.2844 - r2: 0.6746 - val_loss: 3242438.0000 - val_rmse: 483.1122 - val_r2: 0.5810\n",
            "Epoch 193/1500\n",
            "84/84 [==============================] - 0s 3ms/step - loss: 3289102.5000 - rmse: 425.1587 - r2: 0.7075 - val_loss: 1975032.6250 - val_rmse: 372.7427 - val_r2: 0.7830\n",
            "Epoch 194/1500\n",
            "84/84 [==============================] - 0s 3ms/step - loss: 3142797.2500 - rmse: 386.4685 - r2: 0.7569 - val_loss: 2266639.5000 - val_rmse: 397.6103 - val_r2: 0.7277\n",
            "Epoch 195/1500\n",
            "84/84 [==============================] - 0s 3ms/step - loss: 2738095.7500 - rmse: 398.3932 - r2: 0.7838 - val_loss: 2886373.5000 - val_rmse: 436.0215 - val_r2: 0.6533\n",
            "Epoch 196/1500\n",
            "84/84 [==============================] - 0s 3ms/step - loss: 2938177.7500 - rmse: 395.1404 - r2: 0.7782 - val_loss: 1832711.5000 - val_rmse: 365.0617 - val_r2: 0.8498\n",
            "Epoch 197/1500\n",
            "84/84 [==============================] - 0s 3ms/step - loss: 2874656.7500 - rmse: 379.3633 - r2: 0.7881 - val_loss: 1951338.1250 - val_rmse: 371.4848 - val_r2: 0.8543\n",
            "Epoch 198/1500\n",
            "84/84 [==============================] - 0s 3ms/step - loss: 2999342.7500 - rmse: 380.1757 - r2: 0.7697 - val_loss: 1734153.5000 - val_rmse: 359.8612 - val_r2: 0.8226\n",
            "Epoch 199/1500\n",
            "84/84 [==============================] - 0s 3ms/step - loss: 2546126.2500 - rmse: 364.2759 - r2: 0.8287 - val_loss: 3652761.2500 - val_rmse: 505.6592 - val_r2: 0.5331\n",
            "Epoch 200/1500\n",
            "84/84 [==============================] - 0s 3ms/step - loss: 3046896.0000 - rmse: 404.4756 - r2: 0.7377 - val_loss: 1738387.1250 - val_rmse: 356.7219 - val_r2: 0.8191\n",
            "Epoch 201/1500\n",
            "84/84 [==============================] - 0s 3ms/step - loss: 3157425.2500 - rmse: 418.7298 - r2: 0.7359 - val_loss: 3586444.2500 - val_rmse: 481.8997 - val_r2: 0.5645\n",
            "Epoch 202/1500\n",
            "84/84 [==============================] - 0s 4ms/step - loss: 2899058.7500 - rmse: 372.5753 - r2: 0.7669 - val_loss: 1906844.6250 - val_rmse: 364.6304 - val_r2: 0.7833\n",
            "Epoch 203/1500\n",
            "84/84 [==============================] - 0s 4ms/step - loss: 2573528.0000 - rmse: 370.8527 - r2: 0.8232 - val_loss: 1784176.1250 - val_rmse: 356.8673 - val_r2: 0.7954\n",
            "Epoch 204/1500\n",
            "84/84 [==============================] - 0s 5ms/step - loss: 2978114.0000 - rmse: 384.2973 - r2: 0.7298 - val_loss: 3009582.2500 - val_rmse: 443.0805 - val_r2: 0.6355\n",
            "Epoch 205/1500\n",
            "84/84 [==============================] - 0s 5ms/step - loss: 2860388.0000 - rmse: 372.2619 - r2: 0.7832 - val_loss: 1680981.3750 - val_rmse: 359.1538 - val_r2: 0.8432\n",
            "Epoch 206/1500\n",
            "84/84 [==============================] - 0s 4ms/step - loss: 3080146.7500 - rmse: 403.5819 - r2: 0.7617 - val_loss: 1816513.5000 - val_rmse: 358.6022 - val_r2: 0.8607\n",
            "Epoch 207/1500\n",
            "84/84 [==============================] - 0s 5ms/step - loss: 3322162.5000 - rmse: 413.3641 - r2: 0.6923 - val_loss: 1640468.1250 - val_rmse: 348.6564 - val_r2: 0.8298\n",
            "Epoch 208/1500\n",
            "84/84 [==============================] - 0s 5ms/step - loss: 2706226.5000 - rmse: 364.3718 - r2: 0.7962 - val_loss: 2459031.0000 - val_rmse: 408.5427 - val_r2: 0.6969\n",
            "Epoch 209/1500\n",
            "84/84 [==============================] - 0s 5ms/step - loss: 2773158.5000 - rmse: 374.0519 - r2: 0.8139 - val_loss: 1647469.7500 - val_rmse: 346.0223 - val_r2: 0.8234\n",
            "Epoch 210/1500\n",
            "84/84 [==============================] - 0s 4ms/step - loss: 2597199.7500 - rmse: 402.6901 - r2: 0.7821 - val_loss: 1531049.2500 - val_rmse: 364.7400 - val_r2: 0.8250\n",
            "Epoch 211/1500\n",
            "84/84 [==============================] - 0s 3ms/step - loss: 3062999.0000 - rmse: 395.9797 - r2: 0.7888 - val_loss: 1928638.7500 - val_rmse: 368.1222 - val_r2: 0.7792\n",
            "Epoch 212/1500\n",
            "84/84 [==============================] - 0s 3ms/step - loss: 2599035.0000 - rmse: 352.4955 - r2: 0.8314 - val_loss: 1757873.6250 - val_rmse: 351.4756 - val_r2: 0.8048\n",
            "Epoch 213/1500\n",
            "84/84 [==============================] - 0s 3ms/step - loss: 2614636.5000 - rmse: 363.1709 - r2: 0.8299 - val_loss: 1639579.5000 - val_rmse: 342.9594 - val_r2: 0.8218\n",
            "Epoch 214/1500\n",
            "84/84 [==============================] - 0s 3ms/step - loss: 2680893.2500 - rmse: 367.0728 - r2: 0.7961 - val_loss: 1635141.7500 - val_rmse: 350.6615 - val_r2: 0.8385\n",
            "Epoch 215/1500\n",
            "84/84 [==============================] - 0s 3ms/step - loss: 2768124.2500 - rmse: 374.5138 - r2: 0.7893 - val_loss: 1669559.2500 - val_rmse: 345.8299 - val_r2: 0.8138\n",
            "Epoch 216/1500\n",
            "84/84 [==============================] - 0s 3ms/step - loss: 2580886.5000 - rmse: 353.5840 - r2: 0.8213 - val_loss: 1879657.3750 - val_rmse: 358.1879 - val_r2: 0.7835\n",
            "Epoch 217/1500\n",
            "84/84 [==============================] - 0s 3ms/step - loss: 2842977.0000 - rmse: 398.6992 - r2: 0.7528 - val_loss: 4583286.5000 - val_rmse: 571.7883 - val_r2: 0.4247\n",
            "Epoch 218/1500\n",
            "84/84 [==============================] - 0s 3ms/step - loss: 2866003.2500 - rmse: 394.1547 - r2: 0.7974 - val_loss: 2784752.0000 - val_rmse: 426.9434 - val_r2: 0.6618\n",
            "Epoch 219/1500\n",
            "84/84 [==============================] - 0s 3ms/step - loss: 2642730.5000 - rmse: 364.7715 - r2: 0.7699 - val_loss: 2186924.7500 - val_rmse: 380.9423 - val_r2: 0.7423\n",
            "Epoch 220/1500\n",
            "84/84 [==============================] - 0s 3ms/step - loss: 3236087.7500 - rmse: 395.9462 - r2: 0.7624 - val_loss: 1571457.1250 - val_rmse: 342.7694 - val_r2: 0.8548\n",
            "Epoch 221/1500\n",
            "84/84 [==============================] - 0s 3ms/step - loss: 3094470.7500 - rmse: 381.5213 - r2: 0.6937 - val_loss: 1584750.2500 - val_rmse: 344.9534 - val_r2: 0.8460\n",
            "Epoch 222/1500\n",
            "84/84 [==============================] - 0s 3ms/step - loss: 2516166.2500 - rmse: 361.8255 - r2: 0.7701 - val_loss: 1635905.1250 - val_rmse: 344.9683 - val_r2: 0.8318\n",
            "Epoch 223/1500\n",
            "84/84 [==============================] - 0s 3ms/step - loss: 2711825.7500 - rmse: 363.7287 - r2: 0.7722 - val_loss: 2565451.2500 - val_rmse: 408.8804 - val_r2: 0.6919\n",
            "Epoch 224/1500\n",
            "84/84 [==============================] - 0s 3ms/step - loss: 3222796.0000 - rmse: 386.3060 - r2: 0.8161 - val_loss: 1716581.5000 - val_rmse: 355.4091 - val_r2: 0.8599\n",
            "Epoch 225/1500\n",
            "84/84 [==============================] - 0s 3ms/step - loss: 2996400.5000 - rmse: 383.4332 - r2: 0.8453 - val_loss: 1781169.1250 - val_rmse: 352.7618 - val_r2: 0.8636\n",
            "Epoch 226/1500\n",
            "84/84 [==============================] - 0s 3ms/step - loss: 2457857.5000 - rmse: 354.4017 - r2: 0.8393 - val_loss: 2027311.2500 - val_rmse: 369.4496 - val_r2: 0.7637\n",
            "Epoch 227/1500\n",
            "84/84 [==============================] - 0s 3ms/step - loss: 2407837.5000 - rmse: 364.8727 - r2: 0.7748 - val_loss: 1799050.6250 - val_rmse: 357.0299 - val_r2: 0.7904\n",
            "Epoch 228/1500\n",
            "84/84 [==============================] - 0s 3ms/step - loss: 2800463.7500 - rmse: 417.7270 - r2: 0.7121 - val_loss: 3771350.2500 - val_rmse: 528.3577 - val_r2: 0.5138\n",
            "Epoch 229/1500\n",
            "84/84 [==============================] - 0s 3ms/step - loss: 3287684.5000 - rmse: 428.4289 - r2: 0.7068 - val_loss: 1865887.0000 - val_rmse: 358.5884 - val_r2: 0.7907\n",
            "Epoch 230/1500\n",
            "84/84 [==============================] - 0s 3ms/step - loss: 2929073.2500 - rmse: 376.4222 - r2: 0.7534 - val_loss: 1727954.6250 - val_rmse: 347.6913 - val_r2: 0.8171\n"
          ]
        }
      ]
    },
    {
      "cell_type": "code",
      "source": [
        "plt.plot( r.history[\"loss\"], label=\"loss\" )\n",
        "plt.plot( r.history[\"val_loss\"], label=\"val_loss\" )\n",
        "plt.legend()\n",
        "plt.plot( r.history[\"rmse\"], label=\"rmse\" )\n",
        "plt.plot( r.history[\"val_rmse\"], label=\"val_rmse\" )\n",
        "plt.legend()\n",
        "plt.plot( r.history[\"r2\"], label=\"r2\" )\n",
        "plt.plot( r.history[\"val_r2\"], label=\"val_r2\" )\n",
        "plt.legend()"
      ],
      "metadata": {
        "colab": {
          "base_uri": "https://localhost:8080/",
          "height": 570
        },
        "id": "j4vgiYQuna3h",
        "outputId": "08a82260-9c4c-4ba4-bbd9-2073e07903ca"
      },
      "execution_count": null,
      "outputs": [
        {
          "output_type": "execute_result",
          "data": {
            "text/plain": [
              "<matplotlib.legend.Legend at 0x7f67be00c550>"
            ]
          },
          "metadata": {},
          "execution_count": 8
        },
        {
          "output_type": "display_data",
          "data": {
            "text/plain": [
              "<Figure size 432x288 with 1 Axes>"
            ],
            "image/png": "[encoded data removed]"
          },
          "metadata": {
            "needs_background": "light"
          }
        },
        {
          "output_type": "execute_result",
          "data": {
            "text/plain": [
              "<matplotlib.legend.Legend at 0x7f67bdeb4ee0>"
            ]
          },
          "metadata": {},
          "execution_count": 9
        },
        {
          "output_type": "display_data",
          "data": {
            "text/plain": [
              "<Figure size 432x288 with 1 Axes>"
            ],
            "image/png": "[encoded data removed]"
          },
          "metadata": {
            "needs_background": "light"
          }
        }
      ]
    },
    {
      "cell_type": "code",
      "source": [
        "y_pred = model.predict(x_test).flatten()\n",
        "mse = mean_squared_error(y_test, y_pred)\n",
        "rmse = sqrt(mse)\n",
        "r2 = r2_score(y_test, y_pred)\n",
        "print(\"mse = \", mse)\n",
        "print(\"rmse = \", rmse)\n",
        "print(\"r2 = \", r2)"
      ],
      "metadata": {
        "colab": {
          "base_uri": "https://localhost:8080/"
        },
        "id": "HSr99d5MngOb",
        "outputId": "84bc5258-4230-4840-cd4f-8773eac8b2d7"
      },
      "execution_count": null,
      "outputs": [
        {
          "output_type": "stream",
          "name": "stdout",
          "text": [
            "42/42 [==============================] - 0s 2ms/step\n",
            "mse =  1531049.505951966\n",
            "rmse =  1237.3558525953501\n",
            "r2 =  0.8836483729775872\n"
          ]
        }
      ]
    },
    {
      "cell_type": "code",
      "source": [
        "plt.scatter(dap_test, y_test, label=\"Observado\")\n",
        "plt.scatter(dap_test, y_pred, label=\"Predito\")\n",
        "plt.title(\"dap x Biomassa\")\n",
        "plt.xlabel(\"dap\")\n",
        "plt.ylabel(\"Biomassa\")\n",
        "plt.legend()\n",
        "plt.show()"
      ],
      "metadata": {
        "colab": {
          "base_uri": "https://localhost:8080/",
          "height": 295
        },
        "id": "xeyRUM30nn0U",
        "outputId": "ca4869c4-0559-43f7-8903-0bd3e8da75f0"
      },
      "execution_count": null,
      "outputs": [
        {
          "output_type": "display_data",
          "data": {
            "text/plain": [
              "<Figure size 432x288 with 1 Axes>"
            ],
            "image/png": "[encoded data removed]"
          },
          "metadata": {
            "needs_background": "light"
          }
        }
      ]
    }
  ]
}