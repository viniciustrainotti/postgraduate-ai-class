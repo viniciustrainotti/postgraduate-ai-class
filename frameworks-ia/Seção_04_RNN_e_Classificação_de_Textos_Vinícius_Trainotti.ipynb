{
  "nbformat": 4,
  "nbformat_minor": 0,
  "metadata": {
    "colab": {
      "provenance": []
    },
    "kernelspec": {
      "name": "python3",
      "display_name": "Python 3"
    },
    "language_info": {
      "name": "python"
    }
  },
  "cells": [
    {
      "cell_type": "markdown",
      "source": [
        "# Seção 04 - RNN e Classificação de Textos\n",
        "### Aluno: Vinícius Trainotti"
      ],
      "metadata": {
        "id": "pJ7eCmruweYw"
      }
    },
    {
      "cell_type": "markdown",
      "source": [
        "# Senoidal : Predição de Série Temporal"
      ],
      "metadata": {
        "id": "o1-weiZ5wrjO"
      }
    },
    {
      "cell_type": "code",
      "execution_count": null,
      "metadata": {
        "id": "Jw9j6y_0wVxS"
      },
      "outputs": [],
      "source": [
        "import tensorflow as tf\n",
        "tf.__version__\n",
        "from tensorflow.keras.layers import Input, SimpleRNN, Dense\n",
        "from tensorflow.keras.models import Model\n",
        "from tensorflow.keras.optimizers import SGD, Adam\n",
        "import numpy as np\n",
        "import pandas as pd\n",
        "import matplotlib.pyplot as plt"
      ]
    },
    {
      "cell_type": "code",
      "source": [
        "series = np.sin(0.1*np.arange(200)) + np.random.randn(200)*0.1\n",
        "plt.plot(series)\n",
        "plt.show()"
      ],
      "metadata": {
        "colab": {
          "base_uri": "https://localhost:8080/",
          "height": 265
        },
        "id": "-ks0ekUAxChR",
        "outputId": "b25d4e6c-eaec-4c93-dc35-0d3549833c2d"
      },
      "execution_count": null,
      "outputs": [
        {
          "output_type": "display_data",
          "data": {
            "text/plain": [
              "<Figure size 432x288 with 1 Axes>"
            ],
            "image/png": "[encoded data removed]"
          },
          "metadata": {
            "needs_background": "light"
          }
        }
      ]
    },
    {
      "cell_type": "code",
      "source": [
        "T = 10 # tamanho da janela\n",
        "D = 1 # quantidade de dados\n",
        "X = []\n",
        "Y = []\n",
        "for t in range(len(series)-T):\n",
        "  x = series[t:t+T]\n",
        "  X.append(x)\n",
        "  y = series[t+T]\n",
        "  Y.append(y)\n",
        "X = np.array(X).reshape(-1, T, 1) # Fica N x T x D\n",
        "Y = np.array(Y)\n",
        "N = len(X)\n",
        "print(\"X.shape: \", X.shape, \" Y.shape: \", Y.shape)"
      ],
      "metadata": {
        "colab": {
          "base_uri": "https://localhost:8080/"
        },
        "id": "Fci0inhQxFPL",
        "outputId": "babc06ed-21c5-49a3-8dfc-7adaa2228aa9"
      },
      "execution_count": null,
      "outputs": [
        {
          "output_type": "stream",
          "name": "stdout",
          "text": [
            "X.shape:  (190, 10, 1)  Y.shape:  (190,)\n"
          ]
        }
      ]
    },
    {
      "cell_type": "code",
      "source": [
        "i = Input(shape=(T, 1))\n",
        "x = SimpleRNN(5, activation=\"relu\")(i)\n",
        "x = Dense(1)(x)\n",
        "model = Model(i, x)"
      ],
      "metadata": {
        "id": "VZVcdxyYxHyv"
      },
      "execution_count": null,
      "outputs": []
    },
    {
      "cell_type": "code",
      "source": [
        "model.compile(\n",
        "loss=\"mse\",\n",
        "optimizer=Adam(learning_rate=0.1)\n",
        ")"
      ],
      "metadata": {
        "id": "XGvBaiqzxJmn"
      },
      "execution_count": null,
      "outputs": []
    },
    {
      "cell_type": "code",
      "source": [
        "r = model.fit(\n",
        "X[:-N//2], Y[:-N//2],\n",
        "epochs=80,\n",
        "validation_data=(X[-N//2:], Y[-N//2:])\n",
        ")"
      ],
      "metadata": {
        "colab": {
          "base_uri": "https://localhost:8080/"
        },
        "id": "FvhHN3KIxNXa",
        "outputId": "6718c6cd-e3e0-4b44-85ac-391583d17523"
      },
      "execution_count": null,
      "outputs": [
        {
          "output_type": "stream",
          "name": "stdout",
          "text": [
            "Epoch 1/80\n",
            "3/3 [==============================] - 2s 187ms/step - loss: 0.2755 - val_loss: 0.0561\n",
            "Epoch 2/80\n",
            "3/3 [==============================] - 0s 20ms/step - loss: 0.0556 - val_loss: 0.0245\n",
            "Epoch 3/80\n",
            "3/3 [==============================] - 0s 19ms/step - loss: 0.0420 - val_loss: 0.0453\n",
            "Epoch 4/80\n",
            "3/3 [==============================] - 0s 20ms/step - loss: 0.0563 - val_loss: 0.0465\n",
            "Epoch 5/80\n",
            "3/3 [==============================] - 0s 27ms/step - loss: 0.0474 - val_loss: 0.0450\n",
            "Epoch 6/80\n",
            "3/3 [==============================] - 0s 22ms/step - loss: 0.0478 - val_loss: 0.0281\n",
            "Epoch 7/80\n",
            "3/3 [==============================] - 0s 25ms/step - loss: 0.0482 - val_loss: 0.0256\n",
            "Epoch 8/80\n",
            "3/3 [==============================] - 0s 22ms/step - loss: 0.0382 - val_loss: 0.0409\n",
            "Epoch 9/80\n",
            "3/3 [==============================] - 0s 23ms/step - loss: 0.0362 - val_loss: 0.0292\n",
            "Epoch 10/80\n",
            "3/3 [==============================] - 0s 25ms/step - loss: 0.0356 - val_loss: 0.0243\n",
            "Epoch 11/80\n",
            "3/3 [==============================] - 0s 20ms/step - loss: 0.0287 - val_loss: 0.0377\n",
            "Epoch 12/80\n",
            "3/3 [==============================] - 0s 20ms/step - loss: 0.0341 - val_loss: 0.0223\n",
            "Epoch 13/80\n",
            "3/3 [==============================] - 0s 20ms/step - loss: 0.0274 - val_loss: 0.0283\n",
            "Epoch 14/80\n",
            "3/3 [==============================] - 0s 20ms/step - loss: 0.0292 - val_loss: 0.0228\n",
            "Epoch 15/80\n",
            "3/3 [==============================] - 0s 29ms/step - loss: 0.0259 - val_loss: 0.0257\n",
            "Epoch 16/80\n",
            "3/3 [==============================] - 0s 23ms/step - loss: 0.0239 - val_loss: 0.0188\n",
            "Epoch 17/80\n",
            "3/3 [==============================] - 0s 22ms/step - loss: 0.0257 - val_loss: 0.0184\n",
            "Epoch 18/80\n",
            "3/3 [==============================] - 0s 21ms/step - loss: 0.0234 - val_loss: 0.0237\n",
            "Epoch 19/80\n",
            "3/3 [==============================] - 0s 20ms/step - loss: 0.0260 - val_loss: 0.0208\n",
            "Epoch 20/80\n",
            "3/3 [==============================] - 0s 29ms/step - loss: 0.0267 - val_loss: 0.0226\n",
            "Epoch 21/80\n",
            "3/3 [==============================] - 0s 28ms/step - loss: 0.0254 - val_loss: 0.0223\n",
            "Epoch 22/80\n",
            "3/3 [==============================] - 0s 29ms/step - loss: 0.0275 - val_loss: 0.0243\n",
            "Epoch 23/80\n",
            "3/3 [==============================] - 0s 21ms/step - loss: 0.0230 - val_loss: 0.0211\n",
            "Epoch 24/80\n",
            "3/3 [==============================] - 0s 25ms/step - loss: 0.0260 - val_loss: 0.0195\n",
            "Epoch 25/80\n",
            "3/3 [==============================] - 0s 27ms/step - loss: 0.0251 - val_loss: 0.0249\n",
            "Epoch 26/80\n",
            "3/3 [==============================] - 0s 28ms/step - loss: 0.0238 - val_loss: 0.0206\n",
            "Epoch 27/80\n",
            "3/3 [==============================] - 0s 24ms/step - loss: 0.0246 - val_loss: 0.0195\n",
            "Epoch 28/80\n",
            "3/3 [==============================] - 0s 20ms/step - loss: 0.0242 - val_loss: 0.0226\n",
            "Epoch 29/80\n",
            "3/3 [==============================] - 0s 28ms/step - loss: 0.0233 - val_loss: 0.0200\n",
            "Epoch 30/80\n",
            "3/3 [==============================] - 0s 27ms/step - loss: 0.0236 - val_loss: 0.0211\n",
            "Epoch 31/80\n",
            "3/3 [==============================] - 0s 21ms/step - loss: 0.0230 - val_loss: 0.0209\n",
            "Epoch 32/80\n",
            "3/3 [==============================] - 0s 25ms/step - loss: 0.0224 - val_loss: 0.0203\n",
            "Epoch 33/80\n",
            "3/3 [==============================] - 0s 20ms/step - loss: 0.0223 - val_loss: 0.0198\n",
            "Epoch 34/80\n",
            "3/3 [==============================] - 0s 30ms/step - loss: 0.0228 - val_loss: 0.0202\n",
            "Epoch 35/80\n",
            "3/3 [==============================] - 0s 29ms/step - loss: 0.0231 - val_loss: 0.0225\n",
            "Epoch 36/80\n",
            "3/3 [==============================] - 0s 28ms/step - loss: 0.0247 - val_loss: 0.0212\n",
            "Epoch 37/80\n",
            "3/3 [==============================] - 0s 24ms/step - loss: 0.0231 - val_loss: 0.0229\n",
            "Epoch 38/80\n",
            "3/3 [==============================] - 0s 20ms/step - loss: 0.0234 - val_loss: 0.0212\n",
            "Epoch 39/80\n",
            "3/3 [==============================] - 0s 28ms/step - loss: 0.0226 - val_loss: 0.0197\n",
            "Epoch 40/80\n",
            "3/3 [==============================] - 0s 24ms/step - loss: 0.0222 - val_loss: 0.0216\n",
            "Epoch 41/80\n",
            "3/3 [==============================] - 0s 31ms/step - loss: 0.0229 - val_loss: 0.0208\n",
            "Epoch 42/80\n",
            "3/3 [==============================] - 0s 20ms/step - loss: 0.0227 - val_loss: 0.0193\n",
            "Epoch 43/80\n",
            "3/3 [==============================] - 0s 28ms/step - loss: 0.0221 - val_loss: 0.0208\n",
            "Epoch 44/80\n",
            "3/3 [==============================] - 0s 29ms/step - loss: 0.0225 - val_loss: 0.0194\n",
            "Epoch 45/80\n",
            "3/3 [==============================] - 0s 20ms/step - loss: 0.0222 - val_loss: 0.0202\n",
            "Epoch 46/80\n",
            "3/3 [==============================] - 0s 21ms/step - loss: 0.0222 - val_loss: 0.0196\n",
            "Epoch 47/80\n",
            "3/3 [==============================] - 0s 22ms/step - loss: 0.0223 - val_loss: 0.0201\n",
            "Epoch 48/80\n",
            "3/3 [==============================] - 0s 24ms/step - loss: 0.0224 - val_loss: 0.0197\n",
            "Epoch 49/80\n",
            "3/3 [==============================] - 0s 21ms/step - loss: 0.0224 - val_loss: 0.0191\n",
            "Epoch 50/80\n",
            "3/3 [==============================] - 0s 21ms/step - loss: 0.0220 - val_loss: 0.0217\n",
            "Epoch 51/80\n",
            "3/3 [==============================] - 0s 20ms/step - loss: 0.0234 - val_loss: 0.0200\n",
            "Epoch 52/80\n",
            "3/3 [==============================] - 0s 29ms/step - loss: 0.0220 - val_loss: 0.0200\n",
            "Epoch 53/80\n",
            "3/3 [==============================] - 0s 19ms/step - loss: 0.0231 - val_loss: 0.0198\n",
            "Epoch 54/80\n",
            "3/3 [==============================] - 0s 28ms/step - loss: 0.0227 - val_loss: 0.0191\n",
            "Epoch 55/80\n",
            "3/3 [==============================] - 0s 20ms/step - loss: 0.0227 - val_loss: 0.0197\n",
            "Epoch 56/80\n",
            "3/3 [==============================] - 0s 28ms/step - loss: 0.0237 - val_loss: 0.0210\n",
            "Epoch 57/80\n",
            "3/3 [==============================] - 0s 21ms/step - loss: 0.0229 - val_loss: 0.0192\n",
            "Epoch 58/80\n",
            "3/3 [==============================] - 0s 23ms/step - loss: 0.0223 - val_loss: 0.0224\n",
            "Epoch 59/80\n",
            "3/3 [==============================] - 0s 28ms/step - loss: 0.0248 - val_loss: 0.0210\n",
            "Epoch 60/80\n",
            "3/3 [==============================] - 0s 21ms/step - loss: 0.0233 - val_loss: 0.0203\n",
            "Epoch 61/80\n",
            "3/3 [==============================] - 0s 21ms/step - loss: 0.0228 - val_loss: 0.0192\n",
            "Epoch 62/80\n",
            "3/3 [==============================] - 0s 20ms/step - loss: 0.0222 - val_loss: 0.0198\n",
            "Epoch 63/80\n",
            "3/3 [==============================] - 0s 27ms/step - loss: 0.0224 - val_loss: 0.0198\n",
            "Epoch 64/80\n",
            "3/3 [==============================] - 0s 24ms/step - loss: 0.0234 - val_loss: 0.0199\n",
            "Epoch 65/80\n",
            "3/3 [==============================] - 0s 21ms/step - loss: 0.0230 - val_loss: 0.0198\n",
            "Epoch 66/80\n",
            "3/3 [==============================] - 0s 22ms/step - loss: 0.0232 - val_loss: 0.0230\n",
            "Epoch 67/80\n",
            "3/3 [==============================] - 0s 23ms/step - loss: 0.0221 - val_loss: 0.0196\n",
            "Epoch 68/80\n",
            "3/3 [==============================] - 0s 29ms/step - loss: 0.0248 - val_loss: 0.0207\n",
            "Epoch 69/80\n",
            "3/3 [==============================] - 0s 19ms/step - loss: 0.0287 - val_loss: 0.0193\n",
            "Epoch 70/80\n",
            "3/3 [==============================] - 0s 19ms/step - loss: 0.0312 - val_loss: 0.0226\n",
            "Epoch 71/80\n",
            "3/3 [==============================] - 0s 22ms/step - loss: 0.0250 - val_loss: 0.0369\n",
            "Epoch 72/80\n",
            "3/3 [==============================] - 0s 20ms/step - loss: 0.0258 - val_loss: 0.0223\n",
            "Epoch 73/80\n",
            "3/3 [==============================] - 0s 22ms/step - loss: 0.0265 - val_loss: 0.0233\n",
            "Epoch 74/80\n",
            "3/3 [==============================] - 0s 29ms/step - loss: 0.0274 - val_loss: 0.0199\n",
            "Epoch 75/80\n",
            "3/3 [==============================] - 0s 32ms/step - loss: 0.0272 - val_loss: 0.0217\n",
            "Epoch 76/80\n",
            "3/3 [==============================] - 0s 28ms/step - loss: 0.0239 - val_loss: 0.0272\n",
            "Epoch 77/80\n",
            "3/3 [==============================] - 0s 20ms/step - loss: 0.0241 - val_loss: 0.0186\n",
            "Epoch 78/80\n",
            "3/3 [==============================] - 0s 30ms/step - loss: 0.0247 - val_loss: 0.0199\n",
            "Epoch 79/80\n",
            "3/3 [==============================] - 0s 22ms/step - loss: 0.0245 - val_loss: 0.0185\n",
            "Epoch 80/80\n",
            "3/3 [==============================] - 0s 33ms/step - loss: 0.0230 - val_loss: 0.0189\n"
          ]
        }
      ]
    },
    {
      "cell_type": "code",
      "source": [
        "plt.plot(r.history[\"loss\"], label=\"loss\")\n",
        "plt.plot(r.history[\"val_loss\"], label=\"val_loss\")\n",
        "plt.legend()"
      ],
      "metadata": {
        "colab": {
          "base_uri": "https://localhost:8080/",
          "height": 282
        },
        "id": "13hs-Cg5xQMQ",
        "outputId": "8f745a98-42d9-4b26-f797-00a607cff4f1"
      },
      "execution_count": null,
      "outputs": [
        {
          "output_type": "execute_result",
          "data": {
            "text/plain": [
              "<matplotlib.legend.Legend at 0x7f542c142850>"
            ]
          },
          "metadata": {},
          "execution_count": 9
        },
        {
          "output_type": "display_data",
          "data": {
            "text/plain": [
              "<Figure size 432x288 with 1 Axes>"
            ],
            "image/png": "[encoded data removed]"
          },
          "metadata": {
            "needs_background": "light"
          }
        }
      ]
    },
    {
      "cell_type": "code",
      "source": [
        "validation_target = Y[-N//2:]\n",
        "validation_predictions = []\n",
        "i = -N//2\n",
        "while len(validation_predictions) < len(validation_target):\n",
        "  p = model.predict( X[i].reshape(1, -1, 1))[0, 0]\n",
        "  i += 1\n",
        "  validation_predictions.append(p)"
      ],
      "metadata": {
        "colab": {
          "base_uri": "https://localhost:8080/"
        },
        "id": "a0c7gwz9xSwE",
        "outputId": "127d0b22-fd3b-4c21-936b-e930012c71d0"
      },
      "execution_count": null,
      "outputs": [
        {
          "output_type": "stream",
          "name": "stdout",
          "text": [
            "1/1 [==============================] - 1s 640ms/step\n",
            "1/1 [==============================] - 0s 65ms/step\n",
            "1/1 [==============================] - 0s 36ms/step\n",
            "1/1 [==============================] - 0s 37ms/step\n",
            "1/1 [==============================] - 0s 55ms/step\n",
            "1/1 [==============================] - 0s 44ms/step\n",
            "1/1 [==============================] - 0s 74ms/step\n",
            "1/1 [==============================] - 0s 37ms/step\n",
            "1/1 [==============================] - 0s 57ms/step\n",
            "1/1 [==============================] - 0s 33ms/step\n",
            "1/1 [==============================] - 0s 105ms/step\n",
            "1/1 [==============================] - 0s 25ms/step\n",
            "1/1 [==============================] - 0s 24ms/step\n",
            "1/1 [==============================] - 0s 23ms/step\n",
            "1/1 [==============================] - 0s 23ms/step\n",
            "1/1 [==============================] - 0s 23ms/step\n",
            "1/1 [==============================] - 0s 23ms/step\n",
            "1/1 [==============================] - 0s 22ms/step\n",
            "1/1 [==============================] - 0s 29ms/step\n",
            "1/1 [==============================] - 0s 22ms/step\n",
            "1/1 [==============================] - 0s 25ms/step\n",
            "1/1 [==============================] - 0s 26ms/step\n",
            "1/1 [==============================] - 0s 23ms/step\n",
            "1/1 [==============================] - 0s 22ms/step\n",
            "1/1 [==============================] - 0s 24ms/step\n",
            "1/1 [==============================] - 0s 25ms/step\n",
            "1/1 [==============================] - 0s 23ms/step\n",
            "1/1 [==============================] - 0s 25ms/step\n",
            "1/1 [==============================] - 0s 41ms/step\n",
            "1/1 [==============================] - 0s 42ms/step\n",
            "1/1 [==============================] - 0s 35ms/step\n",
            "1/1 [==============================] - 0s 32ms/step\n",
            "1/1 [==============================] - 0s 33ms/step\n",
            "1/1 [==============================] - 0s 33ms/step\n",
            "1/1 [==============================] - 0s 31ms/step\n",
            "1/1 [==============================] - 0s 39ms/step\n",
            "1/1 [==============================] - 0s 33ms/step\n",
            "1/1 [==============================] - 0s 33ms/step\n",
            "1/1 [==============================] - 0s 31ms/step\n",
            "1/1 [==============================] - 0s 35ms/step\n",
            "1/1 [==============================] - 0s 32ms/step\n",
            "1/1 [==============================] - 0s 36ms/step\n",
            "1/1 [==============================] - 0s 35ms/step\n",
            "1/1 [==============================] - 0s 46ms/step\n",
            "1/1 [==============================] - 0s 34ms/step\n",
            "1/1 [==============================] - 0s 35ms/step\n",
            "1/1 [==============================] - 0s 33ms/step\n",
            "1/1 [==============================] - 0s 38ms/step\n",
            "1/1 [==============================] - 0s 37ms/step\n",
            "1/1 [==============================] - 0s 35ms/step\n",
            "1/1 [==============================] - 0s 33ms/step\n",
            "1/1 [==============================] - 0s 34ms/step\n",
            "1/1 [==============================] - 0s 36ms/step\n",
            "1/1 [==============================] - 0s 26ms/step\n",
            "1/1 [==============================] - 0s 25ms/step\n",
            "1/1 [==============================] - 0s 22ms/step\n",
            "1/1 [==============================] - 0s 25ms/step\n",
            "1/1 [==============================] - 0s 25ms/step\n",
            "1/1 [==============================] - 0s 23ms/step\n",
            "1/1 [==============================] - 0s 22ms/step\n",
            "1/1 [==============================] - 0s 22ms/step\n",
            "1/1 [==============================] - 0s 23ms/step\n",
            "1/1 [==============================] - 0s 23ms/step\n",
            "1/1 [==============================] - 0s 23ms/step\n",
            "1/1 [==============================] - 0s 21ms/step\n",
            "1/1 [==============================] - 0s 23ms/step\n",
            "1/1 [==============================] - 0s 24ms/step\n",
            "1/1 [==============================] - 0s 25ms/step\n",
            "1/1 [==============================] - 0s 22ms/step\n",
            "1/1 [==============================] - 0s 22ms/step\n",
            "1/1 [==============================] - 0s 21ms/step\n",
            "1/1 [==============================] - 0s 22ms/step\n",
            "1/1 [==============================] - 0s 25ms/step\n",
            "1/1 [==============================] - 0s 22ms/step\n",
            "1/1 [==============================] - 0s 24ms/step\n",
            "1/1 [==============================] - 0s 22ms/step\n",
            "1/1 [==============================] - 0s 22ms/step\n",
            "1/1 [==============================] - 0s 24ms/step\n",
            "1/1 [==============================] - 0s 24ms/step\n",
            "1/1 [==============================] - 0s 23ms/step\n",
            "1/1 [==============================] - 0s 23ms/step\n",
            "1/1 [==============================] - 0s 22ms/step\n",
            "1/1 [==============================] - 0s 23ms/step\n",
            "1/1 [==============================] - 0s 23ms/step\n",
            "1/1 [==============================] - 0s 27ms/step\n",
            "1/1 [==============================] - 0s 24ms/step\n",
            "1/1 [==============================] - 0s 28ms/step\n",
            "1/1 [==============================] - 0s 23ms/step\n",
            "1/1 [==============================] - 0s 22ms/step\n",
            "1/1 [==============================] - 0s 23ms/step\n",
            "1/1 [==============================] - 0s 25ms/step\n",
            "1/1 [==============================] - 0s 23ms/step\n",
            "1/1 [==============================] - 0s 24ms/step\n",
            "1/1 [==============================] - 0s 24ms/step\n",
            "1/1 [==============================] - 0s 24ms/step\n"
          ]
        }
      ]
    },
    {
      "cell_type": "code",
      "source": [
        "plt.plot(validation_target, label=\"Observado\")\n",
        "plt.plot(validation_predictions, label=\"Predito\")\n",
        "plt.legend()"
      ],
      "metadata": {
        "colab": {
          "base_uri": "https://localhost:8080/",
          "height": 282
        },
        "id": "APAs6L1VxUv7",
        "outputId": "349bbe3a-eaa7-4c25-a5a1-7f0c0ab08fc4"
      },
      "execution_count": null,
      "outputs": [
        {
          "output_type": "execute_result",
          "data": {
            "text/plain": [
              "<matplotlib.legend.Legend at 0x7f542dfb96d0>"
            ]
          },
          "metadata": {},
          "execution_count": 12
        },
        {
          "output_type": "display_data",
          "data": {
            "text/plain": [
              "<Figure size 432x288 with 1 Axes>"
            ],
            "image/png": "[encoded data removed]"
          },
          "metadata": {
            "needs_background": "light"
          }
        }
      ]
    },
    {
      "cell_type": "markdown",
      "source": [
        "# Passageiros : Predição de Série Temporal"
      ],
      "metadata": {
        "id": "gpEzP6pRyI0G"
      }
    },
    {
      "cell_type": "code",
      "source": [
        "import math\n",
        "import numpy as np\n",
        "import pandas as pd\n",
        "import matplotlib.pyplot as plt\n",
        "import tensorflow as tf\n",
        "from tensorflow.keras.layers import Input, SimpleRNN, Dense\n",
        "from tensorflow.keras.models import Model\n",
        "from tensorflow.keras.optimizers import SGD, Adam\n",
        "from sklearn.preprocessing import StandardScaler\n",
        "from sklearn.preprocessing import MinMaxScaler\n",
        "from sklearn.metrics import mean_squared_error\n",
        "tf.__version__"
      ],
      "metadata": {
        "colab": {
          "base_uri": "https://localhost:8080/",
          "height": 35
        },
        "id": "H4x86hMzybxz",
        "outputId": "b7174c0f-f63e-40ca-98df-2c0f0bcb2908"
      },
      "execution_count": null,
      "outputs": [
        {
          "output_type": "execute_result",
          "data": {
            "text/plain": [
              "'2.11.0'"
            ],
            "application/vnd.google.colaboratory.intrinsic+json": {
              "type": "string"
            }
          },
          "metadata": {},
          "execution_count": 13
        }
      ]
    },
    {
      "cell_type": "code",
      "source": [
        "!wget http://www.razer.net.br/datasets/airline-passengers.csv\n",
        "df = pd.read_csv(\"airline-passengers.csv\", usecols=[1])\n",
        "df.head()\n",
        "plt.plot(df)\n",
        "plt.show()"
      ],
      "metadata": {
        "colab": {
          "base_uri": "https://localhost:8080/",
          "height": 456
        },
        "id": "50TqiEVVyiJV",
        "outputId": "e4614e54-6062-44d2-dced-1d3241ed3912"
      },
      "execution_count": null,
      "outputs": [
        {
          "output_type": "stream",
          "name": "stdout",
          "text": [
            "--2023-03-25 17:22:45--  http://www.razer.net.br/datasets/airline-passengers.csv\n",
            "Resolving www.razer.net.br (www.razer.net.br)... 178.128.150.229\n",
            "Connecting to www.razer.net.br (www.razer.net.br)|178.128.150.229|:80... connected.\n",
            "HTTP request sent, awaiting response... 200 OK\n",
            "Length: 2180 (2.1K) [text/csv]\n",
            "Saving to: ‘airline-passengers.csv’\n",
            "\n",
            "\rairline-passengers.   0%[                    ]       0  --.-KB/s               \rairline-passengers. 100%[===================>]   2.13K  --.-KB/s    in 0s      \n",
            "\n",
            "2023-03-25 17:22:45 (227 MB/s) - ‘airline-passengers.csv’ saved [2180/2180]\n",
            "\n"
          ]
        },
        {
          "output_type": "display_data",
          "data": {
            "text/plain": [
              "<Figure size 432x288 with 1 Axes>"
            ],
            "image/png": "[encoded data removed]"
          },
          "metadata": {
            "needs_background": "light"
          }
        }
      ]
    },
    {
      "cell_type": "code",
      "source": [
        "series = df.values\n",
        "series = series.astype('float32')\n",
        "scaler = MinMaxScaler(feature_range=(0, 1))\n",
        "series = scaler.fit_transform(series)\n",
        "# tamanho da base de treino – 67% do total\n",
        "train_size = int(len(series) * 0.67)"
      ],
      "metadata": {
        "id": "srHIq5vhy5P_"
      },
      "execution_count": null,
      "outputs": []
    },
    {
      "cell_type": "code",
      "source": [
        "T = 10\n",
        "D = 1\n",
        "X = []\n",
        "Y = []\n",
        "for t in range(len(series)-T):\n",
        "  x = series[t:t+T]\n",
        "  X.append(x)\n",
        "  y = series[t+T]\n",
        "  Y.append(y)\n",
        "X = np.array(X).reshape(-1, T, 1) # Fica N x T x D\n",
        "Y = np.array(Y)\n",
        "N = len(X)\n",
        "print(\"X.shape: \", X.shape, \" Y.shape: \", Y.shape)"
      ],
      "metadata": {
        "colab": {
          "base_uri": "https://localhost:8080/"
        },
        "id": "51ckQp7yy8AQ",
        "outputId": "a5afdf54-99cc-4ad5-f5a6-f98f3e0e2ae8"
      },
      "execution_count": null,
      "outputs": [
        {
          "output_type": "stream",
          "name": "stdout",
          "text": [
            "X.shape:  (134, 10, 1)  Y.shape:  (134, 1)\n"
          ]
        }
      ]
    },
    {
      "cell_type": "code",
      "source": [
        "i = Input(shape=(T, 1))\n",
        "x = SimpleRNN(5, activation=None)(i)\n",
        "# x = SimpleRNN(5, activation=\"relu\")(i)\n",
        "# x = SimpleRNN(5)(i) # tanh por default\n",
        "x = Dense(1)(x)\n",
        "model = Model(i, x)"
      ],
      "metadata": {
        "id": "zHdROI89zAQY"
      },
      "execution_count": null,
      "outputs": []
    },
    {
      "cell_type": "code",
      "source": [
        "model.compile(\n",
        "loss=\"mse\",\n",
        "optimizer=Adam(learning_rate=0.1)\n",
        ")\n",
        "r = model.fit(\n",
        "X[:train_size], Y[:train_size],\n",
        "epochs=80,\n",
        "validation_data=(X[-train_size:], Y[-train_size:])\n",
        ")"
      ],
      "metadata": {
        "colab": {
          "base_uri": "https://localhost:8080/"
        },
        "id": "ObfWlDEczF6t",
        "outputId": "a284a9d6-b206-4ca9-e1d9-3fbd7798d3b8"
      },
      "execution_count": null,
      "outputs": [
        {
          "output_type": "stream",
          "name": "stdout",
          "text": [
            "Epoch 1/80\n",
            "3/3 [==============================] - 1s 113ms/step - loss: 0.3306 - val_loss: 0.0213\n",
            "Epoch 2/80\n",
            "3/3 [==============================] - 0s 23ms/step - loss: 0.0115 - val_loss: 0.0194\n",
            "Epoch 3/80\n",
            "3/3 [==============================] - 0s 26ms/step - loss: 0.0086 - val_loss: 0.0204\n",
            "Epoch 4/80\n",
            "3/3 [==============================] - 0s 19ms/step - loss: 0.0459 - val_loss: 0.0124\n",
            "Epoch 5/80\n",
            "3/3 [==============================] - 0s 25ms/step - loss: 0.0243 - val_loss: 0.0208\n",
            "Epoch 6/80\n",
            "3/3 [==============================] - 0s 18ms/step - loss: 0.0123 - val_loss: 0.0229\n",
            "Epoch 7/80\n",
            "3/3 [==============================] - 0s 19ms/step - loss: 0.0083 - val_loss: 0.0087\n",
            "Epoch 8/80\n",
            "3/3 [==============================] - 0s 21ms/step - loss: 0.0077 - val_loss: 0.0112\n",
            "Epoch 9/80\n",
            "3/3 [==============================] - 0s 19ms/step - loss: 0.0074 - val_loss: 0.0136\n",
            "Epoch 10/80\n",
            "3/3 [==============================] - 0s 19ms/step - loss: 0.0043 - val_loss: 0.0070\n",
            "Epoch 11/80\n",
            "3/3 [==============================] - 0s 26ms/step - loss: 0.0047 - val_loss: 0.0085\n",
            "Epoch 12/80\n",
            "3/3 [==============================] - 0s 21ms/step - loss: 0.0039 - val_loss: 0.0061\n",
            "Epoch 13/80\n",
            "3/3 [==============================] - 0s 20ms/step - loss: 0.0025 - val_loss: 0.0057\n",
            "Epoch 14/80\n",
            "3/3 [==============================] - 0s 20ms/step - loss: 0.0029 - val_loss: 0.0062\n",
            "Epoch 15/80\n",
            "3/3 [==============================] - 0s 21ms/step - loss: 0.0029 - val_loss: 0.0054\n",
            "Epoch 16/80\n",
            "3/3 [==============================] - 0s 21ms/step - loss: 0.0026 - val_loss: 0.0054\n",
            "Epoch 17/80\n",
            "3/3 [==============================] - 0s 27ms/step - loss: 0.0028 - val_loss: 0.0056\n",
            "Epoch 18/80\n",
            "3/3 [==============================] - 0s 23ms/step - loss: 0.0025 - val_loss: 0.0055\n",
            "Epoch 19/80\n",
            "3/3 [==============================] - 0s 28ms/step - loss: 0.0029 - val_loss: 0.0054\n",
            "Epoch 20/80\n",
            "3/3 [==============================] - 0s 37ms/step - loss: 0.0029 - val_loss: 0.0057\n",
            "Epoch 21/80\n",
            "3/3 [==============================] - 0s 31ms/step - loss: 0.0034 - val_loss: 0.0052\n",
            "Epoch 22/80\n",
            "3/3 [==============================] - 0s 27ms/step - loss: 0.0030 - val_loss: 0.0066\n",
            "Epoch 23/80\n",
            "3/3 [==============================] - 0s 20ms/step - loss: 0.0030 - val_loss: 0.0053\n",
            "Epoch 24/80\n",
            "3/3 [==============================] - 0s 20ms/step - loss: 0.0026 - val_loss: 0.0066\n",
            "Epoch 25/80\n",
            "3/3 [==============================] - 0s 21ms/step - loss: 0.0029 - val_loss: 0.0051\n",
            "Epoch 26/80\n",
            "3/3 [==============================] - 0s 20ms/step - loss: 0.0026 - val_loss: 0.0055\n",
            "Epoch 27/80\n",
            "3/3 [==============================] - 0s 19ms/step - loss: 0.0025 - val_loss: 0.0052\n",
            "Epoch 28/80\n",
            "3/3 [==============================] - 0s 21ms/step - loss: 0.0024 - val_loss: 0.0051\n",
            "Epoch 29/80\n",
            "3/3 [==============================] - 0s 27ms/step - loss: 0.0024 - val_loss: 0.0052\n",
            "Epoch 30/80\n",
            "3/3 [==============================] - 0s 28ms/step - loss: 0.0026 - val_loss: 0.0052\n",
            "Epoch 31/80\n",
            "3/3 [==============================] - 0s 19ms/step - loss: 0.0024 - val_loss: 0.0055\n",
            "Epoch 32/80\n",
            "3/3 [==============================] - 0s 23ms/step - loss: 0.0025 - val_loss: 0.0050\n",
            "Epoch 33/80\n",
            "3/3 [==============================] - 0s 28ms/step - loss: 0.0027 - val_loss: 0.0056\n",
            "Epoch 34/80\n",
            "3/3 [==============================] - 0s 19ms/step - loss: 0.0027 - val_loss: 0.0050\n",
            "Epoch 35/80\n",
            "3/3 [==============================] - 0s 29ms/step - loss: 0.0025 - val_loss: 0.0049\n",
            "Epoch 36/80\n",
            "3/3 [==============================] - 0s 25ms/step - loss: 0.0023 - val_loss: 0.0053\n",
            "Epoch 37/80\n",
            "3/3 [==============================] - 0s 20ms/step - loss: 0.0023 - val_loss: 0.0050\n",
            "Epoch 38/80\n",
            "3/3 [==============================] - 0s 26ms/step - loss: 0.0024 - val_loss: 0.0051\n",
            "Epoch 39/80\n",
            "3/3 [==============================] - 0s 18ms/step - loss: 0.0025 - val_loss: 0.0049\n",
            "Epoch 40/80\n",
            "3/3 [==============================] - 0s 18ms/step - loss: 0.0025 - val_loss: 0.0049\n",
            "Epoch 41/80\n",
            "3/3 [==============================] - 0s 19ms/step - loss: 0.0024 - val_loss: 0.0052\n",
            "Epoch 42/80\n",
            "3/3 [==============================] - 0s 20ms/step - loss: 0.0024 - val_loss: 0.0048\n",
            "Epoch 43/80\n",
            "3/3 [==============================] - 0s 20ms/step - loss: 0.0023 - val_loss: 0.0052\n",
            "Epoch 44/80\n",
            "3/3 [==============================] - 0s 18ms/step - loss: 0.0022 - val_loss: 0.0047\n",
            "Epoch 45/80\n",
            "3/3 [==============================] - 0s 25ms/step - loss: 0.0023 - val_loss: 0.0052\n",
            "Epoch 46/80\n",
            "3/3 [==============================] - 0s 19ms/step - loss: 0.0023 - val_loss: 0.0047\n",
            "Epoch 47/80\n",
            "3/3 [==============================] - 0s 19ms/step - loss: 0.0022 - val_loss: 0.0048\n",
            "Epoch 48/80\n",
            "3/3 [==============================] - 0s 19ms/step - loss: 0.0021 - val_loss: 0.0050\n",
            "Epoch 49/80\n",
            "3/3 [==============================] - 0s 30ms/step - loss: 0.0023 - val_loss: 0.0048\n",
            "Epoch 50/80\n",
            "3/3 [==============================] - 0s 26ms/step - loss: 0.0025 - val_loss: 0.0046\n",
            "Epoch 51/80\n",
            "3/3 [==============================] - 0s 20ms/step - loss: 0.0026 - val_loss: 0.0048\n",
            "Epoch 52/80\n",
            "3/3 [==============================] - 0s 27ms/step - loss: 0.0024 - val_loss: 0.0046\n",
            "Epoch 53/80\n",
            "3/3 [==============================] - 0s 27ms/step - loss: 0.0024 - val_loss: 0.0046\n",
            "Epoch 54/80\n",
            "3/3 [==============================] - 0s 19ms/step - loss: 0.0025 - val_loss: 0.0046\n",
            "Epoch 55/80\n",
            "3/3 [==============================] - 0s 26ms/step - loss: 0.0023 - val_loss: 0.0046\n",
            "Epoch 56/80\n",
            "3/3 [==============================] - 0s 28ms/step - loss: 0.0020 - val_loss: 0.0047\n",
            "Epoch 57/80\n",
            "3/3 [==============================] - 0s 18ms/step - loss: 0.0021 - val_loss: 0.0045\n",
            "Epoch 58/80\n",
            "3/3 [==============================] - 0s 27ms/step - loss: 0.0022 - val_loss: 0.0044\n",
            "Epoch 59/80\n",
            "3/3 [==============================] - 0s 30ms/step - loss: 0.0024 - val_loss: 0.0046\n",
            "Epoch 60/80\n",
            "3/3 [==============================] - 0s 21ms/step - loss: 0.0031 - val_loss: 0.0044\n",
            "Epoch 61/80\n",
            "3/3 [==============================] - 0s 20ms/step - loss: 0.0034 - val_loss: 0.0056\n",
            "Epoch 62/80\n",
            "3/3 [==============================] - 0s 27ms/step - loss: 0.0034 - val_loss: 0.0043\n",
            "Epoch 63/80\n",
            "3/3 [==============================] - 0s 28ms/step - loss: 0.0031 - val_loss: 0.0052\n",
            "Epoch 64/80\n",
            "3/3 [==============================] - 0s 19ms/step - loss: 0.0029 - val_loss: 0.0043\n",
            "Epoch 65/80\n",
            "3/3 [==============================] - 0s 27ms/step - loss: 0.0027 - val_loss: 0.0045\n",
            "Epoch 66/80\n",
            "3/3 [==============================] - 0s 27ms/step - loss: 0.0029 - val_loss: 0.0046\n",
            "Epoch 67/80\n",
            "3/3 [==============================] - 0s 18ms/step - loss: 0.0028 - val_loss: 0.0044\n",
            "Epoch 68/80\n",
            "3/3 [==============================] - 0s 26ms/step - loss: 0.0025 - val_loss: 0.0047\n",
            "Epoch 69/80\n",
            "3/3 [==============================] - 0s 18ms/step - loss: 0.0023 - val_loss: 0.0043\n",
            "Epoch 70/80\n",
            "3/3 [==============================] - 0s 28ms/step - loss: 0.0021 - val_loss: 0.0051\n",
            "Epoch 71/80\n",
            "3/3 [==============================] - 0s 19ms/step - loss: 0.0022 - val_loss: 0.0044\n",
            "Epoch 72/80\n",
            "3/3 [==============================] - 0s 19ms/step - loss: 0.0023 - val_loss: 0.0049\n",
            "Epoch 73/80\n",
            "3/3 [==============================] - 0s 23ms/step - loss: 0.0020 - val_loss: 0.0045\n",
            "Epoch 74/80\n",
            "3/3 [==============================] - 0s 27ms/step - loss: 0.0020 - val_loss: 0.0048\n",
            "Epoch 75/80\n",
            "3/3 [==============================] - 0s 26ms/step - loss: 0.0021 - val_loss: 0.0043\n",
            "Epoch 76/80\n",
            "3/3 [==============================] - 0s 26ms/step - loss: 0.0022 - val_loss: 0.0044\n",
            "Epoch 77/80\n",
            "3/3 [==============================] - 0s 19ms/step - loss: 0.0022 - val_loss: 0.0042\n",
            "Epoch 78/80\n",
            "3/3 [==============================] - 0s 21ms/step - loss: 0.0020 - val_loss: 0.0043\n",
            "Epoch 79/80\n",
            "3/3 [==============================] - 0s 20ms/step - loss: 0.0018 - val_loss: 0.0041\n",
            "Epoch 80/80\n",
            "3/3 [==============================] - 0s 27ms/step - loss: 0.0018 - val_loss: 0.0041\n"
          ]
        }
      ]
    },
    {
      "cell_type": "code",
      "source": [
        "plt.plot(r.history[\"loss\"], label=\"loss\")\n",
        "plt.plot(r.history[\"val_loss\"], label=\"val_loss\")\n",
        "plt.legend()"
      ],
      "metadata": {
        "colab": {
          "base_uri": "https://localhost:8080/",
          "height": 282
        },
        "id": "Ix887xATzKAG",
        "outputId": "550058a4-6de7-48d5-b28c-b7914878e5da"
      },
      "execution_count": null,
      "outputs": [
        {
          "output_type": "execute_result",
          "data": {
            "text/plain": [
              "<matplotlib.legend.Legend at 0x7f541f100b20>"
            ]
          },
          "metadata": {},
          "execution_count": 21
        },
        {
          "output_type": "display_data",
          "data": {
            "text/plain": [
              "<Figure size 432x288 with 1 Axes>"
            ],
            "image/png": "[encoded data removed]"
          },
          "metadata": {
            "needs_background": "light"
          }
        }
      ]
    },
    {
      "cell_type": "code",
      "source": [
        "validation_target = Y[-train_size:]\n",
        "validation_predictions = []\n",
        "i = -train_size\n",
        "while len(validation_predictions) < len(validation_target):\n",
        "  p = model.predict( X[i].reshape(1, -1, 1))[0, 0]\n",
        "  i += 1\n",
        "  validation_predictions.append(p)\n",
        "plt.plot(validation_target, label=\"Observado\")\n",
        "plt.plot(validation_predictions, label=\"Predito\")\n",
        "plt.legend()"
      ],
      "metadata": {
        "colab": {
          "base_uri": "https://localhost:8080/",
          "height": 1000
        },
        "id": "rOhKYHQjzMDi",
        "outputId": "337188b5-e994-43b5-f010-d19352bbc695"
      },
      "execution_count": null,
      "outputs": [
        {
          "output_type": "stream",
          "name": "stdout",
          "text": [
            "1/1 [==============================] - 0s 150ms/step\n",
            "1/1 [==============================] - 0s 26ms/step\n",
            "1/1 [==============================] - 0s 21ms/step\n",
            "1/1 [==============================] - 0s 25ms/step\n",
            "1/1 [==============================] - 0s 24ms/step\n",
            "1/1 [==============================] - 0s 25ms/step\n",
            "1/1 [==============================] - 0s 22ms/step\n",
            "1/1 [==============================] - 0s 22ms/step\n",
            "1/1 [==============================] - 0s 30ms/step\n",
            "1/1 [==============================] - 0s 25ms/step\n",
            "1/1 [==============================] - 0s 27ms/step\n",
            "1/1 [==============================] - 0s 22ms/step\n",
            "1/1 [==============================] - 0s 22ms/step\n",
            "1/1 [==============================] - 0s 24ms/step\n",
            "1/1 [==============================] - 0s 25ms/step\n",
            "1/1 [==============================] - 0s 28ms/step\n",
            "1/1 [==============================] - 0s 24ms/step\n",
            "1/1 [==============================] - 0s 23ms/step\n",
            "1/1 [==============================] - 0s 24ms/step\n",
            "1/1 [==============================] - 0s 21ms/step\n",
            "1/1 [==============================] - 0s 21ms/step\n",
            "1/1 [==============================] - 0s 21ms/step\n",
            "1/1 [==============================] - 0s 23ms/step\n",
            "1/1 [==============================] - 0s 21ms/step\n",
            "1/1 [==============================] - 0s 30ms/step\n",
            "1/1 [==============================] - 0s 21ms/step\n",
            "1/1 [==============================] - 0s 31ms/step\n",
            "1/1 [==============================] - 0s 21ms/step\n",
            "1/1 [==============================] - 0s 25ms/step\n",
            "1/1 [==============================] - 0s 39ms/step\n",
            "1/1 [==============================] - 0s 43ms/step\n",
            "1/1 [==============================] - 0s 37ms/step\n",
            "1/1 [==============================] - 0s 32ms/step\n",
            "1/1 [==============================] - 0s 32ms/step\n",
            "1/1 [==============================] - 0s 31ms/step\n",
            "1/1 [==============================] - 0s 29ms/step\n",
            "1/1 [==============================] - 0s 31ms/step\n",
            "1/1 [==============================] - 0s 31ms/step\n",
            "1/1 [==============================] - 0s 34ms/step\n",
            "1/1 [==============================] - 0s 35ms/step\n",
            "1/1 [==============================] - 0s 36ms/step\n",
            "1/1 [==============================] - 0s 45ms/step\n",
            "1/1 [==============================] - 0s 31ms/step\n",
            "1/1 [==============================] - 0s 34ms/step\n",
            "1/1 [==============================] - 0s 34ms/step\n",
            "1/1 [==============================] - 0s 32ms/step\n",
            "1/1 [==============================] - 0s 35ms/step\n",
            "1/1 [==============================] - 0s 34ms/step\n",
            "1/1 [==============================] - 0s 36ms/step\n",
            "1/1 [==============================] - 0s 42ms/step\n",
            "1/1 [==============================] - 0s 35ms/step\n",
            "1/1 [==============================] - 0s 42ms/step\n",
            "1/1 [==============================] - 0s 31ms/step\n",
            "1/1 [==============================] - 0s 34ms/step\n",
            "1/1 [==============================] - 0s 22ms/step\n",
            "1/1 [==============================] - 0s 21ms/step\n",
            "1/1 [==============================] - 0s 22ms/step\n",
            "1/1 [==============================] - 0s 23ms/step\n",
            "1/1 [==============================] - 0s 23ms/step\n",
            "1/1 [==============================] - 0s 24ms/step\n",
            "1/1 [==============================] - 0s 24ms/step\n",
            "1/1 [==============================] - 0s 25ms/step\n",
            "1/1 [==============================] - 0s 23ms/step\n",
            "1/1 [==============================] - 0s 26ms/step\n",
            "1/1 [==============================] - 0s 26ms/step\n",
            "1/1 [==============================] - 0s 22ms/step\n",
            "1/1 [==============================] - 0s 26ms/step\n",
            "1/1 [==============================] - 0s 22ms/step\n",
            "1/1 [==============================] - 0s 21ms/step\n",
            "1/1 [==============================] - 0s 21ms/step\n",
            "1/1 [==============================] - 0s 22ms/step\n",
            "1/1 [==============================] - 0s 21ms/step\n",
            "1/1 [==============================] - 0s 21ms/step\n",
            "1/1 [==============================] - 0s 24ms/step\n",
            "1/1 [==============================] - 0s 24ms/step\n",
            "1/1 [==============================] - 0s 24ms/step\n",
            "1/1 [==============================] - 0s 22ms/step\n",
            "1/1 [==============================] - 0s 25ms/step\n",
            "1/1 [==============================] - 0s 37ms/step\n",
            "1/1 [==============================] - 0s 26ms/step\n",
            "1/1 [==============================] - 0s 25ms/step\n",
            "1/1 [==============================] - 0s 22ms/step\n",
            "1/1 [==============================] - 0s 22ms/step\n",
            "1/1 [==============================] - 0s 25ms/step\n",
            "1/1 [==============================] - 0s 28ms/step\n",
            "1/1 [==============================] - 0s 26ms/step\n",
            "1/1 [==============================] - 0s 24ms/step\n",
            "1/1 [==============================] - 0s 23ms/step\n",
            "1/1 [==============================] - 0s 23ms/step\n",
            "1/1 [==============================] - 0s 23ms/step\n",
            "1/1 [==============================] - 0s 25ms/step\n",
            "1/1 [==============================] - 0s 24ms/step\n",
            "1/1 [==============================] - 0s 31ms/step\n",
            "1/1 [==============================] - 0s 27ms/step\n",
            "1/1 [==============================] - 0s 23ms/step\n",
            "1/1 [==============================] - 0s 22ms/step\n"
          ]
        },
        {
          "output_type": "execute_result",
          "data": {
            "text/plain": [
              "<matplotlib.legend.Legend at 0x7f54bfe16d90>"
            ]
          },
          "metadata": {},
          "execution_count": 22
        },
        {
          "output_type": "display_data",
          "data": {
            "text/plain": [
              "<Figure size 432x288 with 1 Axes>"
            ],
            "image/png": "[encoded data removed]"
          },
          "metadata": {
            "needs_background": "light"
          }
        }
      ]
    },
    {
      "cell_type": "code",
      "source": [
        "validation_target = Y[-train_size:]\n",
        "validation_predictions = []\n",
        "last_x = X[-train_size]\n",
        "while len(validation_predictions) < len(validation_target):\n",
        "  p = model.predict( last_x.reshape(1, -1, 1))[0, 0]\n",
        "  validation_predictions.append(p)\n",
        "  last_x = np.roll(last_x, -1)\n",
        "  last_x[-1] = p\n",
        "plt.plot(validation_target, label=\"Observado\")\n",
        "plt.plot(validation_predictions, label=\"Predito\")\n",
        "plt.legend()"
      ],
      "metadata": {
        "colab": {
          "base_uri": "https://localhost:8080/",
          "height": 1000
        },
        "id": "2cnYtsbwzQvu",
        "outputId": "97ae9e0f-4585-4ace-a608-62f887f73d25"
      },
      "execution_count": null,
      "outputs": [
        {
          "output_type": "stream",
          "name": "stdout",
          "text": [
            "1/1 [==============================] - 0s 21ms/step\n",
            "1/1 [==============================] - 0s 24ms/step\n",
            "1/1 [==============================] - 0s 29ms/step\n",
            "1/1 [==============================] - 0s 29ms/step\n",
            "1/1 [==============================] - 0s 33ms/step\n",
            "1/1 [==============================] - 0s 35ms/step\n",
            "1/1 [==============================] - 0s 35ms/step\n",
            "1/1 [==============================] - 0s 28ms/step\n",
            "1/1 [==============================] - 0s 29ms/step\n",
            "1/1 [==============================] - 0s 30ms/step\n",
            "1/1 [==============================] - 0s 29ms/step\n",
            "1/1 [==============================] - 0s 30ms/step\n",
            "1/1 [==============================] - 0s 28ms/step\n",
            "1/1 [==============================] - 0s 29ms/step\n",
            "1/1 [==============================] - 0s 29ms/step\n",
            "1/1 [==============================] - 0s 28ms/step\n",
            "1/1 [==============================] - 0s 25ms/step\n",
            "1/1 [==============================] - 0s 25ms/step\n",
            "1/1 [==============================] - 0s 23ms/step\n",
            "1/1 [==============================] - 0s 33ms/step\n",
            "1/1 [==============================] - 0s 27ms/step\n",
            "1/1 [==============================] - 0s 28ms/step\n",
            "1/1 [==============================] - 0s 26ms/step\n",
            "1/1 [==============================] - 0s 32ms/step\n",
            "1/1 [==============================] - 0s 26ms/step\n",
            "1/1 [==============================] - 0s 26ms/step\n",
            "1/1 [==============================] - 0s 23ms/step\n",
            "1/1 [==============================] - 0s 30ms/step\n",
            "1/1 [==============================] - 0s 26ms/step\n",
            "1/1 [==============================] - 0s 26ms/step\n",
            "1/1 [==============================] - 0s 25ms/step\n",
            "1/1 [==============================] - 0s 26ms/step\n",
            "1/1 [==============================] - 0s 23ms/step\n",
            "1/1 [==============================] - 0s 21ms/step\n",
            "1/1 [==============================] - 0s 23ms/step\n",
            "1/1 [==============================] - 0s 24ms/step\n",
            "1/1 [==============================] - 0s 32ms/step\n",
            "1/1 [==============================] - 0s 25ms/step\n",
            "1/1 [==============================] - 0s 28ms/step\n",
            "1/1 [==============================] - 0s 24ms/step\n",
            "1/1 [==============================] - 0s 27ms/step\n",
            "1/1 [==============================] - 0s 24ms/step\n",
            "1/1 [==============================] - 0s 23ms/step\n",
            "1/1 [==============================] - 0s 28ms/step\n",
            "1/1 [==============================] - 0s 29ms/step\n",
            "1/1 [==============================] - 0s 24ms/step\n",
            "1/1 [==============================] - 0s 23ms/step\n",
            "1/1 [==============================] - 0s 23ms/step\n",
            "1/1 [==============================] - 0s 22ms/step\n",
            "1/1 [==============================] - 0s 22ms/step\n",
            "1/1 [==============================] - 0s 23ms/step\n",
            "1/1 [==============================] - 0s 25ms/step\n",
            "1/1 [==============================] - 0s 22ms/step\n",
            "1/1 [==============================] - 0s 28ms/step\n",
            "1/1 [==============================] - 0s 24ms/step\n",
            "1/1 [==============================] - 0s 23ms/step\n",
            "1/1 [==============================] - 0s 28ms/step\n",
            "1/1 [==============================] - 0s 23ms/step\n",
            "1/1 [==============================] - 0s 25ms/step\n",
            "1/1 [==============================] - 0s 23ms/step\n",
            "1/1 [==============================] - 0s 23ms/step\n",
            "1/1 [==============================] - 0s 24ms/step\n",
            "1/1 [==============================] - 0s 25ms/step\n",
            "1/1 [==============================] - 0s 24ms/step\n",
            "1/1 [==============================] - 0s 23ms/step\n",
            "1/1 [==============================] - 0s 26ms/step\n",
            "1/1 [==============================] - 0s 24ms/step\n",
            "1/1 [==============================] - 0s 26ms/step\n",
            "1/1 [==============================] - 0s 23ms/step\n",
            "1/1 [==============================] - 0s 22ms/step\n",
            "1/1 [==============================] - 0s 24ms/step\n",
            "1/1 [==============================] - 0s 24ms/step\n",
            "1/1 [==============================] - 0s 25ms/step\n",
            "1/1 [==============================] - 0s 22ms/step\n",
            "1/1 [==============================] - 0s 23ms/step\n",
            "1/1 [==============================] - 0s 22ms/step\n",
            "1/1 [==============================] - 0s 23ms/step\n",
            "1/1 [==============================] - 0s 23ms/step\n",
            "1/1 [==============================] - 0s 22ms/step\n",
            "1/1 [==============================] - 0s 22ms/step\n",
            "1/1 [==============================] - 0s 25ms/step\n",
            "1/1 [==============================] - 0s 27ms/step\n",
            "1/1 [==============================] - 0s 23ms/step\n",
            "1/1 [==============================] - 0s 25ms/step\n",
            "1/1 [==============================] - 0s 21ms/step\n",
            "1/1 [==============================] - 0s 22ms/step\n",
            "1/1 [==============================] - 0s 25ms/step\n",
            "1/1 [==============================] - 0s 23ms/step\n",
            "1/1 [==============================] - 0s 27ms/step\n",
            "1/1 [==============================] - 0s 32ms/step\n",
            "1/1 [==============================] - 0s 26ms/step\n",
            "1/1 [==============================] - 0s 22ms/step\n",
            "1/1 [==============================] - 0s 23ms/step\n",
            "1/1 [==============================] - 0s 26ms/step\n",
            "1/1 [==============================] - 0s 25ms/step\n",
            "1/1 [==============================] - 0s 28ms/step\n"
          ]
        },
        {
          "output_type": "execute_result",
          "data": {
            "text/plain": [
              "<matplotlib.legend.Legend at 0x7f542d0e9fd0>"
            ]
          },
          "metadata": {},
          "execution_count": 23
        },
        {
          "output_type": "display_data",
          "data": {
            "text/plain": [
              "<Figure size 432x288 with 1 Axes>"
            ],
            "image/png": "[encoded data removed]"
          },
          "metadata": {
            "needs_background": "light"
          }
        }
      ]
    },
    {
      "cell_type": "markdown",
      "source": [
        "# IMDB : Classificação de reviews"
      ],
      "metadata": {
        "id": "Re9EaqaHzXG3"
      }
    },
    {
      "cell_type": "code",
      "source": [
        "import tensorflow as tf\n",
        "import numpy as np\n",
        "import matplotlib.pyplot as plt\n",
        "from tensorflow.keras.layers import Input, Embedding, LSTM, Dense\n",
        "from tensorflow.keras.models import Model\n",
        "from tensorflow.keras.preprocessing.sequence import pad_sequences\n",
        "from tensorflow.keras.datasets import imdb\n",
        "tf.__version__"
      ],
      "metadata": {
        "colab": {
          "base_uri": "https://localhost:8080/",
          "height": 35
        },
        "id": "YI8fgLlSzY4t",
        "outputId": "68dbadb6-91c4-4bce-df2d-c2f36757ce15"
      },
      "execution_count": null,
      "outputs": [
        {
          "output_type": "execute_result",
          "data": {
            "text/plain": [
              "'2.11.0'"
            ],
            "application/vnd.google.colaboratory.intrinsic+json": {
              "type": "string"
            }
          },
          "metadata": {},
          "execution_count": 24
        }
      ]
    },
    {
      "cell_type": "code",
      "source": [
        "num_words = 20000 # número de palavras\n",
        "maxlen = 200 # máximo palavras no review\n",
        "(x_train, y_train), (x_test, y_test) = imdb.load_data(num_words=num_words)"
      ],
      "metadata": {
        "colab": {
          "base_uri": "https://localhost:8080/"
        },
        "id": "LlctgOLgzg0N",
        "outputId": "4fb31415-cf1f-4804-904d-b90d5a046f6e"
      },
      "execution_count": null,
      "outputs": [
        {
          "output_type": "stream",
          "name": "stdout",
          "text": [
            "Downloading data from https://storage.googleapis.com/tensorflow/tf-keras-datasets/imdb.npz\n",
            "17464789/17464789 [==============================] - 1s 0us/step\n"
          ]
        }
      ]
    },
    {
      "cell_type": "code",
      "source": [
        "x_train.shape"
      ],
      "metadata": {
        "colab": {
          "base_uri": "https://localhost:8080/"
        },
        "id": "QSHX29nGzjuW",
        "outputId": "5480b1c8-8915-4ce1-88b4-22bf0c610edf"
      },
      "execution_count": null,
      "outputs": [
        {
          "output_type": "execute_result",
          "data": {
            "text/plain": [
              "(25000,)"
            ]
          },
          "metadata": {},
          "execution_count": 26
        }
      ]
    },
    {
      "cell_type": "code",
      "source": [
        "x_train"
      ],
      "metadata": {
        "colab": {
          "base_uri": "https://localhost:8080/"
        },
        "id": "DQ_vKTZPzlSs",
        "outputId": "ba849195-0368-4d40-88c2-b8df062f0e46"
      },
      "execution_count": null,
      "outputs": [
        {
          "output_type": "execute_result",
          "data": {
            "text/plain": [
              "array([list([1, 14, 22, 16, 43, 530, 973, 1622, 1385, 65, 458, 4468, 66, 3941, 4, 173, 36, 256, 5, 25, 100, 43, 838, 112, 50, 670, 2, 9, 35, 480, 284, 5, 150, 4, 172, 112, 167, 2, 336, 385, 39, 4, 172, 4536, 1111, 17, 546, 38, 13, 447, 4, 192, 50, 16, 6, 147, 2025, 19, 14, 22, 4, 1920, 4613, 469, 4, 22, 71, 87, 12, 16, 43, 530, 38, 76, 15, 13, 1247, 4, 22, 17, 515, 17, 12, 16, 626, 18, 19193, 5, 62, 386, 12, 8, 316, 8, 106, 5, 4, 2223, 5244, 16, 480, 66, 3785, 33, 4, 130, 12, 16, 38, 619, 5, 25, 124, 51, 36, 135, 48, 25, 1415, 33, 6, 22, 12, 215, 28, 77, 52, 5, 14, 407, 16, 82, 10311, 8, 4, 107, 117, 5952, 15, 256, 4, 2, 7, 3766, 5, 723, 36, 71, 43, 530, 476, 26, 400, 317, 46, 7, 4, 12118, 1029, 13, 104, 88, 4, 381, 15, 297, 98, 32, 2071, 56, 26, 141, 6, 194, 7486, 18, 4, 226, 22, 21, 134, 476, 26, 480, 5, 144, 30, 5535, 18, 51, 36, 28, 224, 92, 25, 104, 4, 226, 65, 16, 38, 1334, 88, 12, 16, 283, 5, 16, 4472, 113, 103, 32, 15, 16, 5345, 19, 178, 32]),\n",
              "       list([1, 194, 1153, 194, 8255, 78, 228, 5, 6, 1463, 4369, 5012, 134, 26, 4, 715, 8, 118, 1634, 14, 394, 20, 13, 119, 954, 189, 102, 5, 207, 110, 3103, 21, 14, 69, 188, 8, 30, 23, 7, 4, 249, 126, 93, 4, 114, 9, 2300, 1523, 5, 647, 4, 116, 9, 35, 8163, 4, 229, 9, 340, 1322, 4, 118, 9, 4, 130, 4901, 19, 4, 1002, 5, 89, 29, 952, 46, 37, 4, 455, 9, 45, 43, 38, 1543, 1905, 398, 4, 1649, 26, 6853, 5, 163, 11, 3215, 10156, 4, 1153, 9, 194, 775, 7, 8255, 11596, 349, 2637, 148, 605, 15358, 8003, 15, 123, 125, 68, 2, 6853, 15, 349, 165, 4362, 98, 5, 4, 228, 9, 43, 2, 1157, 15, 299, 120, 5, 120, 174, 11, 220, 175, 136, 50, 9, 4373, 228, 8255, 5, 2, 656, 245, 2350, 5, 4, 9837, 131, 152, 491, 18, 2, 32, 7464, 1212, 14, 9, 6, 371, 78, 22, 625, 64, 1382, 9, 8, 168, 145, 23, 4, 1690, 15, 16, 4, 1355, 5, 28, 6, 52, 154, 462, 33, 89, 78, 285, 16, 145, 95]),\n",
              "       list([1, 14, 47, 8, 30, 31, 7, 4, 249, 108, 7, 4, 5974, 54, 61, 369, 13, 71, 149, 14, 22, 112, 4, 2401, 311, 12, 16, 3711, 33, 75, 43, 1829, 296, 4, 86, 320, 35, 534, 19, 263, 4821, 1301, 4, 1873, 33, 89, 78, 12, 66, 16, 4, 360, 7, 4, 58, 316, 334, 11, 4, 1716, 43, 645, 662, 8, 257, 85, 1200, 42, 1228, 2578, 83, 68, 3912, 15, 36, 165, 1539, 278, 36, 69, 2, 780, 8, 106, 14, 6905, 1338, 18, 6, 22, 12, 215, 28, 610, 40, 6, 87, 326, 23, 2300, 21, 23, 22, 12, 272, 40, 57, 31, 11, 4, 22, 47, 6, 2307, 51, 9, 170, 23, 595, 116, 595, 1352, 13, 191, 79, 638, 89, 2, 14, 9, 8, 106, 607, 624, 35, 534, 6, 227, 7, 129, 113]),\n",
              "       ...,\n",
              "       list([1, 11, 6, 230, 245, 6401, 9, 6, 1225, 446, 2, 45, 2174, 84, 8322, 4007, 21, 4, 912, 84, 14532, 325, 725, 134, 15271, 1715, 84, 5, 36, 28, 57, 1099, 21, 8, 140, 8, 703, 5, 11656, 84, 56, 18, 1644, 14, 9, 31, 7, 4, 9406, 1209, 2295, 2, 1008, 18, 6, 20, 207, 110, 563, 12, 8, 2901, 17793, 8, 97, 6, 20, 53, 4767, 74, 4, 460, 364, 1273, 29, 270, 11, 960, 108, 45, 40, 29, 2961, 395, 11, 6, 4065, 500, 7, 14492, 89, 364, 70, 29, 140, 4, 64, 4780, 11, 4, 2678, 26, 178, 4, 529, 443, 17793, 5, 27, 710, 117, 2, 8123, 165, 47, 84, 37, 131, 818, 14, 595, 10, 10, 61, 1242, 1209, 10, 10, 288, 2260, 1702, 34, 2901, 17793, 4, 65, 496, 4, 231, 7, 790, 5, 6, 320, 234, 2766, 234, 1119, 1574, 7, 496, 4, 139, 929, 2901, 17793, 7750, 5, 4241, 18, 4, 8497, 13164, 250, 11, 1818, 7561, 4, 4217, 5408, 747, 1115, 372, 1890, 1006, 541, 9303, 7, 4, 59, 11027, 4, 3586, 2]),\n",
              "       list([1, 1446, 7079, 69, 72, 3305, 13, 610, 930, 8, 12, 582, 23, 5, 16, 484, 685, 54, 349, 11, 4120, 2959, 45, 58, 1466, 13, 197, 12, 16, 43, 23, 2, 5, 62, 30, 145, 402, 11, 4131, 51, 575, 32, 61, 369, 71, 66, 770, 12, 1054, 75, 100, 2198, 8, 4, 105, 37, 69, 147, 712, 75, 3543, 44, 257, 390, 5, 69, 263, 514, 105, 50, 286, 1814, 23, 4, 123, 13, 161, 40, 5, 421, 4, 116, 16, 897, 13, 2, 40, 319, 5872, 112, 6700, 11, 4803, 121, 25, 70, 3468, 4, 719, 3798, 13, 18, 31, 62, 40, 8, 7200, 4, 2, 7, 14, 123, 5, 942, 25, 8, 721, 12, 145, 5, 202, 12, 160, 580, 202, 12, 6, 52, 58, 11418, 92, 401, 728, 12, 39, 14, 251, 8, 15, 251, 5, 2, 12, 38, 84, 80, 124, 12, 9, 23]),\n",
              "       list([1, 17, 6, 194, 337, 7, 4, 204, 22, 45, 254, 8, 106, 14, 123, 4, 12815, 270, 14437, 5, 16923, 12255, 732, 2098, 101, 405, 39, 14, 1034, 4, 1310, 9, 115, 50, 305, 12, 47, 4, 168, 5, 235, 7, 38, 111, 699, 102, 7, 4, 4039, 9245, 9, 24, 6, 78, 1099, 17, 2345, 16553, 21, 27, 9685, 6139, 5, 2, 1603, 92, 1183, 4, 1310, 7, 4, 204, 42, 97, 90, 35, 221, 109, 29, 127, 27, 118, 8, 97, 12, 157, 21, 6789, 2, 9, 6, 66, 78, 1099, 4, 631, 1191, 5, 2642, 272, 191, 1070, 6, 7585, 8, 2197, 2, 10755, 544, 5, 383, 1271, 848, 1468, 12183, 497, 16876, 8, 1597, 8778, 19280, 21, 60, 27, 239, 9, 43, 8368, 209, 405, 10, 10, 12, 764, 40, 4, 248, 20, 12, 16, 5, 174, 1791, 72, 7, 51, 6, 1739, 22, 4, 204, 131, 9])],\n",
              "      dtype=object)"
            ]
          },
          "metadata": {},
          "execution_count": 27
        }
      ]
    },
    {
      "cell_type": "code",
      "source": [
        "print(len(x_train[0]), len(x_train[1]))"
      ],
      "metadata": {
        "colab": {
          "base_uri": "https://localhost:8080/"
        },
        "id": "K14c-rQazpXV",
        "outputId": "033c2b63-3808-460d-fe7b-61868b813144"
      },
      "execution_count": null,
      "outputs": [
        {
          "output_type": "stream",
          "name": "stdout",
          "text": [
            "218 189\n"
          ]
        }
      ]
    },
    {
      "cell_type": "code",
      "source": [
        "x_train = pad_sequences(x_train, maxlen=maxlen)\n",
        "print(len(x_train[0]), len(x_train[1]))"
      ],
      "metadata": {
        "colab": {
          "base_uri": "https://localhost:8080/"
        },
        "id": "Gp4Os_uwzrz2",
        "outputId": "c669ad92-608a-425b-b06b-cb8bb7cb3114"
      },
      "execution_count": null,
      "outputs": [
        {
          "output_type": "stream",
          "name": "stdout",
          "text": [
            "200 200\n"
          ]
        }
      ]
    },
    {
      "cell_type": "code",
      "source": [
        "x_test = pad_sequences(x_test, maxlen=maxlen)\n",
        "print(len(x_test[0]), len(x_test[1]))"
      ],
      "metadata": {
        "colab": {
          "base_uri": "https://localhost:8080/"
        },
        "id": "cCipRpGtzu53",
        "outputId": "3c096597-aee6-4f90-9a6e-84aaff8a370e"
      },
      "execution_count": null,
      "outputs": [
        {
          "output_type": "stream",
          "name": "stdout",
          "text": [
            "200 200\n"
          ]
        }
      ]
    },
    {
      "cell_type": "code",
      "source": [
        "# Construir a RNN\n",
        "# recebe como entrada maxlen palavras\n",
        "i = Input(shape=(x_train.shape[1], ))\n",
        "# com textos precisa da camada de\n",
        "# - representação numérica das palavras\n",
        "# num_words palavras e 128 características para representar\n",
        "# cada palavra (colunas)\n",
        "# Não tem relação com a quantidade de unidades da LSTM\n",
        "x = Embedding(input_dim=num_words, output_dim=128)(i)\n",
        "x = LSTM(units=128, activation=\"tanh\")(x)\n",
        "x = Dense(units=1, activation=\"sigmoid\")(x)\n",
        "model = Model(i, x)"
      ],
      "metadata": {
        "id": "AAFxxojvzxqD"
      },
      "execution_count": null,
      "outputs": []
    },
    {
      "cell_type": "code",
      "source": [
        "# para RNN melhor rmsprop\n",
        "model.compile(optimizer=\"rmsprop\", loss=\"binary_crossentropy\",\n",
        "metrics=[\"accuracy\"])\n",
        "model.summary()"
      ],
      "metadata": {
        "colab": {
          "base_uri": "https://localhost:8080/"
        },
        "id": "CxEktSccz01m",
        "outputId": "0b8e5460-0ab0-4dd0-9c75-5530701431fa"
      },
      "execution_count": null,
      "outputs": [
        {
          "output_type": "stream",
          "name": "stdout",
          "text": [
            "Model: \"model_2\"\n",
            "_________________________________________________________________\n",
            " Layer (type)                Output Shape              Param #   \n",
            "=================================================================\n",
            " input_3 (InputLayer)        [(None, 200)]             0         \n",
            "                                                                 \n",
            " embedding (Embedding)       (None, 200, 128)          2560000   \n",
            "                                                                 \n",
            " lstm (LSTM)                 (None, 128)               131584    \n",
            "                                                                 \n",
            " dense_2 (Dense)             (None, 1)                 129       \n",
            "                                                                 \n",
            "=================================================================\n",
            "Total params: 2,691,713\n",
            "Trainable params: 2,691,713\n",
            "Non-trainable params: 0\n",
            "_________________________________________________________________\n"
          ]
        }
      ]
    },
    {
      "cell_type": "code",
      "source": [
        "epochs = 10\n",
        "r = model.fit(x_train, y_train, epochs=epochs, batch_size=128)"
      ],
      "metadata": {
        "colab": {
          "base_uri": "https://localhost:8080/"
        },
        "id": "7dajW14Jz4Un",
        "outputId": "6ef721dd-f477-4313-94e6-24ee19407beb"
      },
      "execution_count": null,
      "outputs": [
        {
          "output_type": "stream",
          "name": "stdout",
          "text": [
            "Epoch 1/10\n",
            "196/196 [==============================] - 171s 862ms/step - loss: 0.5715 - accuracy: 0.6918\n",
            "Epoch 2/10\n",
            "196/196 [==============================] - 167s 851ms/step - loss: 0.3582 - accuracy: 0.8491\n",
            "Epoch 3/10\n",
            "196/196 [==============================] - 182s 930ms/step - loss: 0.2951 - accuracy: 0.8830\n",
            "Epoch 4/10\n",
            "196/196 [==============================] - 242s 1s/step - loss: 0.2465 - accuracy: 0.9067\n",
            "Epoch 5/10\n",
            "196/196 [==============================] - 163s 832ms/step - loss: 0.2118 - accuracy: 0.9191\n",
            "Epoch 6/10\n",
            "196/196 [==============================] - 165s 842ms/step - loss: 0.1861 - accuracy: 0.9321\n",
            "Epoch 7/10\n",
            "196/196 [==============================] - 169s 864ms/step - loss: 0.1612 - accuracy: 0.9422\n",
            "Epoch 8/10\n",
            "196/196 [==============================] - 164s 836ms/step - loss: 0.1385 - accuracy: 0.9500\n",
            "Epoch 9/10\n",
            "196/196 [==============================] - 163s 830ms/step - loss: 0.1241 - accuracy: 0.9566\n",
            "Epoch 10/10\n",
            "196/196 [==============================] - 161s 821ms/step - loss: 0.1074 - accuracy: 0.9624\n"
          ]
        }
      ]
    },
    {
      "cell_type": "code",
      "source": [
        "plt.plot( r.history[\"loss\"], label=\"loss\")\n",
        "plt.xlabel(\"Épocas\")\n",
        "plt.ylabel(\"loss\")\n",
        "plt.xticks(np.arange(0, epochs, step=1))\n",
        "plt.legend()"
      ],
      "metadata": {
        "colab": {
          "base_uri": "https://localhost:8080/",
          "height": 298
        },
        "id": "sNEXz0QEz76C",
        "outputId": "7556b562-48c4-4112-cc8c-68a4f7c74d2c"
      },
      "execution_count": null,
      "outputs": [
        {
          "output_type": "execute_result",
          "data": {
            "text/plain": [
              "<matplotlib.legend.Legend at 0x7f54107cd400>"
            ]
          },
          "metadata": {},
          "execution_count": 34
        },
        {
          "output_type": "display_data",
          "data": {
            "text/plain": [
              "<Figure size 432x288 with 1 Axes>"
            ],
            "image/png": "[encoded data removed]"
          },
          "metadata": {
            "needs_background": "light"
          }
        }
      ]
    },
    {
      "cell_type": "code",
      "source": [
        "plt.plot( r.history[\"accuracy\"], label=\"accuracy\")\n",
        "plt.xlabel(\"Épocas\")\n",
        "plt.ylabel(\"Acurácia\")\n",
        "plt.xticks(np.arange(0, epochs, step=1))\n",
        "plt.legend()"
      ],
      "metadata": {
        "colab": {
          "base_uri": "https://localhost:8080/",
          "height": 298
        },
        "id": "YWjbHcTDz8Wd",
        "outputId": "9c9c29c6-853a-4fa3-e200-34681f4abbfe"
      },
      "execution_count": null,
      "outputs": [
        {
          "output_type": "execute_result",
          "data": {
            "text/plain": [
              "<matplotlib.legend.Legend at 0x7f5435183d90>"
            ]
          },
          "metadata": {},
          "execution_count": 35
        },
        {
          "output_type": "display_data",
          "data": {
            "text/plain": [
              "<Figure size 432x288 with 1 Axes>"
            ],
            "image/png": "[encoded data removed]"
          },
          "metadata": {
            "needs_background": "light"
          }
        }
      ]
    },
    {
      "cell_type": "code",
      "source": [
        "test_loss, test_accuracy = model.evaluate(x_test, y_test)\n",
        "print(test_accuracy)"
      ],
      "metadata": {
        "colab": {
          "base_uri": "https://localhost:8080/"
        },
        "id": "FVk4sUxUz_zn",
        "outputId": "0703f11e-7ecf-4c71-b437-3ac422a6558d"
      },
      "execution_count": null,
      "outputs": [
        {
          "output_type": "stream",
          "name": "stdout",
          "text": [
            "782/782 [==============================] - 96s 122ms/step - loss: 0.3923 - accuracy: 0.8613\n",
            "0.8612800240516663\n"
          ]
        }
      ]
    },
    {
      "cell_type": "code",
      "source": [
        "texto = [[4, 107, 117, 5952, 15, 256, 4, 2, 7, 3766]]\n",
        "entrada = pad_sequences(texto, 200)\n",
        "sent = np.round(model.predict(entrada))\n",
        "print( \"Positivo\" if sent==1 else \"Negativo\" )"
      ],
      "metadata": {
        "colab": {
          "base_uri": "https://localhost:8080/"
        },
        "id": "-DBp0IAS0DaS",
        "outputId": "c7b2959a-33af-4402-ef01-751d6b6c24fa"
      },
      "execution_count": null,
      "outputs": [
        {
          "output_type": "stream",
          "name": "stdout",
          "text": [
            "1/1 [==============================] - 0s 447ms/step\n",
            "Negativo\n"
          ]
        }
      ]
    },
    {
      "cell_type": "markdown",
      "source": [
        "# SPAM : Classificação de e-mails"
      ],
      "metadata": {
        "id": "VSAsJWWc1IOv"
      }
    },
    {
      "cell_type": "code",
      "source": [
        "import tensorflow as tf\n",
        "import numpy as np\n",
        "import matplotlib.pyplot as plt\n",
        "import pandas as pd\n",
        "from sklearn.model_selection import train_test_split\n",
        "from tensorflow.keras.layers import Input, Embedding, LSTM, Dense\n",
        "from tensorflow.keras.layers import GlobalMaxPooling1D\n",
        "from tensorflow.keras.models import Model\n",
        "from tensorflow.keras.preprocessing.sequence import pad_sequences\n",
        "from tensorflow.keras.preprocessing.text import Tokenizer"
      ],
      "metadata": {
        "id": "0AHCCRDf1G45"
      },
      "execution_count": null,
      "outputs": []
    },
    {
      "cell_type": "code",
      "source": [
        "!wget http://www.razer.net.br/datasets/spam.csv\n",
        "df = pd.read_csv(\"spam.csv\", encoding=\"ISO-8859-1\")\n",
        "df.head()\n",
        "df = df.drop([\"Unnamed: 2\", \"Unnamed: 3\", \"Unnamed: 4\"], axis=1)\n",
        "df.columns = [\"labels\", \"data\"]\n",
        "df[\"b_labels\"] = df[\"labels\"].map({ \"ham\": 0, \"spam\" : 1})\n",
        "y = df[\"b_labels\"].values"
      ],
      "metadata": {
        "colab": {
          "base_uri": "https://localhost:8080/"
        },
        "id": "NofpB2ln1ZvW",
        "outputId": "7a1ec063-ce9b-4544-ea6f-f1ca13da6f7a"
      },
      "execution_count": null,
      "outputs": [
        {
          "output_type": "stream",
          "name": "stdout",
          "text": [
            "--2023-03-25 17:59:49--  http://www.razer.net.br/datasets/spam.csv\n",
            "Resolving www.razer.net.br (www.razer.net.br)... 178.128.150.229\n",
            "Connecting to www.razer.net.br (www.razer.net.br)|178.128.150.229|:80... connected.\n",
            "HTTP request sent, awaiting response... 200 OK\n",
            "Length: 503663 (492K) [text/csv]\n",
            "Saving to: ‘spam.csv’\n",
            "\n",
            "spam.csv            100%[===================>] 491.86K  1.22MB/s    in 0.4s    \n",
            "\n",
            "2023-03-25 17:59:50 (1.22 MB/s) - ‘spam.csv’ saved [503663/503663]\n",
            "\n"
          ]
        }
      ]
    },
    {
      "cell_type": "code",
      "source": [
        "x_train, x_test, y_train, y_test = train_test_split(df[\"data\"], y, test_size=0.33)"
      ],
      "metadata": {
        "id": "Lt_YGMXl1bks"
      },
      "execution_count": null,
      "outputs": []
    },
    {
      "cell_type": "code",
      "source": [
        "# Número máximo de palavras para considerar\n",
        "# São consideradas as mais frequentes, as demais são\n",
        "# ignoradas\n",
        "num_words = 20000\n",
        "tokenizer = Tokenizer(num_words=num_words)\n",
        "tokenizer.fit_on_texts(x_train)\n",
        "sequences_train = tokenizer.texts_to_sequences(x_train)\n",
        "sequences_test = tokenizer.texts_to_sequences(x_test)\n",
        "word2index = tokenizer.word_index\n",
        "V = len(word2index)\n",
        "print(\"%s tokens\" % V)"
      ],
      "metadata": {
        "colab": {
          "base_uri": "https://localhost:8080/"
        },
        "id": "89g_unHW1dre",
        "outputId": "e2ccd441-fd90-4e4f-c1a7-243e6668bcf4"
      },
      "execution_count": null,
      "outputs": [
        {
          "output_type": "stream",
          "name": "stdout",
          "text": [
            "7299 tokens\n"
          ]
        }
      ]
    },
    {
      "cell_type": "code",
      "source": [
        "data_train = pad_sequences(sequences_train)\n",
        "T = data_train.shape[1] # tamanho da sequência\n",
        "data_test = pad_sequences(sequences_test, maxlen=T)\n",
        "print(\"data_train.shape: \", data_train.shape)\n",
        "print(\"data_test.shape: \", data_test.shape)"
      ],
      "metadata": {
        "colab": {
          "base_uri": "https://localhost:8080/"
        },
        "id": "ixLzLwDg1mVc",
        "outputId": "3c636ee6-7ade-4a00-bfbf-ef2b342af2a5"
      },
      "execution_count": null,
      "outputs": [
        {
          "output_type": "stream",
          "name": "stdout",
          "text": [
            "data_train.shape:  (3733, 189)\n",
            "data_test.shape:  (1839, 189)\n"
          ]
        }
      ]
    },
    {
      "cell_type": "code",
      "source": [
        "D = 20 # tamanho do embedding, hiperparâmetro que pode ser escolhido\n",
        "M = 15 # tamanho do hidden state\n",
        "i = Input(shape=(T,))\n",
        "x = Embedding(V+1, D)(i)\n",
        "# x = LSTM(M)(x) # tirar o GlobalMaxPooling1D()\n",
        "x = LSTM(M, return_sequences=True)(x)\n",
        "x = GlobalMaxPooling1D()(x)\n",
        "x = Dense(1, activation=\"sigmoid\")(x)\n",
        "model = Model(i, x)"
      ],
      "metadata": {
        "id": "nRJsWISE1oUi"
      },
      "execution_count": null,
      "outputs": []
    },
    {
      "cell_type": "code",
      "source": [
        "model.compile(\n",
        "  loss=\"binary_crossentropy\",\n",
        "  optimizer=\"adam\",\n",
        "  metrics=[\"accuracy\"]\n",
        ")\n",
        "epochs = 10\n",
        "r = model.fit(\n",
        "    data_train,\n",
        "    y_train,\n",
        "    epochs=epochs,\n",
        "    validation_data=(data_test, y_test))"
      ],
      "metadata": {
        "colab": {
          "base_uri": "https://localhost:8080/"
        },
        "id": "MsqtlYl21pxl",
        "outputId": "2305987d-562a-46e9-c579-19a2565f6357"
      },
      "execution_count": null,
      "outputs": [
        {
          "output_type": "stream",
          "name": "stdout",
          "text": [
            "Epoch 1/10\n",
            "117/117 [==============================] - 15s 106ms/step - loss: 0.4925 - accuracy: 0.8398 - val_loss: 0.3206 - val_accuracy: 0.8608\n",
            "Epoch 2/10\n",
            "117/117 [==============================] - 11s 98ms/step - loss: 0.2387 - accuracy: 0.9006 - val_loss: 0.1850 - val_accuracy: 0.9685\n",
            "Epoch 3/10\n",
            "117/117 [==============================] - 12s 101ms/step - loss: 0.1324 - accuracy: 0.9829 - val_loss: 0.1174 - val_accuracy: 0.9788\n",
            "Epoch 4/10\n",
            "117/117 [==============================] - 12s 101ms/step - loss: 0.0814 - accuracy: 0.9896 - val_loss: 0.0847 - val_accuracy: 0.9826\n",
            "Epoch 5/10\n",
            "117/117 [==============================] - 12s 101ms/step - loss: 0.0510 - accuracy: 0.9936 - val_loss: 0.0637 - val_accuracy: 0.9859\n",
            "Epoch 6/10\n",
            "117/117 [==============================] - 12s 104ms/step - loss: 0.0323 - accuracy: 0.9968 - val_loss: 0.0677 - val_accuracy: 0.9853\n",
            "Epoch 7/10\n",
            "117/117 [==============================] - 12s 106ms/step - loss: 0.0229 - accuracy: 0.9987 - val_loss: 0.0797 - val_accuracy: 0.9804\n",
            "Epoch 8/10\n",
            "117/117 [==============================] - 12s 103ms/step - loss: 0.0179 - accuracy: 0.9995 - val_loss: 0.0583 - val_accuracy: 0.9859\n",
            "Epoch 9/10\n",
            "117/117 [==============================] - 12s 102ms/step - loss: 0.0141 - accuracy: 0.9997 - val_loss: 0.0550 - val_accuracy: 0.9859\n",
            "Epoch 10/10\n",
            "117/117 [==============================] - 12s 100ms/step - loss: 0.0120 - accuracy: 0.9997 - val_loss: 0.0556 - val_accuracy: 0.9859\n"
          ]
        }
      ]
    },
    {
      "cell_type": "code",
      "source": [
        "plt.plot( r.history[\"loss\"], label=\"loss\")\n",
        "plt.plot( r.history[\"val_loss\"], label=\"val_loss\")\n",
        "plt.xlabel(\"Épocas\")\n",
        "plt.ylabel(\"loss\")\n",
        "plt.xticks(np.arange(0, epochs, step=1))\n",
        "plt.legend()"
      ],
      "metadata": {
        "colab": {
          "base_uri": "https://localhost:8080/",
          "height": 298
        },
        "id": "H5t93H6m1vxM",
        "outputId": "d50c5110-b56b-4c85-db1e-f7df5a0bcd9d"
      },
      "execution_count": null,
      "outputs": [
        {
          "output_type": "execute_result",
          "data": {
            "text/plain": [
              "<matplotlib.legend.Legend at 0x7f541f1ffd60>"
            ]
          },
          "metadata": {},
          "execution_count": 45
        },
        {
          "output_type": "display_data",
          "data": {
            "text/plain": [
              "<Figure size 432x288 with 1 Axes>"
            ],
            "image/png": "[encoded data removed]"
          },
          "metadata": {
            "needs_background": "light"
          }
        }
      ]
    },
    {
      "cell_type": "code",
      "source": [
        "plt.plot( r.history[\"accuracy\"], label=\"accuracy\")\n",
        "plt.plot( r.history[\"val_accuracy\"], label=\"val_accuracy\")\n",
        "plt.xlabel(\"Épocas\")\n",
        "plt.ylabel(\"Acurácia\")\n",
        "plt.xticks(np.arange(0, epochs, step=1))\n",
        "plt.legend()"
      ],
      "metadata": {
        "colab": {
          "base_uri": "https://localhost:8080/",
          "height": 298
        },
        "id": "l2zLRuKs1xx8",
        "outputId": "dafd5aea-8d02-43e3-d446-a93964884f74"
      },
      "execution_count": null,
      "outputs": [
        {
          "output_type": "execute_result",
          "data": {
            "text/plain": [
              "<matplotlib.legend.Legend at 0x7f542d8157f0>"
            ]
          },
          "metadata": {},
          "execution_count": 46
        },
        {
          "output_type": "display_data",
          "data": {
            "text/plain": [
              "<Figure size 432x288 with 1 Axes>"
            ],
            "image/png": "[encoded data removed]"
          },
          "metadata": {
            "needs_background": "light"
          }
        }
      ]
    },
    {
      "cell_type": "code",
      "source": [
        "texto = \"Before I introduce myself <escreva um texto aqui> \"\n",
        "seq_texto = tokenizer.texts_to_sequences([texto])\n",
        "data_texto = pad_sequences(seq_texto, maxlen=T)\n",
        "pred = model.predict(data_texto)\n",
        "print(pred)\n",
        "print (\"SPAM\" if pred >= 0.5 else \"OK\")"
      ],
      "metadata": {
        "colab": {
          "base_uri": "https://localhost:8080/"
        },
        "id": "HPl_vHWt1z4O",
        "outputId": "30e723ac-0f07-4d54-dc1e-57577b29854f"
      },
      "execution_count": null,
      "outputs": [
        {
          "output_type": "stream",
          "name": "stdout",
          "text": [
            "1/1 [==============================] - 1s 617ms/step\n",
            "[[0.00539593]]\n",
            "OK\n"
          ]
        }
      ]
    },
    {
      "cell_type": "markdown",
      "source": [
        "# Shakespeare: Geração de texto"
      ],
      "metadata": {
        "id": "sav-IfLM1QfI"
      }
    },
    {
      "cell_type": "code",
      "source": [
        "import tensorflow as tf\n",
        "import numpy as np\n",
        "import os\n",
        "import time"
      ],
      "metadata": {
        "id": "pJ5XVcO01ScT"
      },
      "execution_count": null,
      "outputs": []
    },
    {
      "cell_type": "code",
      "source": [
        "path_to_file = tf.keras.utils.get_file('shakespeare.txt','https://storage.googleapis.com/download.tensorflow.org/data/shakespeare.txt')\n",
        "# Leitura do texto\n",
        "text = open(path_to_file, 'rb').read().decode(encoding='utf-8')\n",
        "# Tamanho do texto em número de caracteres\n",
        "print(f'Tamanho do texto: {len(text)} caracteres')\n",
        "# Primeiros 250 caracteres do texto\n",
        "print(text[:250])\n",
        "# Caracteres únicos\n",
        "vocab = sorted(set(text))\n",
        "print(f'{len(vocab)} caracters únicos')"
      ],
      "metadata": {
        "colab": {
          "base_uri": "https://localhost:8080/"
        },
        "id": "OOAEi5Hp1-Ke",
        "outputId": "0603713a-cdb8-47db-e553-4c15622f1e24"
      },
      "execution_count": null,
      "outputs": [
        {
          "output_type": "stream",
          "name": "stdout",
          "text": [
            "Downloading data from https://storage.googleapis.com/download.tensorflow.org/data/shakespeare.txt\n",
            "1115394/1115394 [==============================] - 0s 0us/step\n",
            "Tamanho do texto: 1115394 caracteres\n",
            "First Citizen:\n",
            "Before we proceed any further, hear me speak.\n",
            "\n",
            "All:\n",
            "Speak, speak.\n",
            "\n",
            "First Citizen:\n",
            "You are all resolved rather to die than to famish?\n",
            "\n",
            "All:\n",
            "Resolved. resolved.\n",
            "\n",
            "First Citizen:\n",
            "First, you know Caius Marcius is chief enemy to the people.\n",
            "\n",
            "65 caracters únicos\n"
          ]
        }
      ]
    },
    {
      "cell_type": "code",
      "source": [
        "# Processamento do texto\n",
        "# Converte um caractere em um ID único\n",
        "ids_from_chars = tf.keras.layers.StringLookup(vocabulary=list(vocab), mask_token=None)\n",
        "# Faz o contrário, converte os IDs em caracteres\n",
        "chars_from_ids = tf.keras.layers.StringLookup(vocabulary=ids_from_chars.get_vocabulary(), invert=True, mask_token=None)\n",
        "# Função onde, dado uma lista de IDs, gera o texto\n",
        "def text_from_ids(ids):\n",
        "  return tf.strings.reduce_join(chars_from_ids(ids), axis=-1)"
      ],
      "metadata": {
        "id": "C59OA57G2B-X"
      },
      "execution_count": null,
      "outputs": []
    },
    {
      "cell_type": "code",
      "source": [
        "# Gerar base de treino\n",
        "# Exemplo : Para a palagra \"Hello\"\n",
        "# Suponha seq_length = 4\n",
        "# Então: Entrada \"Hell\" e Saída \"ello\"\n",
        "# Tem que dividir o texto em pedaços de tamanho seq_length+1\n",
        "# from_tensor_slices - cria um dataset com os dados\n",
        "all_ids = ids_from_chars(tf.strings.unicode_split(text, 'UTF-8'))\n",
        "ids_dataset = tf.data.Dataset.from_tensor_slices(all_ids)\n",
        "seq_length = 100\n",
        "examples_per_epoch = len(text)//(seq_length+1)\n",
        "# Converte as sequências no tamanho desejado : seq_length+1\n",
        "sequences = ids_dataset.batch(seq_length+1, drop_remainder=True)\n",
        "for seq in sequences.take(5):\n",
        "  print(text_from_ids(seq).numpy())"
      ],
      "metadata": {
        "colab": {
          "base_uri": "https://localhost:8080/"
        },
        "id": "R7R5u5cX2EOJ",
        "outputId": "d96844f9-9a38-4543-cddd-df22aed574e0"
      },
      "execution_count": null,
      "outputs": [
        {
          "output_type": "stream",
          "name": "stdout",
          "text": [
            "b'First Citizen:\\nBefore we proceed any further, hear me speak.\\n\\nAll:\\nSpeak, speak.\\n\\nFirst Citizen:\\nYou '\n",
            "b'are all resolved rather to die than to famish?\\n\\nAll:\\nResolved. resolved.\\n\\nFirst Citizen:\\nFirst, you k'\n",
            "b\"now Caius Marcius is chief enemy to the people.\\n\\nAll:\\nWe know't, we know't.\\n\\nFirst Citizen:\\nLet us ki\"\n",
            "b\"ll him, and we'll have corn at our own price.\\nIs't a verdict?\\n\\nAll:\\nNo more talking on't; let it be d\"\n",
            "b'one: away, away!\\n\\nSecond Citizen:\\nOne word, good citizens.\\n\\nFirst Citizen:\\nWe are accounted poor citi'\n"
          ]
        }
      ]
    },
    {
      "cell_type": "code",
      "source": [
        "# Função onde, dado uma sequência \"Hello\", gera entrada e saída: \"Hell\" e \"ello\"\n",
        "def split_input_target(sequence):\n",
        "  input_text = sequence[:-1]\n",
        "  target_text = sequence[1:]\n",
        "  return input_text, target_text\n",
        "# dataset contém as sequências contendo entrada e saída\n",
        "dataset = sequences.map(split_input_target)\n",
        "# Criar lotes de treinamento\n",
        "# Batch size\n",
        "BATCH_SIZE = 64\n",
        "# Tamanho do buffer para randomizar o dataset\n",
        "BUFFER_SIZE = 10000\n",
        "dataset = (\n",
        "dataset\n",
        "  .shuffle(BUFFER_SIZE)\n",
        "  .batch(BATCH_SIZE, drop_remainder=True)\n",
        "  .prefetch(tf.data.experimental.AUTOTUNE))"
      ],
      "metadata": {
        "id": "NfwrzFy52IIV"
      },
      "execution_count": null,
      "outputs": []
    },
    {
      "cell_type": "code",
      "source": [
        "# Construir o modelo\n",
        "# Tamanho do vocabulário em número de caracteres\n",
        "vocab_size = len(vocab)\n",
        "# Dimensão do Embedding\n",
        "embedding_dim = 256\n",
        "# Número de unidades RNN\n",
        "rnn_units = 1024"
      ],
      "metadata": {
        "id": "CCYEtVJ_2OjR"
      },
      "execution_count": null,
      "outputs": []
    },
    {
      "cell_type": "code",
      "source": [
        "# Classe que gera o modelo: Embedding -> GRU -> Dense\n",
        "class MyModel(tf.keras.Model):\n",
        "  def __init__(self, vocab_size, embedding_dim, rnn_units):\n",
        "    super().__init__(self)\n",
        "    self.embedding = tf.keras.layers.Embedding(vocab_size, embedding_dim)\n",
        "    self.gru = tf.keras.layers.GRU(rnn_units,\n",
        "                                  return_sequences=True,\n",
        "                                  return_state=True)\n",
        "    self.dense = tf.keras.layers.Dense(vocab_size)\n",
        "  def call(self, inputs, states=None, return_state=False, training=False):\n",
        "    x = inputs\n",
        "    x = self.embedding(x, training=training)\n",
        "    if states is None:\n",
        "      states = self.gru.get_initial_state(x)\n",
        "    x, states = self.gru(x, initial_state=states, training=training)\n",
        "    x = self.dense(x, training=training)\n",
        "    if return_state:\n",
        "      return x, states\n",
        "    else:\n",
        "      return x"
      ],
      "metadata": {
        "id": "ZbrYmbSY2Un4"
      },
      "execution_count": null,
      "outputs": []
    },
    {
      "cell_type": "code",
      "source": [
        "# Criação do modelo\n",
        "model = MyModel(\n",
        "# Be sure the vocabulary size matches the `StringLookup` layers.\n",
        "vocab_size=len(ids_from_chars.get_vocabulary()),\n",
        "embedding_dim=embedding_dim,\n",
        "rnn_units=rnn_units)"
      ],
      "metadata": {
        "id": "sDqQ0RuJ2hoD"
      },
      "execution_count": null,
      "outputs": []
    },
    {
      "cell_type": "code",
      "source": [
        "# Função de perda é sparse_categorical_crossentropy\n",
        "# Modelo retorna Logits, sinaliza from_logits\n",
        "loss = tf.losses.SparseCategoricalCrossentropy(from_logits=True)\n",
        "# Compila o modelo\n",
        "model.compile(optimizer='adam', loss=loss)\n",
        "# Treinar\n",
        "EPOCHS = 20\n",
        "history = model.fit(dataset, epochs=EPOCHS)"
      ],
      "metadata": {
        "colab": {
          "base_uri": "https://localhost:8080/"
        },
        "id": "c78wKp8-2je2",
        "outputId": "c7001535-09be-4f71-8141-4f042a1a85f7"
      },
      "execution_count": null,
      "outputs": [
        {
          "output_type": "stream",
          "name": "stdout",
          "text": [
            "Epoch 1/20\n",
            "172/172 [==============================] - 896s 5s/step - loss: 2.7199\n",
            "Epoch 2/20\n",
            "172/172 [==============================] - 872s 5s/step - loss: 1.9857\n",
            "Epoch 3/20\n",
            "172/172 [==============================] - 872s 5s/step - loss: 1.7065\n",
            "Epoch 4/20\n",
            "172/172 [==============================] - 924s 5s/step - loss: 1.5469\n",
            "Epoch 5/20\n",
            "172/172 [==============================] - 924s 5s/step - loss: 1.4499\n",
            "Epoch 6/20\n",
            "172/172 [==============================] - 875s 5s/step - loss: 1.3826\n",
            "Epoch 7/20\n",
            "172/172 [==============================] - 872s 5s/step - loss: 1.3302\n",
            "Epoch 8/20\n",
            "172/172 [==============================] - 947s 5s/step - loss: 1.2869\n",
            "Epoch 9/20\n",
            "172/172 [==============================] - 963s 6s/step - loss: 1.2460\n",
            "Epoch 10/20\n",
            "172/172 [==============================] - 931s 5s/step - loss: 1.2069\n",
            "Epoch 11/20\n",
            "172/172 [==============================] - 932s 5s/step - loss: 1.1685\n",
            "Epoch 12/20\n",
            "172/172 [==============================] - 919s 5s/step - loss: 1.1277\n",
            "Epoch 13/20\n",
            "172/172 [==============================] - 923s 5s/step - loss: 1.0851\n",
            "Epoch 14/20\n",
            "172/172 [==============================] - 927s 5s/step - loss: 1.0403\n",
            "Epoch 15/20\n",
            "172/172 [==============================] - 918s 5s/step - loss: 0.9930\n",
            "Epoch 16/20\n",
            "172/172 [==============================] - 914s 5s/step - loss: 0.9417\n",
            "Epoch 17/20\n",
            "172/172 [==============================] - 917s 5s/step - loss: 0.8914\n",
            "Epoch 18/20\n",
            "172/172 [==============================] - 908s 5s/step - loss: 0.8385\n",
            "Epoch 19/20\n",
            "172/172 [==============================] - 922s 5s/step - loss: 0.7871\n",
            "Epoch 20/20\n",
            "172/172 [==============================] - 927s 5s/step - loss: 0.7387\n"
          ]
        }
      ]
    },
    {
      "cell_type": "code",
      "source": [
        "class OneStep(tf.keras.Model):\n",
        "  def __init__(self, model, chars_from_ids, ids_from_chars, temperature=1.0):\n",
        "    super().__init__()\n",
        "    self.temperature = temperature\n",
        "    self.model = model\n",
        "    self.chars_from_ids = chars_from_ids\n",
        "    self.ids_from_chars = ids_from_chars\n",
        "    # Create a mask to prevent \"[UNK]\" from being generated.\n",
        "    skip_ids = self.ids_from_chars(['[UNK]'])[:, None]\n",
        "    sparse_mask = tf.SparseTensor(\n",
        "        # Put a -inf at each bad index.\n",
        "        values=[-float('inf')]*len(skip_ids),\n",
        "        indices=skip_ids,\n",
        "        # Match the shape to the vocabulary\n",
        "        dense_shape=[len(ids_from_chars.get_vocabulary())])\n",
        "    self.prediction_mask = tf.sparse.to_dense(sparse_mask)\n",
        "  \n",
        "  @tf.function\n",
        "  def generate_one_step(self, inputs, states=None):\n",
        "    # Convert strings to token IDs.\n",
        "    input_chars = tf.strings.unicode_split(inputs, 'UTF-8')\n",
        "    input_ids = self.ids_from_chars(input_chars).to_tensor()\n",
        "    # Run the model.\n",
        "    # predicted_logits.shape is [batch, char, next_char_logits]\n",
        "    predicted_logits, states = self.model(inputs=input_ids, states=states,\n",
        "    return_state=True)\n",
        "    # Only use the last prediction.\n",
        "    predicted_logits = predicted_logits[:, -1, :]\n",
        "    predicted_logits = predicted_logits/self.temperature\n",
        "    # Apply the prediction mask: prevent \"[UNK]\" from being generated.\n",
        "    predicted_logits = predicted_logits + self.prediction_mask\n",
        "    # Sample the output logits to generate token IDs.\n",
        "    predicted_ids = tf.random.categorical(predicted_logits, num_samples=1)\n",
        "    predicted_ids = tf.squeeze(predicted_ids, axis=-1)\n",
        "    # Convert from token ids to characters\n",
        "    predicted_chars = self.chars_from_ids(predicted_ids)\n",
        "    # Return the characters and model state.\n",
        "    return predicted_chars, states"
      ],
      "metadata": {
        "id": "D5-87wfz2k6J"
      },
      "execution_count": null,
      "outputs": []
    },
    {
      "cell_type": "code",
      "source": [
        "one_step_model = OneStep(model, chars_from_ids, ids_from_chars)\n",
        "# Executar em um laço para gera o texto\n",
        "start = time.time()\n",
        "states = None\n",
        "next_char = tf.constant(['ROMEO:'])\n",
        "result = [next_char]\n",
        "for n in range(1000):\n",
        "  next_char, states = one_step_model.generate_one_step(next_char, states=states)\n",
        "  result.append(next_char)\n",
        "result = tf.strings.join(result)\n",
        "end = time.time()\n",
        "print(result[0].numpy().decode('utf-8'), '\\n\\n' + '_'*80)\n",
        "print('\\nRun time:', end - start)"
      ],
      "metadata": {
        "id": "xhAp1f452wn4",
        "colab": {
          "base_uri": "https://localhost:8080/"
        },
        "outputId": "10d8ae7d-85dc-482d-eb46-993272934dd6"
      },
      "execution_count": null,
      "outputs": [
        {
          "output_type": "stream",
          "name": "stdout",
          "text": [
            "ROMEO:\n",
            "There's comfort. It was wont to come upon the city?\n",
            "\n",
            "POMPEY:\n",
            "If your misery hearing of my lands and goods are rid, forgive;\n",
            "More than our brother with laments boast.\n",
            "\n",
            "HORTENSIO:\n",
            "Fear you not well your worship is done away?\n",
            "\n",
            "ANGELO:\n",
            "Yet leave the king at scarce:\n",
            "The season body in the day he will unmurder?\n",
            "Then, fellow and me, as I do bending death:\n",
            "Wherein these first hath dineded but by the dost,\n",
            "And, by the reason, did it be so lean,\n",
            "Scarious in to those that shall I do,\n",
            "He were request your state. Fight upon you, lords,\n",
            "May show all forsook hearing that he would not,\n",
            "Yet doth we have here behind, me once\n",
            "receive King Henry's use our lights upon this?\n",
            "O that offer here, this shipts starts forricle!\n",
            "Duke mightily being waste: hath seen him spead,\n",
            "What duty the meanest faint unto Vincentio of death,\n",
            "The Volsces flood at Pembroke: if he\n",
            "swears, hot like a trank. O gentle village,\n",
            "O cup of uncell'd sorrow's empoiced; and hirstes\n",
            "Let forth more still lives from me the case.\n",
            "\n",
            "KING RICHARD \n",
            "\n",
            "________________________________________________________________________________\n",
            "\n",
            "Run time: 6.798264026641846\n"
          ]
        }
      ]
    }
  ]
}